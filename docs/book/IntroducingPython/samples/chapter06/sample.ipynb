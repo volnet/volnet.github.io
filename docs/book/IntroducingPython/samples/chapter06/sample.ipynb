{
 "cells": [
  {
   "cell_type": "markdown",
   "metadata": {},
   "source": [
    "### 6.2 使用class定义类"
   ]
  },
  {
   "cell_type": "code",
   "execution_count": 1,
   "metadata": {},
   "outputs": [
    {
     "name": "stdout",
     "output_type": "stream",
     "text": [
      "<__main__.Person object at 0x1081dda58>\n"
     ]
    }
   ],
   "source": [
    "class Person():\n",
    "    pass\n",
    "\n",
    "a = Person()\n",
    "print(a)"
   ]
  },
  {
   "cell_type": "code",
   "execution_count": 12,
   "metadata": {},
   "outputs": [
    {
     "name": "stdout",
     "output_type": "stream",
     "text": [
      "__init__:\n",
      "<__main__.Person object at 0x10820f358>\n",
      "Outside:\n",
      "<__main__.Person object at 0x10820f358>\n"
     ]
    }
   ],
   "source": [
    "class Person():\n",
    "    def __init__(self):\n",
    "        print('__init__:')\n",
    "        print(self)\n",
    "\n",
    "a = Person()\n",
    "print('Outside:')\n",
    "print(a)"
   ]
  },
  {
   "cell_type": "code",
   "execution_count": 14,
   "metadata": {},
   "outputs": [
    {
     "name": "stdout",
     "output_type": "stream",
     "text": [
      "Amily\n"
     ]
    }
   ],
   "source": [
    "class Person():\n",
    "    def __init__(self, name):\n",
    "        self.name = name\n",
    "\n",
    "a = Person('Amily')\n",
    "print(a.name)"
   ]
  },
  {
   "cell_type": "markdown",
   "metadata": {},
   "source": [
    "### 6.3 继承"
   ]
  },
  {
   "cell_type": "code",
   "execution_count": 15,
   "metadata": {},
   "outputs": [
    {
     "name": "stdout",
     "output_type": "stream",
     "text": [
      "I'm a Car!\n",
      "I'm a Car!\n"
     ]
    }
   ],
   "source": [
    "class Car():\n",
    "    def exclaim(self):\n",
    "        print(\"I'm a Car!\")\n",
    "        \n",
    "class Yugo(Car):\n",
    "    pass\n",
    "\n",
    "give_me_a_car = Car()\n",
    "give_me_a_yugo = Yugo()\n",
    "\n",
    "give_me_a_car.exclaim()\n",
    "give_me_a_yugo.exclaim()"
   ]
  },
  {
   "cell_type": "markdown",
   "metadata": {},
   "source": [
    "### 6.4 覆盖方法"
   ]
  },
  {
   "cell_type": "code",
   "execution_count": 16,
   "metadata": {},
   "outputs": [
    {
     "name": "stdout",
     "output_type": "stream",
     "text": [
      "I'm a Car!\n",
      "I'm a Yugo! Much like a Car, but more Yugo-ish.\n"
     ]
    }
   ],
   "source": [
    "class Car():\n",
    "    def exclaim(self):\n",
    "        print(\"I'm a Car!\")\n",
    "        \n",
    "class Yugo(Car):\n",
    "    def exclaim(self):\n",
    "        print(\"I'm a Yugo! Much like a Car, but more Yugo-ish.\")\n",
    "\n",
    "give_me_a_car = Car()\n",
    "give_me_a_yugo = Yugo()\n",
    "\n",
    "give_me_a_car.exclaim()\n",
    "give_me_a_yugo.exclaim()"
   ]
  },
  {
   "cell_type": "markdown",
   "metadata": {},
   "source": [
    "### 6.6 使用super从父类得到帮助"
   ]
  },
  {
   "cell_type": "code",
   "execution_count": 18,
   "metadata": {},
   "outputs": [
    {
     "name": "stdout",
     "output_type": "stream",
     "text": [
      "Amily, amily@github.com\n",
      "Amily, amily@github.com, 123456\n"
     ]
    }
   ],
   "source": [
    "class Person():\n",
    "    def __init__(self, name):\n",
    "        self.name = name\n",
    "        \n",
    "class EmailPerson(Person):\n",
    "    def __init__(self, name, email):\n",
    "        super().__init__(name)\n",
    "        self.email = email\n",
    "        \n",
    "class PhoneEmailPerson(EmailPerson):\n",
    "    def __init__(self, name, email, phone):\n",
    "        super().__init__(name, email)\n",
    "        self.phone = phone\n",
    "\n",
    "a = EmailPerson('Amily', 'amily@github.com')\n",
    "print(a.name + ', ' + a.email)\n",
    "\n",
    "b = PhoneEmailPerson('Amily', 'amily@github.com', '123456')\n",
    "print(b.name + ', ' + b.email + ', ' + b.phone)"
   ]
  },
  {
   "cell_type": "markdown",
   "metadata": {},
   "source": [
    "### 6.7 self的自辩"
   ]
  },
  {
   "cell_type": "code",
   "execution_count": 19,
   "metadata": {},
   "outputs": [
    {
     "name": "stdout",
     "output_type": "stream",
     "text": [
      "I'm a Car! My Name is Jucy\n",
      "I'm a Car! My Name is Lily\n"
     ]
    }
   ],
   "source": [
    "class Car():\n",
    "    def __init__(self, name):\n",
    "        self.name = name\n",
    "    def exclaim(self):\n",
    "        print(\"I'm a Car! My Name is \" + self.name)\n",
    "        \n",
    "a = Car('Jucy')\n",
    "a.exclaim()\n",
    "\n",
    "b = Car('Lily')\n",
    "Car.exclaim(b)"
   ]
  },
  {
   "cell_type": "markdown",
   "metadata": {},
   "source": [
    "### 6.8 使用属性对特性进行访问和设置"
   ]
  },
  {
   "cell_type": "code",
   "execution_count": 16,
   "metadata": {},
   "outputs": [
    {
     "name": "stdout",
     "output_type": "stream",
     "text": [
      "------------\n",
      "inside set_name\n",
      "------------\n",
      "inside get_name\n",
      "V's TESLA\n",
      "------------\n",
      "V's TESLA\n",
      "------------\n",
      "inside get_name\n",
      "V's TESLA\n",
      "------------\n",
      "inside name setter\n",
      "------------\n",
      "inside name getter\n",
      "Red\n",
      "------------\n",
      "tesla.inner_price=100.0\n",
      "tesla.sale_price=120.0\n"
     ]
    }
   ],
   "source": [
    "class Car():\n",
    "    def get_name(self):\n",
    "        print('inside get_name')\n",
    "        return self.hidden_name\n",
    "    def set_name(self, input_name):\n",
    "        self.hidden_name = input_name\n",
    "        print('inside set_name')\n",
    "    name = property(get_name, set_name)\n",
    "    \n",
    "    @property\n",
    "    def color(self):\n",
    "        print('inside name getter')\n",
    "        return self.hidden_color\n",
    "    @color.setter\n",
    "    def color(self, input_color):\n",
    "        print('inside name setter')\n",
    "        self.hidden_color = input_color\n",
    "    \n",
    "    @property\n",
    "    def sale_price(self):\n",
    "        return self.inner_price * 1.2\n",
    "\n",
    "tesla = Car()\n",
    "print('------------')\n",
    "tesla.name = \"V's TESLA\"\n",
    "print('------------')\n",
    "print(tesla.name)\n",
    "print('------------')\n",
    "print(tesla.hidden_name)\n",
    "print('------------')\n",
    "print(tesla.get_name())\n",
    "print('------------')\n",
    "tesla.color = 'Red'\n",
    "print('------------')\n",
    "print(tesla.color)\n",
    "print('------------')\n",
    "tesla.inner_price = 100\n",
    "print('tesla.inner_price=' + str(float(tesla.inner_price)))\n",
    "print('tesla.sale_price=' + str(tesla.sale_price))"
   ]
  },
  {
   "cell_type": "code",
   "execution_count": 21,
   "metadata": {},
   "outputs": [
    {
     "name": "stdout",
     "output_type": "stream",
     "text": [
      "inside get_name\n",
      "BMW\n",
      "BMW\n"
     ]
    },
    {
     "ename": "AttributeError",
     "evalue": "'Car' object has no attribute '__name'",
     "output_type": "error",
     "traceback": [
      "\u001b[0;31m---------------------------------------------------------------------------\u001b[0m",
      "\u001b[0;31mAttributeError\u001b[0m                            Traceback (most recent call last)",
      "\u001b[0;32m<ipython-input-21-81de2b28e2cc>\u001b[0m in \u001b[0;36m<module>\u001b[0;34m()\u001b[0m\n\u001b[1;32m     13\u001b[0m \u001b[0mprint\u001b[0m\u001b[0;34m(\u001b[0m\u001b[0mcar\u001b[0m\u001b[0;34m.\u001b[0m\u001b[0mname\u001b[0m\u001b[0;34m)\u001b[0m\u001b[0;34m\u001b[0m\u001b[0m\n\u001b[1;32m     14\u001b[0m \u001b[0mprint\u001b[0m\u001b[0;34m(\u001b[0m\u001b[0mcar\u001b[0m\u001b[0;34m.\u001b[0m\u001b[0m_Car__name\u001b[0m\u001b[0;34m)\u001b[0m\u001b[0;34m\u001b[0m\u001b[0m\n\u001b[0;32m---> 15\u001b[0;31m \u001b[0mprint\u001b[0m\u001b[0;34m(\u001b[0m\u001b[0mcar\u001b[0m\u001b[0;34m.\u001b[0m\u001b[0m__name\u001b[0m\u001b[0;34m)\u001b[0m \u001b[0;31m#error\u001b[0m\u001b[0;34m\u001b[0m\u001b[0m\n\u001b[0m",
      "\u001b[0;31mAttributeError\u001b[0m: 'Car' object has no attribute '__name'"
     ]
    }
   ],
   "source": [
    "class Car():\n",
    "    def __init__(self, input_name):\n",
    "        self.__name = input_name\n",
    "    def get_name(self):\n",
    "        print('inside get_name')\n",
    "        return self.__name\n",
    "    def set_name(self, input_name):\n",
    "        self.__name = input_name\n",
    "        print('inside set_name')\n",
    "    name = property(get_name, set_name)\n",
    "    \n",
    "car = Car('BMW')\n",
    "print(car.name)\n",
    "print(car._Car__name)\n",
    "print(car.__name) #error: 'Car' object has no attribute '__name'"
   ]
  },
  {
   "cell_type": "markdown",
   "metadata": {},
   "source": [
    "### 6.10 方法的类型"
   ]
  },
  {
   "cell_type": "code",
   "execution_count": 8,
   "metadata": {},
   "outputs": [
    {
     "name": "stdout",
     "output_type": "stream",
     "text": [
      "A has 3 little objects\n",
      "A has 3 little objects\n",
      "Length 0\n",
      "Length 0\n",
      "Length 0\n",
      "Length 1\n",
      "Length 1\n",
      "Length 1\n"
     ]
    }
   ],
   "source": [
    "class A():\n",
    "    count = 0\n",
    "    def __init__(self):\n",
    "        A.count += 1\n",
    "        A.length = 0\n",
    "    def exclaim(self):\n",
    "        print(\"I'm an A!\")\n",
    "    @classmethod\n",
    "    def kids(cls):\n",
    "        print(\"A has\", cls.count, \"little objects\")\n",
    "    @staticmethod\n",
    "    def kids2():\n",
    "        print(\"A has\", A.count, \"little objects\")\n",
    "    \n",
    "    @classmethod\n",
    "    def addOne(cls):\n",
    "        cls.length += 1\n",
    "    def printLength(self):\n",
    "        print(\"Length\", A.length)\n",
    "        \n",
    "easy_a = A()\n",
    "breezy_a = A()\n",
    "wheezy_a = A()\n",
    "A.kids()\n",
    "A.kids2()\n",
    "\n",
    "easy_a.printLength()\n",
    "breezy_a.printLength()\n",
    "wheezy_a.printLength()\n",
    "A.addOne()\n",
    "easy_a.printLength()\n",
    "breezy_a.printLength()\n",
    "wheezy_a.printLength()"
   ]
  },
  {
   "cell_type": "markdown",
   "metadata": {},
   "source": [
    "### 6.11 鸭子类型"
   ]
  },
  {
   "cell_type": "code",
   "execution_count": 11,
   "metadata": {},
   "outputs": [
    {
     "name": "stdout",
     "output_type": "stream",
     "text": [
      "A1: hello\n",
      "A2: hello\n",
      "A3: hello\n",
      "B: hello\n"
     ]
    }
   ],
   "source": [
    "class A1():\n",
    "    def hello(self):\n",
    "        print('A1: hello')\n",
    "class A2(A1):\n",
    "    def hello(self):\n",
    "        print('A2: hello')\n",
    "class A3(A2):\n",
    "    def hello(self):\n",
    "        print('A3: hello')\n",
    "class B:\n",
    "    def hello(self):\n",
    "        print('B: hello')\n",
    "\n",
    "def say_hello(obj):\n",
    "    obj.hello()\n",
    "    \n",
    "say_hello(A1())\n",
    "say_hello(A2())\n",
    "say_hello(A3())\n",
    "say_hello(B())"
   ]
  },
  {
   "cell_type": "markdown",
   "metadata": {},
   "source": [
    "### 6.12 特殊方法"
   ]
  },
  {
   "cell_type": "code",
   "execution_count": 24,
   "metadata": {},
   "outputs": [
    {
     "name": "stdout",
     "output_type": "stream",
     "text": [
      "self == other\n",
      "self != other\n",
      "self < other\n",
      "self > other\n",
      "self <= other\n",
      "self >= other\n",
      "----------\n",
      "self + other\n",
      "self - other\n",
      "self * other\n",
      "self // other\n",
      "self / other\n",
      "self % other\n",
      "self ** other\n",
      "----------\n",
      "str(self)\n",
      "repr(self) -- 在交互式解释器的时候会输出\n",
      "len(self)\n"
     ]
    },
    {
     "data": {
      "text/plain": [
       "0"
      ]
     },
     "execution_count": 24,
     "metadata": {},
     "output_type": "execute_result"
    }
   ],
   "source": [
    "class SpecialMethod():\n",
    "    def __eq__(self, other):\n",
    "        print('self == other')\n",
    "    def __ne__(self, other):\n",
    "        print('self != other')\n",
    "    def __lt__(self, other):\n",
    "        print('self < other')\n",
    "    def __gt__(self, other):\n",
    "        print('self > other')\n",
    "    def __le__(self, other):\n",
    "        print('self <= other')\n",
    "    def __ge__(self, other):\n",
    "        print('self >= other')\n",
    "        \n",
    "    def __add__(self, other):\n",
    "        print('self + other')\n",
    "    def __sub__(self, other):\n",
    "        print('self - other')\n",
    "    def __mul__(self, other):\n",
    "        print('self * other')\n",
    "    def __floordiv__(self, other):\n",
    "        print('self // other')\n",
    "    def __truediv__(self, other):\n",
    "        print('self / other')\n",
    "    def __mod__(self, other):\n",
    "        print('self % other')\n",
    "    def __pow__(self, other):\n",
    "        print('self ** other')\n",
    "        \n",
    "    def __str__(self):\n",
    "        print('str(self)')\n",
    "        return ''\n",
    "    def __repr__(self):\n",
    "        print('repr(self) -- 在交互式解释器的时候会输出')\n",
    "        return ''\n",
    "    def __len__(self):\n",
    "        print('len(self)')\n",
    "        return 0\n",
    "        \n",
    "a = SpecialMethod()\n",
    "b = SpecialMethod()\n",
    "\n",
    "a == b\n",
    "a != b\n",
    "a < b\n",
    "a > b\n",
    "a <= b\n",
    "a >= b\n",
    "\n",
    "print('----------')\n",
    "a + b\n",
    "a - b\n",
    "a * b\n",
    "a // b\n",
    "a / b\n",
    "a % b\n",
    "a ** b\n",
    "\n",
    "print('----------')\n",
    "str(a)\n",
    "repr(a)\n",
    "len(a)"
   ]
  },
  {
   "cell_type": "markdown",
   "metadata": {},
   "source": [
    "### 6.14 何时使用类和对象而不是模块"
   ]
  },
  {
   "cell_type": "code",
   "execution_count": 1,
   "metadata": {},
   "outputs": [
    {
     "name": "stdout",
     "output_type": "stream",
     "text": [
      "Duck(value1='what', value2='how')\n",
      "what\n",
      "how\n",
      "Duck(value1='when', value2='which')\n",
      "Duck(value1='where', value2='while')\n"
     ]
    }
   ],
   "source": [
    "from collections import namedtuple\n",
    "Duck = namedtuple('Duck', 'value1 value2')\n",
    "duck = Duck('what', 'how')\n",
    "print(duck)\n",
    "print(duck.value1)\n",
    "print(duck.value2)\n",
    "\n",
    "parts = {'value1': 'when', 'value2': 'which'}\n",
    "duck2 = Duck(**parts)\n",
    "print(duck2)\n",
    "\n",
    "duck3 = duck2._replace(value1='where', value2='while')\n",
    "print(duck3)"
   ]
  },
  {
   "cell_type": "code",
   "execution_count": null,
   "metadata": {},
   "outputs": [],
   "source": []
  }
 ],
 "metadata": {
  "kernelspec": {
   "display_name": "Python 3",
   "language": "python",
   "name": "python3"
  },
  "language_info": {
   "codemirror_mode": {
    "name": "ipython",
    "version": 3
   },
   "file_extension": ".py",
   "mimetype": "text/x-python",
   "name": "python",
   "nbconvert_exporter": "python",
   "pygments_lexer": "ipython3",
   "version": "3.6.4"
  }
 },
 "nbformat": 4,
 "nbformat_minor": 2
}
