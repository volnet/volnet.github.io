{
 "cells": [
  {
   "cell_type": "markdown",
   "metadata": {},
   "source": [
    "#### 3.2.2 使用list()将其他数据类型转换成列表"
   ]
  },
  {
   "cell_type": "code",
   "execution_count": 1,
   "metadata": {},
   "outputs": [
    {
     "name": "stdout",
     "output_type": "stream",
     "text": [
      "['c', 'a', 't']\n"
     ]
    }
   ],
   "source": [
    "a = list('cat')\n",
    "print(a)"
   ]
  },
  {
   "cell_type": "code",
   "execution_count": 2,
   "metadata": {},
   "outputs": [
    {
     "name": "stdout",
     "output_type": "stream",
     "text": [
      "['ready', 'fire', 'aim']\n"
     ]
    }
   ],
   "source": [
    "a_tuple = ('ready', 'fire', 'aim')\n",
    "a = list(a_tuple)\n",
    "print(a)"
   ]
  },
  {
   "cell_type": "code",
   "execution_count": 3,
   "metadata": {},
   "outputs": [
    {
     "name": "stdout",
     "output_type": "stream",
     "text": [
      "['1', '6', '1952']\n"
     ]
    }
   ],
   "source": [
    "birthday = '1/6/1952'\n",
    "a = birthday.split('/')\n",
    "print(a)"
   ]
  },
  {
   "cell_type": "code",
   "execution_count": 4,
   "metadata": {},
   "outputs": [
    {
     "name": "stdout",
     "output_type": "stream",
     "text": [
      "['a', 'b', '', 'c', 'd', '', '', 'e']\n"
     ]
    }
   ],
   "source": [
    "splitme = 'a/b//c/d///e'\n",
    "a = splitme.split('/')\n",
    "print(a)"
   ]
  },
  {
   "cell_type": "code",
   "execution_count": 5,
   "metadata": {},
   "outputs": [
    {
     "name": "stdout",
     "output_type": "stream",
     "text": [
      "['a/b', 'c/d', '/e']\n"
     ]
    }
   ],
   "source": [
    "splitme = 'a/b//c/d///e'\n",
    "a = splitme.split('//')\n",
    "print(a)"
   ]
  },
  {
   "cell_type": "markdown",
   "metadata": {},
   "source": [
    "#### 3.2.3 使用[offset]获取元素"
   ]
  },
  {
   "cell_type": "code",
   "execution_count": 8,
   "metadata": {},
   "outputs": [
    {
     "name": "stdout",
     "output_type": "stream",
     "text": [
      "Groucho\n",
      "Chico\n",
      "Harpo\n",
      "Harpo\n",
      "Chico\n",
      "Groucho\n"
     ]
    }
   ],
   "source": [
    "marxes = ['Groucho', 'Chico', 'Harpo']\n",
    "\n",
    "print(marxes[0])\n",
    "print(marxes[1])\n",
    "print(marxes[2])\n",
    "\n",
    "print(marxes[-1])\n",
    "print(marxes[-2])\n",
    "print(marxes[-3])"
   ]
  },
  {
   "cell_type": "markdown",
   "metadata": {},
   "source": [
    "#### 3.2.4 包含列表的列表"
   ]
  },
  {
   "cell_type": "code",
   "execution_count": 12,
   "metadata": {},
   "outputs": [
    {
     "name": "stdout",
     "output_type": "stream",
     "text": [
      "[1, 'a', ['c', 'd'], (1, 2, '3')]\n",
      "['c', 'd']\n",
      "d\n",
      "3\n"
     ]
    }
   ],
   "source": [
    "a = [1, 'a', ['c', 'd'], (1,2,'3')]\n",
    "print(a)\n",
    "print(a[2])\n",
    "print(a[2][1])\n",
    "print(a[3][2])"
   ]
  },
  {
   "cell_type": "markdown",
   "metadata": {},
   "source": [
    "#### 3.2.5 使用[offset]修改元素"
   ]
  },
  {
   "cell_type": "code",
   "execution_count": 13,
   "metadata": {},
   "outputs": [
    {
     "name": "stdout",
     "output_type": "stream",
     "text": [
      "[1, 2]\n"
     ]
    }
   ],
   "source": [
    "a = [1, 'a']\n",
    "a[1] = 2\n",
    "print(a)"
   ]
  },
  {
   "cell_type": "code",
   "execution_count": 22,
   "metadata": {},
   "outputs": [
    {
     "name": "stdout",
     "output_type": "stream",
     "text": [
      "b\n"
     ]
    },
    {
     "ename": "TypeError",
     "evalue": "'str' object does not support item assignment",
     "output_type": "error",
     "traceback": [
      "\u001b[0;31m---------------------------------------------------------------------------\u001b[0m",
      "\u001b[0;31mTypeError\u001b[0m                                 Traceback (most recent call last)",
      "\u001b[0;32m<ipython-input-22-55d2f5788d3a>\u001b[0m in \u001b[0;36m<module>\u001b[0;34m()\u001b[0m\n\u001b[1;32m      3\u001b[0m \u001b[0;34m\u001b[0m\u001b[0m\n\u001b[1;32m      4\u001b[0m \u001b[0;34m'''error'''\u001b[0m\u001b[0;34m\u001b[0m\u001b[0m\n\u001b[0;32m----> 5\u001b[0;31m \u001b[0ma\u001b[0m\u001b[0;34m[\u001b[0m\u001b[0;36m1\u001b[0m\u001b[0;34m]\u001b[0m \u001b[0;34m=\u001b[0m \u001b[0;34m'x'\u001b[0m\u001b[0;34m\u001b[0m\u001b[0m\n\u001b[0m\u001b[1;32m      6\u001b[0m \u001b[0mprint\u001b[0m\u001b[0;34m(\u001b[0m\u001b[0ma\u001b[0m\u001b[0;34m)\u001b[0m\u001b[0;34m\u001b[0m\u001b[0m\n",
      "\u001b[0;31mTypeError\u001b[0m: 'str' object does not support item assignment"
     ]
    }
   ],
   "source": [
    "a = 'abc'\n",
    "print(a[1])\n",
    "\n",
    "'''error'''\n",
    "a[1] = 'x' \n",
    "print(a)"
   ]
  },
  {
   "cell_type": "markdown",
   "metadata": {},
   "source": [
    "#### 3.2.6 指定范围并使用切片提取元素"
   ]
  },
  {
   "cell_type": "code",
   "execution_count": 29,
   "metadata": {},
   "outputs": [
    {
     "name": "stdout",
     "output_type": "stream",
     "text": [
      "['Groucho', 'Chico']\n",
      "['Harpo']\n",
      "['Groucho', 'Harpo']\n",
      "['Harpo', 'Groucho']\n",
      "['Harpo', 'Chico', 'Groucho']\n"
     ]
    }
   ],
   "source": [
    "marxes = ['Groucho', 'Chico', 'Harpo']\n",
    "\n",
    "'''从指定位置0开始2（2-0）个元素'''\n",
    "print(marxes[0:2]) \n",
    "\n",
    "'''从指定位置2开始1（3-2）个元素'''\n",
    "print(marxes[2:3]) \n",
    "\n",
    "'''从列表最左端开始2（偏移量为2，不含2）个元素'''\n",
    "print(marxes[::2]) \n",
    "\n",
    "'''从右往左2（从右往左第2个元素开始，直到最左的元素结束）个元素'''\n",
    "print(marxes[::-2]) \n",
    "\n",
    "'''列表逆序（从右往左第1个元素开始，直到最左的元素结束）'''\n",
    "print(marxes[::-1]) "
   ]
  },
  {
   "cell_type": "markdown",
   "metadata": {},
   "source": [
    "#### 3.2.7 使用append()添加元素至尾部"
   ]
  },
  {
   "cell_type": "code",
   "execution_count": 30,
   "metadata": {},
   "outputs": [
    {
     "name": "stdout",
     "output_type": "stream",
     "text": [
      "['Groucho', 'Chico', 'Harpo', 'Zeppo']\n"
     ]
    }
   ],
   "source": [
    "marxes = ['Groucho', 'Chico', 'Harpo']\n",
    "marxes.append('Zeppo')\n",
    "print(marxes)"
   ]
  },
  {
   "cell_type": "markdown",
   "metadata": {},
   "source": [
    "#### 3.2.8 使用extend()或+=合并列表"
   ]
  },
  {
   "cell_type": "code",
   "execution_count": 31,
   "metadata": {},
   "outputs": [
    {
     "name": "stdout",
     "output_type": "stream",
     "text": [
      "['Groucho', 'Chico', 'Harpo', 'Gummo', 'Karl']\n"
     ]
    }
   ],
   "source": [
    "marxes = ['Groucho', 'Chico', 'Harpo']\n",
    "others = ['Gummo', 'Karl']\n",
    "marxes.extend(others)\n",
    "print(marxes)"
   ]
  },
  {
   "cell_type": "markdown",
   "metadata": {},
   "source": [
    "#### 3.2.9 使用insert()在指定位置插入元素"
   ]
  },
  {
   "cell_type": "code",
   "execution_count": 34,
   "metadata": {},
   "outputs": [
    {
     "name": "stdout",
     "output_type": "stream",
     "text": [
      "['Groucho', 'Chico', 'Harpo', 'Gummo']\n",
      "['Groucho', 'Chico', 'Harpo', 'Gummo', 'Karl']\n"
     ]
    }
   ],
   "source": [
    "marxes = ['Groucho', 'Chico', 'Harpo']\n",
    "marxes.insert(3, 'Gummo')\n",
    "print(marxes)\n",
    "\n",
    "marxes.insert(10, 'Karl')\n",
    "print(marxes)"
   ]
  },
  {
   "cell_type": "markdown",
   "metadata": {},
   "source": [
    "#### 3.2.10 使用del删除指定位置的元素"
   ]
  },
  {
   "cell_type": "code",
   "execution_count": 35,
   "metadata": {},
   "outputs": [
    {
     "name": "stdout",
     "output_type": "stream",
     "text": [
      "['Groucho', 'Chico']\n"
     ]
    }
   ],
   "source": [
    "marxes = ['Groucho', 'Chico', 'Harpo']\n",
    "del marxes[2]\n",
    "print(marxes)"
   ]
  },
  {
   "cell_type": "markdown",
   "metadata": {},
   "source": [
    "#### 3.2.11 使用remove()删除具有指定值的元素"
   ]
  },
  {
   "cell_type": "code",
   "execution_count": 36,
   "metadata": {},
   "outputs": [
    {
     "name": "stdout",
     "output_type": "stream",
     "text": [
      "['Groucho', 'Chico', 'Harpo', 'Zeppo']\n"
     ]
    }
   ],
   "source": [
    "marxes = ['Groucho', 'Chico', 'Harpo', 'Gummo', 'Zeppo']\n",
    "marxes.remove('Gummo')\n",
    "print(marxes)"
   ]
  },
  {
   "cell_type": "markdown",
   "metadata": {},
   "source": [
    "#### 3.2.12 使用pop()获取并删除指定位置的元素"
   ]
  },
  {
   "cell_type": "code",
   "execution_count": 37,
   "metadata": {},
   "outputs": [
    {
     "name": "stdout",
     "output_type": "stream",
     "text": [
      "Zeppo\n",
      "['Groucho', 'Chico', 'Harpo', 'Gummo']\n",
      "Chico\n",
      "['Groucho', 'Harpo', 'Gummo']\n"
     ]
    }
   ],
   "source": [
    "marxes = ['Groucho', 'Chico', 'Harpo', 'Gummo', 'Zeppo']\n",
    "\n",
    "a = marxes.pop()\n",
    "print(a)\n",
    "print(marxes)\n",
    "\n",
    "b = marxes.pop(1)\n",
    "print(b)\n",
    "print(marxes)"
   ]
  },
  {
   "cell_type": "markdown",
   "metadata": {},
   "source": [
    "#### 3.2.13 使用index()查询具有特定值的元素位置"
   ]
  },
  {
   "cell_type": "code",
   "execution_count": 38,
   "metadata": {},
   "outputs": [
    {
     "name": "stdout",
     "output_type": "stream",
     "text": [
      "2\n"
     ]
    }
   ],
   "source": [
    "marxes = ['Groucho', 'Chico', 'Harpo', 'Gummo', 'Zeppo']\n",
    "print(marxes.index('Harpo'))"
   ]
  },
  {
   "cell_type": "markdown",
   "metadata": {},
   "source": [
    "#### 3.2.14 使用in判断值是否存在"
   ]
  },
  {
   "cell_type": "code",
   "execution_count": 42,
   "metadata": {},
   "outputs": [
    {
     "name": "stdout",
     "output_type": "stream",
     "text": [
      "True\n",
      "A\n"
     ]
    }
   ],
   "source": [
    "marxes = ['Groucho', 'Chico', 'Harpo', 'Gummo', 'Zeppo']\n",
    "print('Groucho' in marxes)\n",
    "if('Groucho' in marxes):\n",
    "    print('A')\n",
    "else:\n",
    "    print('B')"
   ]
  },
  {
   "cell_type": "markdown",
   "metadata": {},
   "source": [
    "#### 3.2.15 使用count()记录特定值出现的次数"
   ]
  },
  {
   "cell_type": "code",
   "execution_count": 46,
   "metadata": {},
   "outputs": [
    {
     "name": "stdout",
     "output_type": "stream",
     "text": [
      "1\n",
      "0\n",
      "3\n"
     ]
    }
   ],
   "source": [
    "marxes = ['Groucho', 'Chico', 'Harpo', 'Gummo', 'Zeppo']\n",
    "print(marxes.count('Groucho'))\n",
    "\n",
    "print(marxes.count('Bob'))\n",
    "\n",
    "snl_skit = ['cheeseburger', 'cheeseburger', 'cheeseburger']\n",
    "print(snl_skit.count('cheeseburger'))"
   ]
  },
  {
   "cell_type": "markdown",
   "metadata": {},
   "source": [
    "#### 3.2.16 使用join转换为字符串"
   ]
  },
  {
   "cell_type": "code",
   "execution_count": 48,
   "metadata": {},
   "outputs": [
    {
     "name": "stdout",
     "output_type": "stream",
     "text": [
      "Harry * Hermione\n",
      "['Harry', 'Hermione']\n"
     ]
    }
   ],
   "source": [
    "friends = ['Harry', 'Hermione']\n",
    "separator = ' * '\n",
    "joined = separator.join(friends)\n",
    "print(joined)\n",
    "\n",
    "friends01 = joined.split(separator)\n",
    "print(friends01)"
   ]
  },
  {
   "cell_type": "markdown",
   "metadata": {},
   "source": [
    "#### 3.2.17 使用sort()重新排列元素"
   ]
  },
  {
   "cell_type": "code",
   "execution_count": 49,
   "metadata": {},
   "outputs": [
    {
     "name": "stdout",
     "output_type": "stream",
     "text": [
      "['Chico', 'Groucho', 'Gummo', 'Harpo', 'Zeppo']\n",
      "['Groucho', 'Chico', 'Harpo', 'Gummo', 'Zeppo']\n",
      "['Chico', 'Groucho', 'Gummo', 'Harpo', 'Zeppo']\n"
     ]
    }
   ],
   "source": [
    "marxes = ['Groucho', 'Chico', 'Harpo', 'Gummo', 'Zeppo']\n",
    "sorted_marxes = sorted(marxes)\n",
    "\n",
    "print(sorted_marxes)\n",
    "print(marxes)\n",
    "\n",
    "marxes.sort()\n",
    "print(sorted_marxes)"
   ]
  },
  {
   "cell_type": "markdown",
   "metadata": {},
   "source": [
    "#### 3.2.18 使用len()获取长度"
   ]
  },
  {
   "cell_type": "code",
   "execution_count": 51,
   "metadata": {},
   "outputs": [
    {
     "name": "stdout",
     "output_type": "stream",
     "text": [
      "5\n"
     ]
    }
   ],
   "source": [
    "marxes = ['Groucho', 'Chico', 'Harpo', 'Gummo', 'Zeppo']\n",
    "print(len(marxes))"
   ]
  },
  {
   "cell_type": "markdown",
   "metadata": {},
   "source": [
    "#### 3.2.19 使用=赋值，使用copy()复制"
   ]
  },
  {
   "cell_type": "code",
   "execution_count": 52,
   "metadata": {},
   "outputs": [
    {
     "name": "stdout",
     "output_type": "stream",
     "text": [
      "['hello', 2, 3]\n",
      "['hello', 2, 3]\n",
      "['hello', 'world', 3]\n",
      "['hello', 2, 3]\n",
      "['hello', 2, 3]\n",
      "['hello', 2, 3]\n"
     ]
    }
   ],
   "source": [
    "a = [1,2,3]\n",
    "b = a\n",
    "a[0] = 'hello'\n",
    "print(a)\n",
    "print(b)\n",
    "\n",
    "c = a.copy()\n",
    "d = list(a)\n",
    "e = a[:]\n",
    "a[1] = 'world'\n",
    "print(a)\n",
    "print(c)\n",
    "print(d)\n",
    "print(e)"
   ]
  },
  {
   "cell_type": "markdown",
   "metadata": {},
   "source": [
    "#### 3.4.1 使用{}创建字典"
   ]
  },
  {
   "cell_type": "code",
   "execution_count": 1,
   "metadata": {},
   "outputs": [
    {
     "name": "stdout",
     "output_type": "stream",
     "text": [
      "{}\n",
      "{'hello': 'world', 'good': 'luck'}\n"
     ]
    }
   ],
   "source": [
    "empty_dict = {}\n",
    "print(empty_dict)\n",
    "\n",
    "word_dict = {\n",
    "    \"hello\": \"world\",\n",
    "    \"good\": \"luck\",\n",
    "}\n",
    "print(word_dict)"
   ]
  },
  {
   "cell_type": "markdown",
   "metadata": {},
   "source": [
    "#### 3.4.2 使用dict()转换为字典"
   ]
  },
  {
   "cell_type": "code",
   "execution_count": 4,
   "metadata": {},
   "outputs": [
    {
     "name": "stdout",
     "output_type": "stream",
     "text": [
      "{'a': 'b', 'c': 'd', 'e': 'f'}\n",
      "{'a': 'b', 'e': 'f', 'c': 'd'}\n"
     ]
    }
   ],
   "source": [
    "lol = [['a','b'], ['c', 'd'], ['e', 'f']]\n",
    "print(dict(lol))\n",
    "\n",
    "lol = [['a','b'], ['e', 'f'], ['c', 'd']]\n",
    "print(dict(lol))"
   ]
  },
  {
   "cell_type": "code",
   "execution_count": 6,
   "metadata": {},
   "outputs": [
    {
     "name": "stdout",
     "output_type": "stream",
     "text": [
      "{'a': 'b', 'c': 'd', 'e': 'f'}\n"
     ]
    }
   ],
   "source": [
    "lot = [('a','b'), ('c', 'd'), ('e', 'f')]\n",
    "print(dict(lot))"
   ]
  },
  {
   "cell_type": "code",
   "execution_count": 7,
   "metadata": {},
   "outputs": [
    {
     "name": "stdout",
     "output_type": "stream",
     "text": [
      "{'a': 'b', 'c': 'd', 'e': 'f'}\n"
     ]
    }
   ],
   "source": [
    "tol = (['a','b'], ['c', 'd'], ['e', 'f'])\n",
    "print(dict(tol))"
   ]
  },
  {
   "cell_type": "code",
   "execution_count": 9,
   "metadata": {},
   "outputs": [
    {
     "name": "stdout",
     "output_type": "stream",
     "text": [
      "{'a': 'b', 'c': 'd', 'e': 'f'}\n"
     ]
    }
   ],
   "source": [
    "los = ['ab', 'cd', 'ef']\n",
    "print(dict(los))"
   ]
  },
  {
   "cell_type": "code",
   "execution_count": 17,
   "metadata": {},
   "outputs": [
    {
     "name": "stdout",
     "output_type": "stream",
     "text": [
      "{'a': 'b', 'c': 'd', 'e': 'f'}\n"
     ]
    }
   ],
   "source": [
    "tos = ('ab', 'cd', 'ef')\n",
    "print(dict(tos))"
   ]
  },
  {
   "cell_type": "markdown",
   "metadata": {},
   "source": [
    "#### 3.4.3 使用[key]添加或修改元素"
   ]
  },
  {
   "cell_type": "code",
   "execution_count": 24,
   "metadata": {},
   "outputs": [
    {
     "name": "stdout",
     "output_type": "stream",
     "text": [
      "{'a': 'd'}\n",
      "{'a': 'd'}\n"
     ]
    }
   ],
   "source": [
    "a = {'a':'b', 'a':'c', 'a':'d'}\n",
    "print(a)\n",
    "\n",
    "tos = ('ab', 'ac', 'ad')\n",
    "print(dict(tos))"
   ]
  },
  {
   "cell_type": "markdown",
   "metadata": {},
   "source": [
    "#### 3.4.4 使用update()合并字典"
   ]
  },
  {
   "cell_type": "code",
   "execution_count": 26,
   "metadata": {},
   "outputs": [
    {
     "name": "stdout",
     "output_type": "stream",
     "text": [
      "{'a': 'x', 'c': 'd', 'e': 'f', 'd': 'e'}\n",
      "{'a': 'x', 'd': 'e'}\n"
     ]
    }
   ],
   "source": [
    "a = {'a':'b', 'c':'d', 'e':'f'}\n",
    "b = {'a':'x', 'd':'e'}\n",
    "a.update(b)\n",
    "print(a)\n",
    "print(b)"
   ]
  },
  {
   "cell_type": "markdown",
   "metadata": {},
   "source": [
    "#### 3.4.5 使用del删除具有指定键的元素"
   ]
  },
  {
   "cell_type": "code",
   "execution_count": 27,
   "metadata": {},
   "outputs": [
    {
     "name": "stdout",
     "output_type": "stream",
     "text": [
      "{'a': 'x', 'c': 'd', 'e': 'f', 'd': 'e'}\n",
      "{'a': 'x', 'd': 'e'}\n",
      "{'a': 'x', 'c': 'd', 'e': 'f'}\n"
     ]
    }
   ],
   "source": [
    "a = {'a':'b', 'c':'d', 'e':'f'}\n",
    "b = {'a':'x', 'd':'e'}\n",
    "a.update(b)\n",
    "print(a)\n",
    "print(b)\n",
    "del a['d']\n",
    "print(a)"
   ]
  },
  {
   "cell_type": "markdown",
   "metadata": {},
   "source": [
    "#### 3.4.6 使用clear()删除所有元素"
   ]
  },
  {
   "cell_type": "code",
   "execution_count": 28,
   "metadata": {},
   "outputs": [
    {
     "name": "stdout",
     "output_type": "stream",
     "text": [
      "{}\n"
     ]
    }
   ],
   "source": [
    "a = {'a':'b', 'c':'d', 'e':'f'}\n",
    "a.clear()\n",
    "print(a)"
   ]
  },
  {
   "cell_type": "markdown",
   "metadata": {},
   "source": [
    "#### 3.4.7 使用in判断是否存在"
   ]
  },
  {
   "cell_type": "code",
   "execution_count": 29,
   "metadata": {},
   "outputs": [
    {
     "name": "stdout",
     "output_type": "stream",
     "text": [
      "True\n",
      "False\n",
      "False\n"
     ]
    }
   ],
   "source": [
    "a = {'a':'b', 'c':'d', 'e':'f'}\n",
    "print('a' in a)\n",
    "print('Y' in a)\n",
    "print(1 in a)"
   ]
  },
  {
   "cell_type": "markdown",
   "metadata": {},
   "source": [
    "#### 3.4.8 使用[key]获取元素"
   ]
  },
  {
   "cell_type": "code",
   "execution_count": 30,
   "metadata": {},
   "outputs": [
    {
     "name": "stdout",
     "output_type": "stream",
     "text": [
      "b\n",
      "d\n",
      "No this value\n",
      "a not contains 'x'\n"
     ]
    }
   ],
   "source": [
    "a = {'a':'b', 'c':'d', 'e':'f'}\n",
    "\n",
    "print(a['a'])\n",
    "\n",
    "print(a.get('c'))\n",
    "\n",
    "print(a.get('x', 'No this value'))\n",
    "\n",
    "if('x' in a):\n",
    "    print(\"a contains 'x'\")\n",
    "else:\n",
    "    print(\"a not contains 'x'\")"
   ]
  },
  {
   "cell_type": "markdown",
   "metadata": {},
   "source": [
    "#### 3.4.9 使用keys()获取所有键"
   ]
  },
  {
   "cell_type": "code",
   "execution_count": 32,
   "metadata": {},
   "outputs": [
    {
     "name": "stdout",
     "output_type": "stream",
     "text": [
      "dict_keys(['a', 'c', 'e'])\n",
      "['a', 'c', 'e']\n"
     ]
    }
   ],
   "source": [
    "a = {'a':'b', 'c':'d', 'e':'f'}\n",
    "b = a.keys()\n",
    "print(b)\n",
    "print(list(b))"
   ]
  },
  {
   "cell_type": "markdown",
   "metadata": {},
   "source": [
    "#### 3.4.10 使用values()获取所有值"
   ]
  },
  {
   "cell_type": "code",
   "execution_count": 33,
   "metadata": {},
   "outputs": [
    {
     "name": "stdout",
     "output_type": "stream",
     "text": [
      "dict_values(['b', 'd', 'f'])\n",
      "['b', 'd', 'f']\n"
     ]
    }
   ],
   "source": [
    "a = {'a':'b', 'c':'d', 'e':'f'}\n",
    "b = a.values()\n",
    "print(b)\n",
    "print(list(b))"
   ]
  },
  {
   "cell_type": "markdown",
   "metadata": {},
   "source": [
    "#### 3.4.11 使用items()获取所有键值对"
   ]
  },
  {
   "cell_type": "code",
   "execution_count": 34,
   "metadata": {},
   "outputs": [
    {
     "name": "stdout",
     "output_type": "stream",
     "text": [
      "dict_items([('a', 'b'), ('c', 'd'), ('e', 'f')])\n",
      "[('a', 'b'), ('c', 'd'), ('e', 'f')]\n"
     ]
    }
   ],
   "source": [
    "a = {'a':'b', 'c':'d', 'e':'f'}\n",
    "b = a.items()\n",
    "print(b)\n",
    "print(list(b))"
   ]
  },
  {
   "cell_type": "markdown",
   "metadata": {},
   "source": [
    "#### 3.4.12 使用=赋值，使用copy()复制"
   ]
  },
  {
   "cell_type": "code",
   "execution_count": 36,
   "metadata": {},
   "outputs": [
    {
     "name": "stdout",
     "output_type": "stream",
     "text": [
      "{'a': 'x', 'c': 'd', 'e': 'f'}\n",
      "{'a': 'x', 'c': 'd', 'e': 'f'}\n",
      "{'a': 'b', 'c': 'd', 'e': 'f'}\n"
     ]
    }
   ],
   "source": [
    "a = {'a':'b', 'c':'d', 'e':'f'}\n",
    "b = a\n",
    "c = a.copy()\n",
    "a['a'] = 'x'\n",
    "print(a)\n",
    "print(b)\n",
    "print(c)"
   ]
  },
  {
   "cell_type": "markdown",
   "metadata": {},
   "source": [
    "#### 3.5.3 使用in测试值是否存在"
   ]
  },
  {
   "cell_type": "code",
   "execution_count": 37,
   "metadata": {},
   "outputs": [
    {
     "name": "stdout",
     "output_type": "stream",
     "text": [
      "True\n",
      "False\n"
     ]
    }
   ],
   "source": [
    "a = {1, 2, 3, 4, 5}\n",
    "print(1 in a)\n",
    "print('1' in a)"
   ]
  },
  {
   "cell_type": "markdown",
   "metadata": {},
   "source": [
    "### 3.6 比较几种数据结构"
   ]
  },
  {
   "cell_type": "code",
   "execution_count": 38,
   "metadata": {},
   "outputs": [
    {
     "name": "stdout",
     "output_type": "stream",
     "text": [
      "['Groucho', 'Chico', 'Harpo']\n",
      "('Groucho', 'Chico', 'Harpo')\n",
      "{'Groucho': 'banjo', 'Chico': 'piano', 'Harpo': 'harp'}\n",
      "{'Chico', 'Harpo', 'Groucho'}\n"
     ]
    }
   ],
   "source": [
    "marx_list = ['Groucho', 'Chico', 'Harpo']\n",
    "marx_tuple = 'Groucho', 'Chico', 'Harpo'\n",
    "marx_dict = {'Groucho':'banjo', 'Chico':'piano', 'Harpo':'harp'}\n",
    "marx_set = {'Groucho', 'Chico', 'Harpo'}\n",
    "print(marx_list)\n",
    "print(marx_tuple)\n",
    "print(marx_dict)\n",
    "print(marx_set)"
   ]
  }
 ],
 "metadata": {
  "kernelspec": {
   "display_name": "Python 3",
   "language": "python",
   "name": "python3"
  },
  "language_info": {
   "codemirror_mode": {
    "name": "ipython",
    "version": 3
   },
   "file_extension": ".py",
   "mimetype": "text/x-python",
   "name": "python",
   "nbconvert_exporter": "python",
   "pygments_lexer": "ipython3",
   "version": "3.6.4"
  }
 },
 "nbformat": 4,
 "nbformat_minor": 2
}
