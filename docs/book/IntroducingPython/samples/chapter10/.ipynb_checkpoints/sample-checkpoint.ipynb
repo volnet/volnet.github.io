{
 "cells": [
  {
   "cell_type": "markdown",
   "metadata": {},
   "source": [
    "#### 10.1.2 用exists()检查文件是否存在"
   ]
  },
  {
   "cell_type": "code",
   "execution_count": 3,
   "metadata": {},
   "outputs": [
    {
     "name": "stdout",
     "output_type": "stream",
     "text": [
      "True\n",
      "True\n"
     ]
    }
   ],
   "source": [
    "import os\n",
    "print(os.path.exists('sample.ipynb'))\n",
    "print(os.path.exists('.'))"
   ]
  },
  {
   "cell_type": "markdown",
   "metadata": {},
   "source": [
    "#### 10.1.3 用isfile()检查是否为文件"
   ]
  },
  {
   "cell_type": "code",
   "execution_count": 9,
   "metadata": {},
   "outputs": [
    {
     "name": "stdout",
     "output_type": "stream",
     "text": [
      "True\n",
      "True\n",
      "False\n",
      "True\n"
     ]
    }
   ],
   "source": [
    "import os\n",
    "print(os.path.isfile('sample.ipynb'))#是否是个文件，文件必须存在\n",
    "print(os.path.isdir('.'))#是否是个目录，路径必须存在\n",
    "print(os.path.isabs('.'))#是否是个绝对路径名，路径可以不存在\n",
    "print(os.path.isabs('/'))"
   ]
  },
  {
   "cell_type": "markdown",
   "metadata": {},
   "source": [
    "#### 10.1.4 用copy()复制文件"
   ]
  },
  {
   "cell_type": "code",
   "execution_count": 15,
   "metadata": {},
   "outputs": [
    {
     "data": {
      "text/plain": [
       "'sample-test-copy-2.ipynb'"
      ]
     },
     "execution_count": 15,
     "metadata": {},
     "output_type": "execute_result"
    }
   ],
   "source": [
    "import shutil\n",
    "shutil.copy('sample.ipynb', 'sample-test-copy.ipynb') \n",
    "shutil.move('sample-test-copy.ipynb', 'sample-test-copy-2.ipynb') # 复制一个文件并删除原始文件"
   ]
  },
  {
   "cell_type": "markdown",
   "metadata": {},
   "source": [
    "#### 10.1.5 用rename()重命名文件"
   ]
  },
  {
   "cell_type": "code",
   "execution_count": 16,
   "metadata": {},
   "outputs": [],
   "source": [
    "import os\n",
    "os.rename('sample-test-copy-2.ipynb', 'sample-test-rename.ipynb') "
   ]
  },
  {
   "cell_type": "markdown",
   "metadata": {},
   "source": [
    "#### 10.1.6 用link()或者symlink()创建链接"
   ]
  },
  {
   "cell_type": "code",
   "execution_count": 1,
   "metadata": {},
   "outputs": [
    {
     "ename": "FileExistsError",
     "evalue": "[Errno 17] File exists: 'sample-test-rename.ipynb' -> 'sample-test-link.ipynb'",
     "output_type": "error",
     "traceback": [
      "\u001b[0;31m---------------------------------------------------------------------------\u001b[0m",
      "\u001b[0;31mFileExistsError\u001b[0m                           Traceback (most recent call last)",
      "\u001b[0;32m<ipython-input-1-c44e1ab89c75>\u001b[0m in \u001b[0;36m<module>\u001b[0;34m()\u001b[0m\n\u001b[1;32m      1\u001b[0m \u001b[0;32mimport\u001b[0m \u001b[0mos\u001b[0m\u001b[0;34m\u001b[0m\u001b[0m\n\u001b[0;32m----> 2\u001b[0;31m \u001b[0mos\u001b[0m\u001b[0;34m.\u001b[0m\u001b[0mlink\u001b[0m\u001b[0;34m(\u001b[0m\u001b[0;34m'sample-test-rename.ipynb'\u001b[0m\u001b[0;34m,\u001b[0m \u001b[0;34m'sample-test-link.ipynb'\u001b[0m\u001b[0;34m)\u001b[0m\u001b[0;34m\u001b[0m\u001b[0m\n\u001b[0m\u001b[1;32m      3\u001b[0m \u001b[0mos\u001b[0m\u001b[0;34m.\u001b[0m\u001b[0mpath\u001b[0m\u001b[0;34m.\u001b[0m\u001b[0misfile\u001b[0m\u001b[0;34m(\u001b[0m\u001b[0;34m'sample-test-link.ipynb'\u001b[0m\u001b[0;34m)\u001b[0m\u001b[0;34m\u001b[0m\u001b[0m\n",
      "\u001b[0;31mFileExistsError\u001b[0m: [Errno 17] File exists: 'sample-test-rename.ipynb' -> 'sample-test-link.ipynb'"
     ]
    }
   ],
   "source": [
    "import os\n",
    "os.link('sample-test-rename.ipynb', 'sample-test-link.ipynb')\n",
    "os.path.isfile('sample-test-link.ipynb') "
   ]
  },
  {
   "cell_type": "code",
   "execution_count": 2,
   "metadata": {},
   "outputs": [
    {
     "data": {
      "text/plain": [
       "True"
      ]
     },
     "execution_count": 2,
     "metadata": {},
     "output_type": "execute_result"
    }
   ],
   "source": [
    "import os\n",
    "os.symlink('sample-test-rename.ipynb', 'sample-test-symlink.ipynb')\n",
    "os.path.isfile('sample-test-symlink.ipynb')"
   ]
  },
  {
   "cell_type": "markdown",
   "metadata": {},
   "source": [
    "#### 10.1.9 用abspath()获取路径名"
   ]
  },
  {
   "cell_type": "code",
   "execution_count": 3,
   "metadata": {},
   "outputs": [
    {
     "data": {
      "text/plain": [
       "'/Users/gongcen/VolnetGitHub/volnet.github.io/docs/book/IntroducingPython/samples/chapter10/sample.ipynb'"
      ]
     },
     "execution_count": 3,
     "metadata": {},
     "output_type": "execute_result"
    }
   ],
   "source": [
    "import os\n",
    "os.path.abspath('sample.ipynb')"
   ]
  },
  {
   "cell_type": "markdown",
   "metadata": {},
   "source": [
    "#### 10.1.10 用realpath()获取符号的路径"
   ]
  },
  {
   "cell_type": "code",
   "execution_count": 7,
   "metadata": {},
   "outputs": [
    {
     "name": "stdout",
     "output_type": "stream",
     "text": [
      "/Users/gongcen/VolnetGitHub/volnet.github.io/docs/book/IntroducingPython/samples/chapter10/sample.ipynb\n",
      "/Users/gongcen/VolnetGitHub/volnet.github.io/docs/book/IntroducingPython/samples/chapter10/sample-test-link.ipynb\n",
      "/Users/gongcen/VolnetGitHub/volnet.github.io/docs/book/IntroducingPython/samples/chapter10/sample-test-rename.ipynb\n"
     ]
    }
   ],
   "source": [
    "import os\n",
    "print(os.path.realpath('sample.ipynb'))\n",
    "print(os.path.realpath('sample-test-link.ipynb'))\n",
    "print(os.path.realpath('sample-test-symlink.ipynb'))"
   ]
  },
  {
   "cell_type": "markdown",
   "metadata": {},
   "source": [
    "#### 10.1.11 用remove()删除文件"
   ]
  },
  {
   "cell_type": "code",
   "execution_count": 3,
   "metadata": {},
   "outputs": [],
   "source": [
    "import os\n",
    "os.remove('sample-test-rename.ipynb')\n",
    "os.remove('sample-test-link.ipynb')\n",
    "os.remove('sample-test-symlink.ipynb')"
   ]
  },
  {
   "cell_type": "markdown",
   "metadata": {},
   "source": [
    "#### 10.2.3 使用listdir()列出目录内容"
   ]
  },
  {
   "cell_type": "code",
   "execution_count": 6,
   "metadata": {},
   "outputs": [
    {
     "data": {
      "text/plain": [
       "['.ipynb_checkpoints', 'sample.ipynb']"
      ]
     },
     "execution_count": 6,
     "metadata": {},
     "output_type": "execute_result"
    }
   ],
   "source": [
    "import os\n",
    "os.listdir('.')"
   ]
  },
  {
   "cell_type": "markdown",
   "metadata": {},
   "source": [
    "#### 10.2.5 使用glob()列出匹配文件"
   ]
  },
  {
   "cell_type": "code",
   "execution_count": 7,
   "metadata": {},
   "outputs": [
    {
     "data": {
      "text/plain": [
       "['sample.ipynb']"
      ]
     },
     "execution_count": 7,
     "metadata": {},
     "output_type": "execute_result"
    }
   ],
   "source": [
    "import glob\n",
    "glob.glob('*.ipynb')"
   ]
  },
  {
   "cell_type": "markdown",
   "metadata": {},
   "source": [
    "### 10.3 程序和进程"
   ]
  },
  {
   "cell_type": "code",
   "execution_count": 8,
   "metadata": {},
   "outputs": [
    {
     "name": "stdout",
     "output_type": "stream",
     "text": [
      "8258\n",
      "/Users/gongcen/VolnetGitHub/volnet.github.io/docs/book/IntroducingPython/samples/chapter10\n",
      "501\n",
      "20\n"
     ]
    }
   ],
   "source": [
    "import os\n",
    "print(os.getpid()) # 进程号\n",
    "print(os.getcwd()) # 当前运行路径\n",
    "print(os.getuid()) # 用户id\n",
    "print(os.getgid()) # 用户组id"
   ]
  },
  {
   "cell_type": "markdown",
   "metadata": {},
   "source": [
    "#### 10.3.1 使用subprocess创建进程"
   ]
  },
  {
   "cell_type": "code",
   "execution_count": 19,
   "metadata": {},
   "outputs": [
    {
     "name": "stdout",
     "output_type": "stream",
     "text": [
      "2018年 5月10日 星期四 23时54分06秒 CST\n",
      "2018年 5月10日 星期四 15时54分06秒 UTC\n",
      "       1       5      48\n",
      "b'2018\\xe5\\xb9\\xb4 5\\xe6\\x9c\\x8810\\xe6\\x97\\xa5 \\xe6\\x98\\x9f\\xe6\\x9c\\x9f\\xe5\\x9b\\x9b 15\\xe6\\x97\\xb654\\xe5\\x88\\x8606\\xe7\\xa7\\x92 UTC\\n'\n",
      "2018年 5月10日 星期四 15时54分06秒 UTC\n",
      "\n",
      "(0, '2018年 5月10日 星期四 15时54分06秒 UTC')\n",
      "0\n",
      "0\n"
     ]
    }
   ],
   "source": [
    "import subprocess\n",
    "ret = subprocess.getoutput('date') # 使用shell\n",
    "print(ret)\n",
    "\n",
    "ret = subprocess.getoutput('date -u') # 使用shell\n",
    "print(ret)\n",
    "\n",
    "ret = subprocess.getoutput('date -u | wc') # 使用shell\n",
    "print(ret)\n",
    "\n",
    "ret = subprocess.check_output(['date', '-u']) # 不使用shell，返回的是字节类型的输出\n",
    "print(ret)\n",
    "print(ret.decode('utf-8'))\n",
    "\n",
    "ret = subprocess.getstatusoutput('date -u') # 使用shell，返回包含状态码和返回值的元组，返回值0代表子进程成功退出\n",
    "print(ret)\n",
    "\n",
    "ret = subprocess.call('date') # 默认不使用shell，所以不能带参数-u，使用call只返回退出状态码，不返回执行结果\n",
    "print(ret)\n",
    "\n",
    "ret = subprocess.call('date -u', shell=True) # 使用shell，所以可以带参数-u，使用call只返回退出状态码，不返回执行结果\n",
    "print(ret)"
   ]
  },
  {
   "cell_type": "markdown",
   "metadata": {},
   "source": [
    "#### 10.3.2 使用multiprocessing创建进程"
   ]
  },
  {
   "cell_type": "code",
   "execution_count": 34,
   "metadata": {},
   "outputs": [
    {
     "name": "stdout",
     "output_type": "stream",
     "text": [
      "Process 8258 says: I‘m the main program\n",
      "Process 9409 says: I'm function 0\n",
      "Process 9410 says: I'm function 1\n",
      "Process 9411 says: I'm function 2\n",
      "Process 9412 says: I'm function 3\n"
     ]
    }
   ],
   "source": [
    "import multiprocessing\n",
    "import os\n",
    "\n",
    "def do_this(what):\n",
    "    whoami(what)\n",
    "def whoami(what):\n",
    "    print(\"Process %s says: %s\" % (os.getpid(), what))\n",
    "    \n",
    "if __name__ == '__main__':\n",
    "    whoami(\"I‘m the main program\")\n",
    "    for n in range(4):\n",
    "        p = multiprocessing.Process(target=do_this, args=(\"I'm function %s\" % n, )) # 当只有一个参数的时候，元组最后的逗号不可以省略。\n",
    "        p.start()"
   ]
  },
  {
   "cell_type": "markdown",
   "metadata": {},
   "source": [
    "### 10.4 日期和时间"
   ]
  },
  {
   "cell_type": "code",
   "execution_count": 1,
   "metadata": {},
   "outputs": [
    {
     "name": "stdout",
     "output_type": "stream",
     "text": [
      "False\n",
      "True\n"
     ]
    }
   ],
   "source": [
    "import calendar\n",
    "print(calendar.isleap(1990)) # 不是闰年\n",
    "print(calendar.isleap(2000)) # 是闰年"
   ]
  },
  {
   "cell_type": "markdown",
   "metadata": {},
   "source": [
    "#### 10.4.1 datetime模块"
   ]
  },
  {
   "cell_type": "code",
   "execution_count": 22,
   "metadata": {},
   "outputs": [
    {
     "name": "stdout",
     "output_type": "stream",
     "text": [
      "2018-05-11\n",
      "2018 5 11\n",
      "2018-05-12\n",
      "10:22:23\n",
      "10 22 23 222\n",
      "00:00:00\n",
      "0001-01-01 9999-12-31 00:00:00 23:59:59.999999\n",
      "2018-05-13 2018-05-11\n",
      "2014-01-02 03:04:05.000006\n",
      "2018-05-12 00:11:15.241272\n",
      "2014-01-03 07:12:15.000938\n"
     ]
    }
   ],
   "source": [
    "from datetime import date\n",
    "print(date(2018, 5, 11))\n",
    "d = date(2018, 5, 11)\n",
    "print(d.year, d.month, d.day)\n",
    "\n",
    "today = date.today()\n",
    "print(today)\n",
    "\n",
    "from datetime import time\n",
    "print(time(10, 22, 23))\n",
    "t = time(10, 22, 23, 222)\n",
    "print(t.hour, t.minute, t.second, t.microsecond)\n",
    "zero = time()\n",
    "print(zero)\n",
    "print(date.min, date.max, time.min, time.max)\n",
    "\n",
    "from datetime import timedelta\n",
    "one_day = timedelta(days=1)\n",
    "tomorrow = date.today() + one_day\n",
    "yesterday = date.today() - one_day\n",
    "print(tomorrow, yesterday)\n",
    "\n",
    "from datetime import datetime\n",
    "some_day = datetime(2014,1,2,3,4,5,6)\n",
    "print(some_day)\n",
    "print(datetime.now())\n",
    "\n",
    "from datetime import datetime, date, time\n",
    "print(datetime.combine(date(2014, 1, 3), time(7, 12, 15, 938)))"
   ]
  },
  {
   "cell_type": "markdown",
   "metadata": {},
   "source": [
    "#### 10.4.2 使用time模块"
   ]
  },
  {
   "cell_type": "code",
   "execution_count": 26,
   "metadata": {},
   "outputs": [
    {
     "name": "stdout",
     "output_type": "stream",
     "text": [
      "1526055404.7887511\n",
      "Sat May 12 00:16:44 2018\n",
      "time.struct_time(tm_year=2018, tm_mon=5, tm_mday=12, tm_hour=0, tm_min=16, tm_sec=44, tm_wday=5, tm_yday=132, tm_isdst=0)\n",
      "time.struct_time(tm_year=2018, tm_mon=5, tm_mday=11, tm_hour=16, tm_min=16, tm_sec=44, tm_wday=4, tm_yday=131, tm_isdst=0)\n",
      "1526055404.0\n",
      "1526026604.0\n"
     ]
    }
   ],
   "source": [
    "import time # 不同于datetime模块的time\n",
    "print(time.time()) # 纪元值，1970年至今的秒数\n",
    "print(time.ctime(time.time())) # 把纪元值转换成一个字符串\n",
    "print(time.localtime(time.time())) # 把纪元值转换成一个本地时间，是个time.struct_time对象，只能精确到秒\n",
    "print(time.gmtime(time.time())) # 把纪元值转换成一个格林威治时间，是个time.struct_time对象，只能精确到秒\n",
    "print(time.mktime(time.localtime(time.time()))) # 把本地时间转换为纪元值\n",
    "print(time.mktime(time.gmtime(time.time()))) # 把格林威治时间转换为纪元值"
   ]
  },
  {
   "cell_type": "markdown",
   "metadata": {},
   "source": [
    "#### 10.4.3 读写日期和时间"
   ]
  },
  {
   "cell_type": "code",
   "execution_count": 40,
   "metadata": {},
   "outputs": [
    {
     "name": "stdout",
     "output_type": "stream",
     "text": [
      "2018-05-12\n",
      "2018-05-12 00:30:01\n",
      "2018-05-12 00:21:37\n",
      "-------------\n",
      "2018-05-12 00:30:01\n",
      "2018-05-11 16:30:01\n",
      "time.struct_time(tm_year=2018, tm_mon=5, tm_mday=12, tm_hour=0, tm_min=21, tm_sec=37, tm_wday=5, tm_yday=132, tm_isdst=-1)\n",
      "time.struct_time(tm_year=2018, tm_mon=5, tm_mday=12, tm_hour=0, tm_min=21, tm_sec=37, tm_wday=5, tm_yday=132, tm_isdst=-1)\n",
      "-------------\n",
      "Friday, October 31\n",
      "Vendredi, octobre 31\n",
      "Freitag, Oktober 31\n",
      "viernes, octubre 31\n",
      "föstudagur, október 31\n"
     ]
    }
   ],
   "source": [
    "import datetime\n",
    "print(date.today().isoformat())\n",
    "print(datetime.datetime.now().strftime('%Y-%m-%d %H:%M:%S'))\n",
    "print(datetime.datetime.strptime('2018-05-12 00:21:37', '%Y-%m-%d %H:%M:%S'))\n",
    "\n",
    "print('-------------')\n",
    "\n",
    "import time\n",
    "print(time.strftime('%Y-%m-%d %H:%M:%S', time.localtime(time.time())))\n",
    "print(time.strftime('%Y-%m-%d %H:%M:%S', time.gmtime(time.time())))\n",
    "print(time.strptime('2018-05-12 00:21:37', '%Y-%m-%d %H:%M:%S'))\n",
    "print(time.strptime('2018-05-12 00:21:37', '%Y-%m-%d %H:%M:%S'))\n",
    "\n",
    "print('-------------')\n",
    "\n",
    "import locale\n",
    "from datetime import date\n",
    "halloween = date(2014, 10, 31)\n",
    "for lang_country in ['en_us', 'fr_fr', 'de_de', 'es_es', 'is_is', ]:\n",
    "    locale.setlocale(locale.LC_TIME, lang_country)\n",
    "    print(halloween.strftime('%A, %B %d'))"
   ]
  },
  {
   "cell_type": "code",
   "execution_count": null,
   "metadata": {},
   "outputs": [],
   "source": []
  }
 ],
 "metadata": {
  "kernelspec": {
   "display_name": "Python 3",
   "language": "python",
   "name": "python3"
  },
  "language_info": {
   "codemirror_mode": {
    "name": "ipython",
    "version": 3
   },
   "file_extension": ".py",
   "mimetype": "text/x-python",
   "name": "python",
   "nbconvert_exporter": "python",
   "pygments_lexer": "ipython3",
   "version": "3.6.4"
  }
 },
 "nbformat": 4,
 "nbformat_minor": 2
}
