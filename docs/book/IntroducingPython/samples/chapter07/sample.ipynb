{
 "cells": [
  {
   "cell_type": "markdown",
   "metadata": {},
   "source": [
    "#### 7.1.1 Unicode"
   ]
  },
  {
   "cell_type": "code",
   "execution_count": 3,
   "metadata": {},
   "outputs": [
    {
     "name": "stdout",
     "output_type": "stream",
     "text": [
      "value=\"A\", name=\"LATIN CAPITAL LETTER A\", value2=\"A\"\n"
     ]
    }
   ],
   "source": [
    "def unicode_test(value):\n",
    "    import unicodedata\n",
    "    name = unicodedata.name(value)\n",
    "    value2 = unicodedata.lookup(name)\n",
    "    print('value=\"%s\", name=\"%s\", value2=\"%s\"' % (value, name, value2))\n",
    "    \n",
    "unicode_test('A')"
   ]
  },
  {
   "cell_type": "code",
   "execution_count": 6,
   "metadata": {},
   "outputs": [
    {
     "name": "stdout",
     "output_type": "stream",
     "text": [
      "␕\n",
      "␕\n"
     ]
    }
   ],
   "source": [
    "print('\\u2415')\n",
    "standard_name = 'ACKNOWLEDGE, SYMBOL FOR NEGATIVE'\n",
    "standard_name_python3 = 'SYMBOL FOR NEGATIVE ACKNOWLEDGE'\n",
    "import unicodedata\n",
    "value = unicodedata.lookup(standard_name_python3)\n",
    "print(value)"
   ]
  },
  {
   "cell_type": "code",
   "execution_count": 10,
   "metadata": {},
   "outputs": [
    {
     "name": "stdout",
     "output_type": "stream",
     "text": [
      "␕\n",
      "␕\n"
     ]
    }
   ],
   "source": [
    "print('\\u2415')\n",
    "print('\\N{SYMBOL FOR NEGATIVE ACKNOWLEDGE}')"
   ]
  },
  {
   "cell_type": "code",
   "execution_count": 25,
   "metadata": {},
   "outputs": [
    {
     "name": "stdout",
     "output_type": "stream",
     "text": [
      "1\n",
      "UTF-8: b'\\xe2\\x98\\x83'\n",
      "UnicodeEscape: b'\\\\u2603'\n"
     ]
    }
   ],
   "source": [
    "def word_encode(word):\n",
    "    print(len(word))\n",
    "    dsUTF8 = word.encode('utf-8') # ascii, utf-8, latin-1, cp-1252, unicode-escape, ...\n",
    "    print('UTF-8:', dsUTF8)\n",
    "    # dsASCII = word.encode('ascii')\n",
    "    # print('ASCII:', dsASCII)\n",
    "    # dsLatin1 = word.encode('latin-1')\n",
    "    # print('Latin-1:', dsLatin1)\n",
    "    dsUnicodeEscape = word.encode('unicode-escape')\n",
    "    print('UnicodeEscape:', dsUnicodeEscape)\n",
    "    # dsCP1252 = word.encode('cp-1252') # only available in Windows Platform, windows-1252\n",
    "    # print('CP-1252:', dsCP1252)\n",
    "    \n",
    "word_encode('\\u2603')"
   ]
  },
  {
   "cell_type": "code",
   "execution_count": 35,
   "metadata": {},
   "outputs": [
    {
     "name": "stdout",
     "output_type": "stream",
     "text": [
      "b'caf\\xc3\\xa9'\n",
      "café\n",
      "caf\n",
      "-----------\n",
      "b'caf?'\n",
      "caf?\n",
      "caf?\n"
     ]
    }
   ],
   "source": [
    "place = 'caf\\u00e9'\n",
    "place_bytes_utf8 = place.encode('utf-8')\n",
    "print(place_bytes_utf8)\n",
    "print(place_bytes_utf8.decode('utf-8'))\n",
    "print(place_bytes_utf8.decode('ascii', 'ignore'))\n",
    "print('-----------')\n",
    "place_bytes_ascii = place.encode('ascii', 'replace')\n",
    "print(place_bytes_ascii)\n",
    "print(place_bytes_ascii.decode('utf-8'))\n",
    "print(place_bytes_ascii.decode('ascii'))"
   ]
  },
  {
   "cell_type": "markdown",
   "metadata": {},
   "source": [
    "#### 7.1.2 格式化"
   ]
  },
  {
   "cell_type": "code",
   "execution_count": 68,
   "metadata": {},
   "outputs": [
    {
     "name": "stdout",
     "output_type": "stream",
     "text": [
      "|$42#|\n",
      "|      $42#|\n",
      "|$42#      |\n",
      "|42|\n",
      "|        42|\n",
      "| 42|\n",
      "|  42.000|\n",
      "|42        |\n",
      "|   42.142|\n",
      "|52|\n",
      "|2a|\n",
      "|42.1416|\n",
      "|42.00%|\n"
     ]
    }
   ],
   "source": [
    "print('|%s|' % '$42#')\n",
    "print('|%10s|' % '$42#')\n",
    "print('|%-10s|' % '$42#')\n",
    "print('|%s|' % 42)\n",
    "print('|%10s|' % 42)\n",
    "print('|%3d|' % 42)\n",
    "print('|%8.3f|' % 42)\n",
    "print('|%-10s|' % 42)\n",
    "print('|%9.3f|' % 42.1415926)\n",
    "print('|%o|' % 42)\n",
    "print('|%x|' % 42)\n",
    "print('|%g|' % 42.141592614)\n",
    "print('|%.2f%%|' % 42)"
   ]
  },
  {
   "cell_type": "code",
   "execution_count": 121,
   "metadata": {},
   "outputs": [
    {
     "name": "stdout",
     "output_type": "stream",
     "text": [
      "|$42#|\n",
      "|$42#|\n",
      "|$42#|\n",
      "|2#$4|\n",
      "|$42#|\n",
      "|427.03string cheese^cheep-200|\n",
      "|$42#|\n",
      "------------------\n",
      "|      $42#|\n",
      "|      $42#|\n",
      "------------------\n",
      "|$42#      |\n",
      "|$42#      |\n",
      "------------------\n",
      "|42|\n",
      "|42|\n",
      "------------------\n",
      "| 42|\n",
      "| 42|\n",
      "------------------\n",
      "|  42.000|\n",
      "|  42.000\n",
      "------------------\n",
      "|42        |\n",
      "|42        |\n",
      "|42        |\n",
      "------------------\n",
      "|   42.142|\n",
      "|   42.142|\n",
      "------------------\n",
      "|52|\n",
      "|52|\n",
      "------------------\n",
      "|2a|\n",
      "|2a|\n",
      "------------------\n",
      "|42.1416|\n",
      "|42.1416|\n",
      "------------------\n",
      "|42.00%|\n",
      "|42.00%|\n",
      "------------------\n",
      "|!!!!!!!!$42#!!!!!!!!|\n",
      "|$42#!!!!!!!!!!!!!!!!|\n",
      "|!!!!!!!!!!!!!!!!$42#|\n"
     ]
    }
   ],
   "source": [
    "print('|%s|' % '$42#')\n",
    "print('|{}{}|'.format('$4', '2#'))\n",
    "print('|{0}{1}|'.format('$4', '2#'))\n",
    "print('|{1}{0}|'.format('$4', '2#'))\n",
    "print('|{first}{second}|'.format(first='$4', second='2#'))\n",
    "\n",
    "d = {'n': 42, 'f': 7.03, 's': 'string cheese'}\n",
    "print('|{0[n]}{0[f]}{0[s]}^{1}-{k}|'.format(d, 'cheep', k=200))\n",
    "print('|{0:s}|'.format('$42#'))\n",
    "\n",
    "print('------------------')\n",
    "print('|%10s|' % '$42#')\n",
    "print('|{0:>10s}|'.format('$42#'))\n",
    "\n",
    "print('------------------')\n",
    "print('|%-10s|' % '$42#')\n",
    "print('|{0:<10s}|'.format('$42#'))\n",
    "\n",
    "print('------------------')\n",
    "print('|%s|' % 42)\n",
    "print('|{0}|'.format(42))\n",
    "\n",
    "print('------------------')\n",
    "print('|%3d|' % 42)\n",
    "print('|{0:3d}|'.format(42))\n",
    "\n",
    "print('------------------')\n",
    "print('|%8.3f|' % 42)\n",
    "print('|{0:8.3f}'.format(42))\n",
    "\n",
    "print('------------------')\n",
    "print('|%-10s|' % 42)\n",
    "print('|{0:<10s}|'.format(str(42)))\n",
    "print('|{0:<10d}|'.format(42))\n",
    "\n",
    "print('------------------')\n",
    "print('|%9.3f|' % 42.1415926)\n",
    "print('|{0:9.3f}|'.format(42.1415926))\n",
    "\n",
    "print('------------------')\n",
    "print('|%o|' % 42)\n",
    "print('|{0:o}|'.format(42))\n",
    "\n",
    "print('------------------')\n",
    "print('|%x|' % 42)\n",
    "print('|{0:x}|'.format(42))\n",
    "\n",
    "print('------------------')\n",
    "print('|%g|' % 42.141592614)\n",
    "print('|{0:g}|'.format(42.141592614))\n",
    "\n",
    "print('------------------')\n",
    "print('|%.2f%%|' % 42)\n",
    "print('|{0:.2f}%|'.format(42))\n",
    "\n",
    "print('------------------')\n",
    "print('|{0:!^20s}|'.format('$42#'))\n",
    "print('|{0:!<20s}|'.format('$42#'))\n",
    "print('|{0:!>20s}|'.format('$42#'))"
   ]
  },
  {
   "cell_type": "markdown",
   "metadata": {},
   "source": [
    "#### 7.1.3 使用正则表达式匹配"
   ]
  },
  {
   "cell_type": "code",
   "execution_count": 25,
   "metadata": {},
   "outputs": [
    {
     "name": "stdout",
     "output_type": "stream",
     "text": [
      "<_sre.SRE_Match object; span=(0, 3), match='Str'>\n",
      "Str\n",
      "()\n",
      "----------------\n",
      "Str\n",
      "func: <function match at 0x1051f1510>\n",
      "pattern: tes result: none!\n",
      "-------------\n",
      "func: <function match at 0x1051f1510>\n",
      "pattern: .*tes result: String for test!String for test!String for tes\n",
      "-------------\n",
      "func: <function search at 0x1052c91e0>\n",
      "pattern: tes result: tes\n",
      "-------------\n",
      "func: <function findall at 0x1052c9400>\n",
      "pattern: tes result: ['tes', 'tes', 'tes']\n",
      "-------------\n",
      "func: <function split at 0x1052c9378>\n",
      "pattern: tes result: ['String for ', 't!String for ', 't!String for ', 't!']\n",
      "-------------\n",
      "String for ?t!String for ?t!String for ?t!\n"
     ]
    }
   ],
   "source": [
    "import re\n",
    "\n",
    "source = 'String for test!String for test!String for test!'\n",
    "m1 = re.match('Str', source)\n",
    "print(m1)\n",
    "if m1:\n",
    "    print(m1.group())\n",
    "    print(m1.groups())\n",
    "print('----------------')\n",
    "p2 = re.compile('Str')\n",
    "m2 = p2.match(source)\n",
    "if m2:\n",
    "    print(m2.group())\n",
    "    \n",
    "def print_re_func(pattern, source, re_func):\n",
    "    print('func:', re_func)\n",
    "    m = re_func(pattern, source)\n",
    "    if m:\n",
    "        try:\n",
    "            print('pattern:', pattern, 'result:', m.group())\n",
    "        except:\n",
    "            print('pattern:', pattern, 'result:', m)\n",
    "    else:\n",
    "        print('pattern:', pattern, 'result:', 'none!')\n",
    "    print('-------------')\n",
    "        \n",
    "print_re_func('tes', source, re.match)\n",
    "print_re_func('.*tes', source, re.match)\n",
    "print_re_func('tes', source, re.search)\n",
    "print_re_func('tes', source, re.findall)\n",
    "print_re_func('tes', source, re.split)\n",
    "\n",
    "m = re.sub('tes', '?', source) # replace 'tes' to '?'\n",
    "print(m)"
   ]
  },
  {
   "cell_type": "code",
   "execution_count": 29,
   "metadata": {},
   "outputs": [
    {
     "name": "stdout",
     "output_type": "stream",
     "text": [
      "0123456789abcdefghijklmnopqrstuvwxyzABCDEFGHIJKLMNOPQRSTUVWXYZ!\"#$%&'()*+,-./:;<=>?@[\\]^_`{|}~ \t\n",
      "\r",
      "\u000b",
      "\f",
      "\n",
      "[' ', '\\t', '\\n', '\\r', '\\x0b', '\\x0c']\n",
      "['a', 'b', 'c', 'ê', 'ĕ']\n"
     ]
    }
   ],
   "source": [
    "import re, string\n",
    "print(string.printable)\n",
    "\n",
    "print(re.findall('\\s', string.printable))\n",
    "print(re.findall('\\w', 'abc' + '-/*' + '\\u00ea' + '\\u0115')) # Unicode"
   ]
  },
  {
   "cell_type": "markdown",
   "metadata": {},
   "source": [
    "#### 7.2.1 字节和字节数组"
   ]
  },
  {
   "cell_type": "code",
   "execution_count": 31,
   "metadata": {},
   "outputs": [
    {
     "name": "stdout",
     "output_type": "stream",
     "text": [
      "b'\\x01\\x02\\x03\\xff'\n",
      "bytearray(b'\\x01\\x02\\x03\\xff')\n",
      "bytearray(b'\\x01\\x7f\\x03\\xff')\n"
     ]
    }
   ],
   "source": [
    "blist = [1,2,3,255]\n",
    "the_bytes = bytes(blist)\n",
    "the_byte_array = bytearray(blist)\n",
    "print(the_bytes)\n",
    "print(the_byte_array)\n",
    "the_byte_array[1] = 127\n",
    "print(the_byte_array) # changable"
   ]
  },
  {
   "cell_type": "markdown",
   "metadata": {},
   "source": [
    "#### 7.2.2 使用struct转换二进制数据"
   ]
  },
  {
   "cell_type": "code",
   "execution_count": 35,
   "metadata": {
    "scrolled": true
   },
   "outputs": [
    {
     "name": "stdout",
     "output_type": "stream",
     "text": [
      "8\n",
      "16909060 16909060\n",
      "16909060 16909060\n",
      "67305985 67305985\n"
     ]
    }
   ],
   "source": [
    "import struct\n",
    "data1 = b'\\x01\\x02\\x03\\x04\\x01\\x02\\x03\\x04'\n",
    "data2 = b'\\x04\\x03\\x02\\x01\\x04\\x03\\x02\\x01'\n",
    "print(len(data))\n",
    "x, y = struct.unpack('>LL', data1)\n",
    "print(x, y)\n",
    "x, y = struct.unpack('<LL', data2)\n",
    "print(x, y)\n",
    "x, y = struct.unpack('<LL', data1)\n",
    "print(x, y)"
   ]
  },
  {
   "cell_type": "markdown",
   "metadata": {},
   "source": [
    "#### 7.2.4 使用binascii()转换字节/字符串"
   ]
  },
  {
   "cell_type": "code",
   "execution_count": 39,
   "metadata": {},
   "outputs": [
    {
     "name": "stdout",
     "output_type": "stream",
     "text": [
      "b'89504e470d0a1a0a'\n",
      "b'\\x89PNG\\r\\n\\x1a\\n'\n"
     ]
    }
   ],
   "source": [
    "import binascii\n",
    "valid_png_header = b'\\x89PNG\\r\\n\\x1a\\n'\n",
    "a = binascii.hexlify(valid_png_header)\n",
    "print(a)\n",
    "b = binascii.unhexlify(a)\n",
    "print(b)"
   ]
  },
  {
   "cell_type": "code",
   "execution_count": null,
   "metadata": {},
   "outputs": [],
   "source": []
  }
 ],
 "metadata": {
  "kernelspec": {
   "display_name": "Python 3",
   "language": "python",
   "name": "python3"
  },
  "language_info": {
   "codemirror_mode": {
    "name": "ipython",
    "version": 3
   },
   "file_extension": ".py",
   "mimetype": "text/x-python",
   "name": "python",
   "nbconvert_exporter": "python",
   "pygments_lexer": "ipython3",
   "version": "3.6.4"
  }
 },
 "nbformat": 4,
 "nbformat_minor": 2
}
