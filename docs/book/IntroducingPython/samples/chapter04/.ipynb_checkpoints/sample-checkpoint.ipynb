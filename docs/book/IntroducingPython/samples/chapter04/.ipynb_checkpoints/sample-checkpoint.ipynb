{
 "cells": [
  {
   "cell_type": "markdown",
   "metadata": {},
   "source": [
    "### 4.2 使用\\连接"
   ]
  },
  {
   "cell_type": "code",
   "execution_count": 1,
   "metadata": {},
   "outputs": [
    {
     "name": "stdout",
     "output_type": "stream",
     "text": [
      "6\n"
     ]
    }
   ],
   "source": [
    "a = 1 + 2 \\\n",
    "    + 3\n",
    "print(a)"
   ]
  },
  {
   "cell_type": "markdown",
   "metadata": {},
   "source": [
    "#### 4.4.3 循环外使用else"
   ]
  },
  {
   "cell_type": "code",
   "execution_count": 9,
   "metadata": {},
   "outputs": [
    {
     "name": "stdout",
     "output_type": "stream",
     "text": [
      "i == 0\n",
      "i == 1\n",
      "i == 2\n",
      "not match y, no encounter break\n"
     ]
    }
   ],
   "source": [
    "x = 3\n",
    "y = 6\n",
    "i = 0\n",
    "while i < x:\n",
    "    if i == y: #never\n",
    "        print(\"i == \" + str(y))\n",
    "        break\n",
    "    else:\n",
    "        print(\"i == \" + str(i))\n",
    "    i += 1\n",
    "else:\n",
    "    print(\"not match y, no encounter break\")"
   ]
  },
  {
   "cell_type": "markdown",
   "metadata": {},
   "source": [
    "### 4.5 使用for迭代"
   ]
  },
  {
   "cell_type": "code",
   "execution_count": 12,
   "metadata": {},
   "outputs": [
    {
     "name": "stdout",
     "output_type": "stream",
     "text": [
      "key:a, value:1\n",
      "key:b, value:2\n",
      "key:c, value:3\n"
     ]
    }
   ],
   "source": [
    "x = {\"a\":1, \"b\":2, \"c\":3}\n",
    "for key, value in x.items():\n",
    "    print(\"key:\" + key + \", value:\" + str(value))"
   ]
  },
  {
   "cell_type": "markdown",
   "metadata": {},
   "source": [
    "#### 4.5.4 使用zip()并行迭代"
   ]
  },
  {
   "cell_type": "code",
   "execution_count": 10,
   "metadata": {},
   "outputs": [
    {
     "name": "stdout",
     "output_type": "stream",
     "text": [
      "<class 'zip'>\n",
      "<class 'zip'>\n",
      "<zip object at 0x10e4cf048>\n",
      "<zip object at 0x10e4cfcc8>\n",
      "[('i', '1'), ('j', '2'), ('k', '3')]\n",
      "[]\n",
      "{'i': '1', 'j': '2', 'k': '3'}\n"
     ]
    }
   ],
   "source": [
    "a = ['i', 'j', 'k']\n",
    "b = ['1', '2', '3', '4']\n",
    "\n",
    "c1 = zip(a, b)\n",
    "c2 = zip(a, b)\n",
    "\n",
    "d = list(c1)\n",
    "e = list(c1)\n",
    "f = dict(c2)\n",
    "\n",
    "print(type(c1))\n",
    "print(type(c2))\n",
    "print(c1)\n",
    "print(c2)\n",
    "print(d)\n",
    "print(e)\n",
    "print(f)"
   ]
  },
  {
   "cell_type": "markdown",
   "metadata": {},
   "source": [
    "#### 4.5.5 使用range()生成自然数序列"
   ]
  },
  {
   "cell_type": "code",
   "execution_count": 49,
   "metadata": {},
   "outputs": [
    {
     "name": "stdout",
     "output_type": "stream",
     "text": [
      "3\n",
      "8\n",
      "13\n",
      "18\n",
      "-----\n",
      "18\n",
      "13\n",
      "8\n",
      "3\n"
     ]
    }
   ],
   "source": [
    "for i in range(3, 23, 5):\n",
    "    print(str(i))\n",
    "    \n",
    "print('-----')\n",
    "for i in range(23-5, 3-1, -5):\n",
    "    print(str(i))"
   ]
  },
  {
   "cell_type": "markdown",
   "metadata": {},
   "source": [
    "#### 4.6.1 列表推导式"
   ]
  },
  {
   "cell_type": "code",
   "execution_count": 4,
   "metadata": {},
   "outputs": [
    {
     "name": "stdout",
     "output_type": "stream",
     "text": [
      "(1, 1)\n",
      "(1, 2)\n",
      "(2, 1)\n",
      "(2, 2)\n",
      "(3, 1)\n",
      "(3, 2)\n",
      "-------\n",
      "(2, 3)\n",
      "(2, 6)\n",
      "(4, 3)\n",
      "(4, 6)\n",
      "(6, 3)\n",
      "(6, 6)\n",
      "(8, 3)\n",
      "(8, 6)\n",
      "(10, 3)\n",
      "(10, 6)\n"
     ]
    }
   ],
   "source": [
    "rows = range(1,4)\n",
    "cols = range(1,3)\n",
    "cells1 = [(row, col) for row in rows for col in cols]\n",
    "for cell in cells1:\n",
    "    print(cell)\n",
    "    \n",
    "print('-------')\n",
    "\n",
    "rows = range(1,12)\n",
    "cols = range(1,8)\n",
    "cells2 = [(row, col) for row in rows if row % 2 == 0 for col in cols if col % 3 == 0]\n",
    "for cell in cells2:\n",
    "    print(cell)"
   ]
  },
  {
   "cell_type": "markdown",
   "metadata": {},
   "source": [
    "#### 4.6.2 字典推导式"
   ]
  },
  {
   "cell_type": "code",
   "execution_count": 8,
   "metadata": {},
   "outputs": [
    {
     "name": "stdout",
     "output_type": "stream",
     "text": [
      "{'{': 1, ' ': 8, 'k': 1, 'e': 10, 'y': 1, '_': 2, 'x': 3, 'p': 3, 'r': 5, 's': 6, 'i': 5, 'o': 4, 'n': 4, ':': 1, 'v': 1, 'a': 2, 'l': 2, 'u': 1, 'f': 1, 't': 1, 'b': 1, '}': 1}\n",
      "{'o': 4, 'n': 4, 'i': 5, 'r': 5, 'v': 1, ' ': 8, 'u': 1, 's': 6, '}': 1, '_': 2, 'p': 3, 'y': 1, 'l': 2, 'k': 1, ':': 1, 't': 1, '{': 1, 'x': 3, 'a': 2, 'f': 1, 'b': 1, 'e': 10}\n",
      "{'p': 3, 'x': 3}\n"
     ]
    }
   ],
   "source": [
    "str1 = '{ key_expression : value_expression for expression in iterable }'\n",
    "\n",
    "x = { letter : str1.count(letter) for letter in str1 }\n",
    "print(x)\n",
    "\n",
    "# 优化，避免遍历相同的字符太多次\n",
    "x = { letter : str1.count(letter) for letter in set(str1) }\n",
    "print(x)\n",
    "\n",
    "# 增加条件判断\n",
    "x = { letter : str1.count(letter) for letter in set(str1) if letter == 'p' or letter == \"x\"}\n",
    "print(x)"
   ]
  },
  {
   "cell_type": "markdown",
   "metadata": {},
   "source": [
    "#### 4.6.3 集合推导式"
   ]
  },
  {
   "cell_type": "code",
   "execution_count": 9,
   "metadata": {},
   "outputs": [
    {
     "name": "stdout",
     "output_type": "stream",
     "text": [
      "{1, 4}\n"
     ]
    }
   ],
   "source": [
    "x = { number for number in range(1,6) if number % 3 == 1}\n",
    "print(x)"
   ]
  },
  {
   "cell_type": "markdown",
   "metadata": {},
   "source": [
    "#### 4.6.4 生成器推导式"
   ]
  },
  {
   "cell_type": "code",
   "execution_count": 11,
   "metadata": {},
   "outputs": [
    {
     "name": "stdout",
     "output_type": "stream",
     "text": [
      "<class 'generator'>\n"
     ]
    }
   ],
   "source": [
    "number_thing = (number for number in range(1,6))\n",
    "print(type(number_thing))"
   ]
  },
  {
   "cell_type": "code",
   "execution_count": 12,
   "metadata": {},
   "outputs": [
    {
     "name": "stdout",
     "output_type": "stream",
     "text": [
      "[1, 2, 3, 4, 5]\n",
      "[]\n"
     ]
    }
   ],
   "source": [
    "number_thing = (number for number in range(1,6))\n",
    "number_list = list(number_thing)\n",
    "try_again = list(number_thing)\n",
    "print(number_list)\n",
    "print(try_again)"
   ]
  },
  {
   "cell_type": "markdown",
   "metadata": {},
   "source": [
    "#### 4.7.2 关键字参数"
   ]
  },
  {
   "cell_type": "code",
   "execution_count": 14,
   "metadata": {},
   "outputs": [
    {
     "name": "stdout",
     "output_type": "stream",
     "text": [
      "{'p1': 'Hi', 'p2': 'Hello', 'p3': 'Hey'}\n"
     ]
    }
   ],
   "source": [
    "def func(p1, p2, p3):\n",
    "    return {'p1':p1, 'p2':p2, 'p3':p3}\n",
    "\n",
    "print(func(p2='Hello', p1='Hi', p3='Hey'))"
   ]
  },
  {
   "cell_type": "code",
   "execution_count": 16,
   "metadata": {},
   "outputs": [
    {
     "name": "stdout",
     "output_type": "stream",
     "text": [
      "{'p1': 'Hello', 'p2': 'Hey', 'p3': 'Hi'}\n"
     ]
    }
   ],
   "source": [
    "def func(p1, p2, p3):\n",
    "    return {'p1':p1, 'p2':p2, 'p3':p3}\n",
    "\n",
    "print(func('Hello', p3='Hi', p2='Hey'))"
   ]
  },
  {
   "cell_type": "markdown",
   "metadata": {},
   "source": [
    "#### 4.7.3 指定默认参数值"
   ]
  },
  {
   "cell_type": "code",
   "execution_count": 18,
   "metadata": {},
   "outputs": [
    {
     "name": "stdout",
     "output_type": "stream",
     "text": [
      "['a']\n",
      "['a', 'b']\n",
      "['a', 'b', 'c']\n",
      "['a', 'b', 'c', 'd']\n"
     ]
    }
   ],
   "source": [
    "def buggy(arg, result=[]):\n",
    "    result.append(arg)\n",
    "    print(result)\n",
    "    \n",
    "buggy('a')\n",
    "buggy('b')\n",
    "buggy('c')\n",
    "buggy('d')"
   ]
  },
  {
   "cell_type": "code",
   "execution_count": 19,
   "metadata": {},
   "outputs": [
    {
     "name": "stdout",
     "output_type": "stream",
     "text": [
      "['a']\n",
      "['b']\n",
      "['c']\n",
      "['d']\n"
     ]
    }
   ],
   "source": [
    "def buggy(arg, result=None):\n",
    "    if result is None:\n",
    "        result = []\n",
    "    result.append(arg)\n",
    "    print(result)\n",
    "    \n",
    "buggy('a')\n",
    "buggy('b')\n",
    "buggy('c')\n",
    "buggy('d')"
   ]
  },
  {
   "cell_type": "markdown",
   "metadata": {},
   "source": [
    "#### 4.7.4 使用*收集位置参数"
   ]
  },
  {
   "cell_type": "code",
   "execution_count": 24,
   "metadata": {},
   "outputs": [
    {
     "name": "stdout",
     "output_type": "stream",
     "text": [
      "Hi, volnet\n",
      "Positional argument tuple: (1, 2, 3, 4, 'Thanks')\n",
      "<class 'tuple'>\n",
      "Bye!\n"
     ]
    }
   ],
   "source": [
    "def print_args(yourname, *args, last):\n",
    "    print('Hi, ' + yourname)\n",
    "    print('Positional argument tuple:', args)\n",
    "    print(type(args))\n",
    "    print(last)\n",
    "    \n",
    "print_args('volnet',1,2,3,4,'Thanks', last='Bye!')"
   ]
  },
  {
   "cell_type": "markdown",
   "metadata": {},
   "source": [
    "#### 4.7.5 使用**收集关键字参数"
   ]
  },
  {
   "cell_type": "code",
   "execution_count": 28,
   "metadata": {},
   "outputs": [
    {
     "name": "stdout",
     "output_type": "stream",
     "text": [
      "Keyword arguments: {'Name': 'volnet', 'Age': 50}\n"
     ]
    }
   ],
   "source": [
    "def print_kwargs(**kwargs):\n",
    "    print('Keyword arguments:', kwargs)\n",
    "print_kwargs(Name='volnet', Age=50)"
   ]
  },
  {
   "cell_type": "code",
   "execution_count": 30,
   "metadata": {},
   "outputs": [
    {
     "name": "stdout",
     "output_type": "stream",
     "text": [
      "('0', 1, 2, 3, 4, 'Thanks')\n",
      "----\n",
      "{'last': 'Bye!'}\n"
     ]
    }
   ],
   "source": [
    "def print_args_kwargs(*args, **kwargs):\n",
    "    print(args)\n",
    "    print('----')\n",
    "    print(kwargs)\n",
    "    \n",
    "print_args_kwargs('0',1,2,3,4,'Thanks', last='Bye!')"
   ]
  },
  {
   "cell_type": "markdown",
   "metadata": {},
   "source": [
    "#### 4.7.6 文档字符串"
   ]
  },
  {
   "cell_type": "code",
   "execution_count": 32,
   "metadata": {
    "scrolled": true
   },
   "outputs": [
    {
     "name": "stdout",
     "output_type": "stream",
     "text": [
      "Help on function echo1 in module __main__:\n",
      "\n",
      "echo1(a)\n",
      "    echo1 returns its input argument\n",
      "\n",
      "-------\n",
      "Help on function echo2 in module __main__:\n",
      "\n",
      "echo2(*args)\n",
      "    echo2 returns its input arguments\n",
      "    multiline\n",
      "\n",
      "-------\n",
      "echo1 returns its input argument\n",
      "-------\n",
      "\n",
      "    echo2 returns its input arguments\n",
      "    multiline\n",
      "    \n"
     ]
    }
   ],
   "source": [
    "def echo1(a):\n",
    "    'echo1 returns its input argument'\n",
    "    return a\n",
    "\n",
    "def echo2(*args):\n",
    "    '''\n",
    "    echo2 returns its input arguments\n",
    "    multiline\n",
    "    '''\n",
    "    return b\n",
    "\n",
    "help(echo1)\n",
    "print('-------')\n",
    "help(echo2)\n",
    "print('-------')\n",
    "print(echo1.__doc__)\n",
    "print('-------')\n",
    "print(echo2.__doc__)"
   ]
  },
  {
   "cell_type": "markdown",
   "metadata": {},
   "source": [
    "#### 4.7.8 内部函数"
   ]
  },
  {
   "cell_type": "code",
   "execution_count": 41,
   "metadata": {},
   "outputs": [
    {
     "name": "stdout",
     "output_type": "stream",
     "text": [
      "We are the knights who say: 'Ni!'\n"
     ]
    }
   ],
   "source": [
    "def knights(saying):\n",
    "    def inner(quote):\n",
    "        return \"We are the knights who say: '%s'\" % quote\n",
    "    return inner(saying)\n",
    "\n",
    "print(knights('Ni!'))"
   ]
  },
  {
   "cell_type": "markdown",
   "metadata": {},
   "source": [
    "#### 4.7.9 闭包"
   ]
  },
  {
   "cell_type": "code",
   "execution_count": 40,
   "metadata": {},
   "outputs": [
    {
     "name": "stdout",
     "output_type": "stream",
     "text": [
      "We are the knights who say: 'Duck'\n",
      "We are the knights who say: 'Hasenpfeffer'\n"
     ]
    }
   ],
   "source": [
    "def knights2(saying):\n",
    "    def inner2():\n",
    "        return \"We are the knights who say: '%s'\" % saying\n",
    "    return inner2\n",
    "\n",
    "a = knights2('Duck')\n",
    "b = knights2('Hasenpfeffer')\n",
    "\n",
    "print(a())\n",
    "print(b())"
   ]
  },
  {
   "cell_type": "markdown",
   "metadata": {},
   "source": [
    "#### 4.7.10 lambda()函数"
   ]
  },
  {
   "cell_type": "code",
   "execution_count": 56,
   "metadata": {},
   "outputs": [
    {
     "name": "stdout",
     "output_type": "stream",
     "text": [
      "1.H\n",
      "1.O\n",
      "1.W\n",
      "2.a\n",
      "2.r\n",
      "2.e\n",
      "-----\n",
      "what is\n"
     ]
    }
   ],
   "source": [
    "def hello(func, arg1, arg2):\n",
    "    func(arg1, arg2)\n",
    "    \n",
    "def my_func(items1, items2=None):\n",
    "    for arg in list(items1):\n",
    "        print('1.' + arg.capitalize())\n",
    "    if arg is not None:\n",
    "        for arg in list(items2):\n",
    "            print('2.' + arg)\n",
    "        \n",
    "hello(my_func, 'how', 'are')\n",
    "print('-----')\n",
    "hello(lambda item1,item2: print(item1 + ' ' + item2), 'what', 'is')"
   ]
  },
  {
   "cell_type": "markdown",
   "metadata": {},
   "source": [
    "### 4.8 生成器"
   ]
  },
  {
   "cell_type": "code",
   "execution_count": 59,
   "metadata": {},
   "outputs": [
    {
     "name": "stdout",
     "output_type": "stream",
     "text": [
      "0\n",
      "1\n",
      "2\n",
      "3\n",
      "4\n"
     ]
    }
   ],
   "source": [
    "def my_range(first=0, last=10000, step=1):\n",
    "    number = first\n",
    "    while number < last:\n",
    "        yield number\n",
    "        number += step\n",
    "        \n",
    "for i in my_range(0,5):\n",
    "    print(i)"
   ]
  },
  {
   "cell_type": "markdown",
   "metadata": {},
   "source": [
    "### 4.9 装饰器"
   ]
  },
  {
   "cell_type": "code",
   "execution_count": 68,
   "metadata": {},
   "outputs": [
    {
     "name": "stdout",
     "output_type": "stream",
     "text": [
      "8\n",
      "-- document_it run\n",
      "---- new_function1 run\n",
      "Running function: add_ints\n",
      "Positional arguments: (3, 5)\n",
      "Keyword arguments: {}\n",
      "Result: 8\n",
      "i = 8\n",
      "-------\n",
      "-- square_it run\n",
      "-- document_it run\n",
      "---- new_function1 run\n",
      "Running function: new_function2\n",
      "Positional arguments: (3, 5)\n",
      "Keyword arguments: {}\n",
      "---- new_function2 run\n",
      "Result: 64\n",
      "j = 64\n",
      "-------\n",
      "-- document_it run\n",
      "-- square_it run\n",
      "---- new_function2 run\n",
      "---- new_function1 run\n",
      "Running function: add_ints2\n",
      "Positional arguments: (3, 5)\n",
      "Keyword arguments: {}\n",
      "Result: 8\n",
      "k = 64\n"
     ]
    }
   ],
   "source": [
    "def document_it(func):\n",
    "    print('-- document_it run')\n",
    "    def new_function1(*args, **kwargs):\n",
    "        print('---- new_function1 run')\n",
    "        print('Running function:', func.__name__)\n",
    "        print('Positional arguments:', args)\n",
    "        print('Keyword arguments:', kwargs)\n",
    "        result = func(*args, **kwargs)\n",
    "        print('Result:', result)\n",
    "        return result\n",
    "    return new_function1\n",
    "\n",
    "def add_ints(a, b):\n",
    "    return a + b\n",
    "\n",
    "x = add_ints(3, 5)\n",
    "print(x)\n",
    "\n",
    "cooler_add_ints = document_it(add_ints)\n",
    "y = cooler_add_ints(3, 5)\n",
    "print('i =', y)\n",
    "\n",
    "print('-------')\n",
    "\n",
    "def square_it(func):\n",
    "    print('-- square_it run')\n",
    "    def new_function2(*args, **kwargs):\n",
    "        print('---- new_function2 run')\n",
    "        result = func(*args, **kwargs)\n",
    "        return result * result\n",
    "    return new_function2\n",
    "\n",
    "@document_it\n",
    "@square_it\n",
    "def add_ints1(a, b):\n",
    "    return a + b\n",
    "\n",
    "print('j =', add_ints1(3, 5))\n",
    "\n",
    "print('-------')\n",
    "\n",
    "@square_it\n",
    "@document_it\n",
    "def add_ints2(a, b):\n",
    "    return a + b\n",
    "print('k =', add_ints2(3, 5))"
   ]
  },
  {
   "cell_type": "markdown",
   "metadata": {},
   "source": [
    "### 4.10 命名空间和作用域"
   ]
  },
  {
   "cell_type": "code",
   "execution_count": 84,
   "metadata": {},
   "outputs": [
    {
     "name": "stdout",
     "output_type": "stream",
     "text": [
      "monkey\n",
      "-------\n",
      "animal= bird\n",
      "monkey\n",
      "-------\n"
     ]
    },
    {
     "ename": "UnboundLocalError",
     "evalue": "local variable 'animal' referenced before assignment",
     "output_type": "error",
     "traceback": [
      "\u001b[0;31m---------------------------------------------------------------------------\u001b[0m",
      "\u001b[0;31mUnboundLocalError\u001b[0m                         Traceback (most recent call last)",
      "\u001b[0;32m<ipython-input-84-50e43398b0a1>\u001b[0m in \u001b[0;36m<module>\u001b[0;34m()\u001b[0m\n\u001b[1;32m     20\u001b[0m \u001b[0mlocal_func2\u001b[0m\u001b[0;34m(\u001b[0m\u001b[0;34m)\u001b[0m\u001b[0;34m\u001b[0m\u001b[0m\n\u001b[1;32m     21\u001b[0m \u001b[0mprint\u001b[0m\u001b[0;34m(\u001b[0m\u001b[0;34m'-------'\u001b[0m\u001b[0;34m)\u001b[0m\u001b[0;34m\u001b[0m\u001b[0m\n\u001b[0;32m---> 22\u001b[0;31m \u001b[0mlocal_func3\u001b[0m\u001b[0;34m(\u001b[0m\u001b[0;34m)\u001b[0m\u001b[0;34m\u001b[0m\u001b[0m\n\u001b[0m",
      "\u001b[0;32m<ipython-input-84-50e43398b0a1>\u001b[0m in \u001b[0;36mlocal_func3\u001b[0;34m()\u001b[0m\n\u001b[1;32m     11\u001b[0m \u001b[0;34m\u001b[0m\u001b[0m\n\u001b[1;32m     12\u001b[0m \u001b[0;32mdef\u001b[0m \u001b[0mlocal_func3\u001b[0m\u001b[0;34m(\u001b[0m\u001b[0;34m)\u001b[0m\u001b[0;34m:\u001b[0m\u001b[0;34m\u001b[0m\u001b[0m\n\u001b[0;32m---> 13\u001b[0;31m     \u001b[0mprint\u001b[0m\u001b[0;34m(\u001b[0m\u001b[0;34m'animal='\u001b[0m\u001b[0;34m,\u001b[0m \u001b[0manimal\u001b[0m\u001b[0;34m)\u001b[0m \u001b[0;31m# 一旦使用，就被认为局部作用域内的animal是全局变量了。\u001b[0m\u001b[0;34m\u001b[0m\u001b[0m\n\u001b[0m\u001b[1;32m     14\u001b[0m     \u001b[0manimal\u001b[0m \u001b[0;34m=\u001b[0m \u001b[0;34m'monkey'\u001b[0m\u001b[0;34m\u001b[0m\u001b[0m\n\u001b[1;32m     15\u001b[0m     \u001b[0mprint\u001b[0m\u001b[0;34m(\u001b[0m\u001b[0manimal\u001b[0m\u001b[0;34m)\u001b[0m\u001b[0;34m\u001b[0m\u001b[0m\n",
      "\u001b[0;31mUnboundLocalError\u001b[0m: local variable 'animal' referenced before assignment"
     ]
    }
   ],
   "source": [
    "animal = 'bird'\n",
    "def local_func1():\n",
    "    animal = 'monkey'\n",
    "    print(animal)\n",
    "\n",
    "def local_func2():\n",
    "    global animal\n",
    "    print('animal=', animal) # 一旦使用，就被认为局部作用域内的animal是全局变量了。\n",
    "    animal = 'monkey'\n",
    "    print(animal)\n",
    "    \n",
    "def local_func3():\n",
    "    print('animal=', animal) # 一旦使用，就被认为局部作用域内的animal是全局变量了。\n",
    "    animal = 'monkey'\n",
    "    print(animal)\n",
    "    \n",
    "    \n",
    "local_func1()\n",
    "print('-------')\n",
    "local_func2()\n",
    "print('-------')\n",
    "local_func3()"
   ]
  },
  {
   "cell_type": "code",
   "execution_count": 85,
   "metadata": {},
   "outputs": [
    {
     "name": "stdout",
     "output_type": "stream",
     "text": [
      "globals: {'__name__': '__main__', '__doc__': 'Automatically created module for IPython interactive environment', '__package__': None, '__loader__': None, '__spec__': None, '__builtin__': <module 'builtins' (built-in)>, '__builtins__': <module 'builtins' (built-in)>, '_ih': ['', 'rows = range(1,12)\\ncols = range(1,8)\\ncells1 = [(row, col) for row in rows for col in cols]\\nfor cell in cells1:\\n    print(cell)\\n    \\ncells2 = [(row, col) for row if row % 2 == 0 in rows for col in cols if col % 3 == 0]\\nfor cell in cells2:\\n    print(cell)', 'rows = range(1,12)\\ncols = range(1,8)\\ncells1 = [(row, col) for row in rows for col in cols]\\nfor cell in cells1:\\n    print(cell)\\n    \\ncells2 = [(row, col) for row in rows if row % 2 == 0 for col in cols if col % 3 == 0]\\nfor cell in cells2:\\n    print(cell)', \"rows = range(1,12)\\ncols = range(1,8)\\ncells1 = [(row, col) for row in rows for col in cols]\\nfor cell in cells1:\\n    print(cell)\\n    \\nprint('-------')\\ncells2 = [(row, col) for row in rows if row % 2 == 0 for col in cols if col % 3 == 0]\\nfor cell in cells2:\\n    print(cell)\", \"rows = range(1,4)\\ncols = range(1,3)\\ncells1 = [(row, col) for row in rows for col in cols]\\nfor cell in cells1:\\n    print(cell)\\n    \\nprint('-------')\\n\\nrows = range(1,12)\\ncols = range(1,8)\\ncells2 = [(row, col) for row in rows if row % 2 == 0 for col in cols if col % 3 == 0]\\nfor cell in cells2:\\n    print(cell)\", \"str1 = '{ key_expression : value_expression for expression in iterable }'\\n\\nx = { letter : str1.count(letter) for letter in str1 }\\nprint(x)\", \"str1 = '{ key_expression : value_expression for expression in iterable }'\\n\\nx = { letter : str1.count(letter) for letter in str1 }\\nprint(x)\\n\\n# 优化\\nx = { letter : str1.count(letter) for letter in set(str1) }\\nprint(x)\", \"str1 = '{ key_expression : value_expression for expression in iterable }'\\n\\nx = { letter : str1.count(letter) for letter in str1 }\\nprint(x)\\n\\n# 优化，避免遍历相同的字符太多次\\nx = { letter : str1.count(letter) for letter in set(str1) }\\nprint(x)\", 'str1 = \\'{ key_expression : value_expression for expression in iterable }\\'\\n\\nx = { letter : str1.count(letter) for letter in str1 }\\nprint(x)\\n\\n# 优化，避免遍历相同的字符太多次\\nx = { letter : str1.count(letter) for letter in set(str1) }\\nprint(x)\\n\\n# 优化，\\nx = { letter : str1.count(letter) for letter in set(str1) if letter == \\'p\\' or letter == \"x\"}\\nprint(x)', 'x = { number for number in range(1,6) if number % 3 == 1}\\nprint(x)', \"a = ['i', 'j', 'k']\\nb = ['1', '2', '3', '4']\\n\\nc1 = zip(a, b)\\nc2 = zip(a, b)\\n\\nd = list(c1)\\ne = list(c1)\\nf = dict(c2)\\n\\nprint(type(c1))\\nprint(type(c2))\\nprint(c1)\\nprint(c2)\\nprint(d)\\nprint(e)\\nprint(f)\", 'number_thing = (number for number in range(1,6))\\nprint(type(number_thing))', 'number_thing = (number for number in range(1,6))\\nnumber_list = list(number_thing)\\ntry_again = list(number_thing)\\nprint(number_list)\\nprint(try_again)', \"def func(p1, p2, p3):\\n    return {'p1':p1, 'p2':p2, 'p3':p3}\\n\\nfunc(p2='Hello', p1='Hi', p3='Hey')\", \"def func(p1, p2, p3):\\n    return {'p1':p1, 'p2':p2, 'p3':p3}\\n\\nprint(func(p2='Hello', p1='Hi', p3='Hey'))\", \"def func(p1, p2, p3):\\n    return {'p1':p1, 'p2':p2, 'p3':p3}\\n\\nprint(func('Hello', p1='Hi', p3='Hey'))\", \"def func(p1, p2, p3):\\n    return {'p1':p1, 'p2':p2, 'p3':p3}\\n\\nprint(func('Hello', p3='Hi', p2='Hey'))\", \"def buggy(arg, result=[]):\\n    result.append(arg)\\n    print(result)\\n    \\nbuggy('a')\\nbuggy('b')\", \"def buggy(arg, result=[]):\\n    result.append(arg)\\n    print(result)\\n    \\nbuggy('a')\\nbuggy('b')\\nbuggy('c')\\nbuggy('d')\", \"def buggy(arg, result=None):\\n    if result is None:\\n        result = []\\n    result.append(arg)\\n    print(result)\\n    \\nbuggy('a')\\nbuggy('b')\\nbuggy('c')\\nbuggy('d')\", \"def print_args(*args):\\n    print('Positional argument tuple:', args)\\n    print(type(args))\\n    \\nprint_args(1,2,3,4,5)\", \"def print_args(yourname, *args):\\n    print('Hi, ' + yourname)\\n    print('Positional argument tuple:', args)\\n    print(type(args))\\n    \\nprint_args('volnet', 1,2,3,4,5)\", \"def print_args(yourname, *args):\\n    print('Hi, ' + yourname)\\n    print('Positional argument tuple:', args)\\n    print(type(args))\\n    \\nprint_args('volnet',1,2,3,4,'Thanks')\", \"def print_args(yourname, *args, last):\\n    print('Hi, ' + yourname)\\n    print('Positional argument tuple:', args)\\n    print(type(args))\\n    print(last)\\n    \\nprint_args('volnet',1,2,3,4,'Thanks')\", \"def print_args(yourname, *args, last):\\n    print('Hi, ' + yourname)\\n    print('Positional argument tuple:', args)\\n    print(type(args))\\n    print(last)\\n    \\nprint_args('volnet',1,2,3,4,'Thanks', last='Bye!')\", \"def print_kwargs(**kwargs):\\n    print('Keyword arguments:', kwargs)\\nprint_kwargs(MyName: 'volnet', Age: 50)\", \"def print_kwargs(**kwargs):\\n    print('Keyword arguments:', kwargs)\\nprint_kwargs(MyName='volnet', Age=50)\", \"def print_kwargs(**kwargs):\\n    print('Keyword arguments:', kwargs)\\nprint_kwargs(MyName='volnet', Age=50)\", \"def print_kwargs(**kwargs):\\n    print('Keyword arguments:', kwargs)\\nprint_kwargs(Name='volnet', Age=50)\", \"def print_args_kwargs(*args, **kwargs):\\n    print(args)\\n    print('----')\\n    print(kwargs)\\n    \\nprint_args_kwargs('volnet',1,2,3,4,'Thanks', last='Bye!')\", \"def print_args_kwargs(*args, **kwargs):\\n    print(args)\\n    print('----')\\n    print(kwargs)\\n    \\nprint_args_kwargs('0',1,2,3,4,'Thanks', last='Bye!')\", \"def print_args_kwargs(**kwargs, *args):\\n    print(args)\\n    print('----')\\n    print(kwargs)\\n    \\nprint_args_kwargs('0',1,2,3,4,'Thanks', last='Bye!')\", \"def echo1(a):\\n    'echo1 returns its input argument'\\n    return a\\n\\ndef echo2(*args):\\n    '''\\n    echo2 returns its input arguments\\n    multiline\\n    '''\\n    return b\\n\\nhelp(echo1)\\nprint('-------')\\nhelp(echo2)\\nprint('-------')\\nprint(echo1.__doc__)\\nprint('-------')\\nprint(echo2.__doc__)\", 'def knights(saying):\\n    def inner(quote):\\n        return \"We are the knights who say: \\'%s\\'\" % quote\\n    return inner(saying)\\n\\nknights(\\'Ni!\\')', 'def knights2(saying):\\n    def inner2():\\n        return \"We are the knights who say: \\'%s\\'\" % saying\\n    return inner2\\n\\nknights2(\\'Ni!\\')', 'def knights2(saying):\\n    def inner2():\\n        return \"We are the knights who say: \\'%s\\'\" % saying\\n    return inner2\\n\\nknights2(\\'Ni!\\')()', 'def knights2(saying):\\n    def inner2():\\n        return \"We are the knights who say: \\'%s\\'\" % saying\\n    return inner2\\n\\na = knights2(\\'Duck\\')\\nb = knights2(\\'Hasenpfeffer\\')\\n\\na()\\nb()', 'def knights2(saying):\\n    def inner2():\\n        return \"We are the knights who say: \\'%s\\'\" % saying\\n    return inner2\\n\\na = knights2(\\'Duck\\')\\nb = knights2(\\'Hasenpfeffer\\')\\n\\na()\\nb()', 'def knights2(saying):\\n    def inner2():\\n        return \"We are the knights who say: \\'%s\\'\" % saying\\n    return inner2\\n\\na = knights2(\\'Duck\\')\\nb = knights2(\\'Hasenpfeffer\\')\\n\\na(b())', 'def knights2(saying):\\n    def inner2():\\n        return \"We are the knights who say: \\'%s\\'\" % saying\\n    return inner2\\n\\na = knights2(\\'Duck\\')\\nb = knights2(\\'Hasenpfeffer\\')\\n\\na()\\nb()', 'def knights2(saying):\\n    def inner2():\\n        return \"We are the knights who say: \\'%s\\'\" % saying\\n    return inner2\\n\\na = knights2(\\'Duck\\')\\nb = knights2(\\'Hasenpfeffer\\')\\n\\nprint(a())\\nprint(b())', 'def knights(saying):\\n    def inner(quote):\\n        return \"We are the knights who say: \\'%s\\'\" % quote\\n    return inner(saying)\\n\\nprint(knights(\\'Ni!\\'))', \"def hello(func, *args):\\n    func(args)\\n    \\ndef my_func(*args):\\n    for arg in args:\\n        print(arg.capitalize()+'!')\\n        \\nhello(my_func, 'how', 'are', 'you')\", \"def hello(func, *args):\\n    func(args)\\n    \\ndef my_func(*args):\\n    for arg in args:\\n        print(arg)\\n        \\nhello(my_func, 'how', 'are', 'you')\", \"def hello(func, *args):\\n    func(args)\\n    \\ndef my_func(*args):\\n    for arg in args:\\n        print(type(args))\\n        \\nhello(my_func, 'how', 'are', 'you')\", \"def hello(func, *args):\\n    func(args)\\n    \\ndef my_func(*args):\\n    for arg in list(args):\\n        print(arg.capitalize()+'!')\\n        \\nhello(my_func, 'how', 'are', 'you')\", \"def hello(func, *args):\\n    func(args)\\n    \\ndef my_func(*args):\\n    for arg in list(args):\\n        print(list(args))\\n        \\nhello(my_func, 'how', 'are', 'you')\", \"def hello(func, *args):\\n    func(args)\\n    \\ndef my_func(*args):\\n    a = list(args)\\n    print(a)\\n    for arg in a:\\n        print(arg.capitalize()+'!')\\n        \\nhello(my_func, 'how', 'are', 'you')\", \"def hello(func, *args):\\n    func(args)\\n    \\ndef my_func(*args):\\n    print(args)\\n    a = list(args)\\n    print(a)\\n    for arg in a:\\n        print(arg.capitalize()+'!')\\n        \\nhello(my_func, 'how', 'are', 'you')\", \"def hello(func, *args):\\n    func(args)\\n    \\ndef my_func(args):\\n    print(args)\\n    a = list(args)\\n    print(a)\\n    for arg in a:\\n        print(arg.capitalize()+'!')\\n        \\nhello(my_func, 'how', 'are', 'you')\", \"def hello(func, *args):\\n    func(args)\\n    \\ndef my_func(args):\\n    for arg in list(args):\\n        print(arg.capitalize()+'!')\\n        \\nhello(my_func, 'how', 'are', 'you')\", \"def hello(func, arg1, arg2):\\n    func(arg1, arg2)\\n    \\ndef my_func(items1, items2=None):\\n    for arg in list(items1):\\n        print(arg.capitalize()+'!')\\n    if item2 is not None:\\n        for arg in list(items2):\\n            print('items2:' + arg)\\n        \\nhello(my_func, 'how', 'are')\\nhello(lambda item1,item2: print(item1 + ' ' + item2), 'what', 'is')\", \"def hello(func, arg1, arg2):\\n    func(arg1, arg2)\\n    \\ndef my_func(items1, items2=None):\\n    for arg in list(items1):\\n        print(arg.capitalize()+'!')\\n    if arg is not None:\\n        for arg in list(items2):\\n            print('items2:' + arg)\\n        \\nhello(my_func, 'how', 'are')\\nhello(lambda item1,item2: print(item1 + ' ' + item2), 'what', 'is')\", \"def hello(func, arg1, arg2):\\n    func(arg1, arg2)\\n    \\ndef my_func(items1, items2=None):\\n    for arg in list(items1):\\n        print(arg.capitalize()+'!')\\n    if arg is not None:\\n        for arg in list(items2):\\n            print('items2:' + arg)\\n        \\nhello(my_func, 'how', 'are')\\nprint('-----')\\nhello(lambda item1,item2: print(item1 + ' ' + item2), 'what', 'is')\", \"def hello(func, arg1, arg2):\\n    func(arg1, arg2)\\n    \\ndef my_func(items1, items2=None):\\n    for arg in list(items1):\\n        print(arg.capitalize()+'!')\\n    if arg is not None:\\n        for arg in list(items2):\\n            print('- ' + arg)\\n        \\nhello(my_func, 'how', 'are')\\nprint('-----')\\nhello(lambda item1,item2: print(item1 + ' ' + item2), 'what', 'is')\", \"def hello(func, arg1, arg2):\\n    func(arg1, arg2)\\n    \\ndef my_func(items1, items2=None):\\n    for arg in list(items1):\\n        print('1.' + arg.capitalize()+'!')\\n    if arg is not None:\\n        for arg in list(items2):\\n            print('2.' + arg)\\n        \\nhello(my_func, 'how', 'are')\\nprint('-----')\\nhello(lambda item1,item2: print(item1 + ' ' + item2), 'what', 'is')\", \"def hello(func, arg1, arg2):\\n    func(arg1, arg2)\\n    \\ndef my_func(items1, items2=None):\\n    for arg in list(items1):\\n        print('1.' + arg.capitalize())\\n    if arg is not None:\\n        for arg in list(items2):\\n            print('2.' + arg)\\n        \\nhello(my_func, 'how', 'are')\\nprint('-----')\\nhello(lambda item1,item2: print(item1 + ' ' + item2), 'what', 'is')\", 'def my_range(first=0, last, step=1):\\n    number = first\\n    while number < last:\\n        yield number\\n        number += step\\n        \\nfor i in my_range(0,5):\\n    print(i)', 'def my_range(first=0, last=10, step=1):\\n    number = first\\n    while number < last:\\n        yield number\\n        number += step\\n        \\nfor i in my_range(0,5):\\n    print(i)', 'def my_range(first=0, last=10000, step=1):\\n    number = first\\n    while number < last:\\n        yield number\\n        number += step\\n        \\nfor i in my_range(0,5):\\n    print(i)', \"def document_it(func):\\n    def new_function(*arg, **kwargs):\\n        print('Running function:', func.__name__)\\n        print('Positional arguments:', args)\\n        print('Keyword arguments:', kwargs)\\n        result = func(*args, **kwargs)\\n        print('Result:', result)\\n        return result\\n    return new_function\\n\\ndef add_ints(a, b):\\n    return a + b\\n\\nx = add_ints(3, 5)\\nprint(x)\\n\\ncooler_add_ints = document_it(add_ints)\\ny = cooler_add_ints(3, 5)\\nprint(y)\", \"def document_it(func):\\n    def new_function(*args, **kwargs):\\n        print('Running function:', func.__name__)\\n        print('Positional arguments:', args)\\n        print('Keyword arguments:', kwargs)\\n        result = func(*args, **kwargs)\\n        print('Result:', result)\\n        return result\\n    return new_function\\n\\ndef add_ints(a, b):\\n    return a + b\\n\\nx = add_ints(3, 5)\\nprint(x)\\n\\ncooler_add_ints = document_it(add_ints)\\ny = cooler_add_ints(3, 5)\\nprint(y)\", \"def document_it(func):\\n    def new_function(*args, **kwargs):\\n        print('Running function:', func.__name__)\\n        print('Positional arguments:', args)\\n        print('Keyword arguments:', kwargs)\\n        result = func(*args, **kwargs)\\n        print('Result:', result)\\n        return result\\n    return new_function\\n\\ndef add_ints(a, b):\\n    return a + b\\n\\nx = add_ints(3, 5)\\nprint(x)\\n\\ncooler_add_ints = document_it(add_ints)\\ny = cooler_add_ints(3, 5)\\nprint(y)\\n\\nprint('-------')\\n\\ndef square_it(func):\\n    def new_function(*args, **kwargs):\\n        result = func(*args, **kwargs)\\n        return result * result\\n    return new_function\\n\\n@document_it\\n@square_it\\ndef add_ints1(a, b):\\n    return a + b\\n\\nprint(add_ints1(3, 5))\\n\\nprint('-------')\\n\\n@square_it\\n@document_it\\ndef add_ints2(a, b):\\n    return a + b\\nprint(add_ints2(3, 5))\", \"def document_it(func):\\n    def new_function(*args, **kwargs):\\n        print('Running function:', func.__name__)\\n        print('Positional arguments:', args)\\n        print('Keyword arguments:', kwargs)\\n        result = func(*args, **kwargs)\\n        print('Result:', result)\\n        return result\\n    return new_function\\n\\ndef add_ints(a, b):\\n    return a + b\\n\\nx = add_ints(3, 5)\\nprint(x)\\n\\ncooler_add_ints = document_it(add_ints)\\ny = cooler_add_ints(3, 5)\\nprint('i=', y)\\n\\nprint('-------')\\n\\ndef square_it(func):\\n    def new_function(*args, **kwargs):\\n        result = func(*args, **kwargs)\\n        return result * result\\n    return new_function\\n\\n@document_it\\n@square_it\\ndef add_ints1(a, b):\\n    return a + b\\n\\nprint('j=', add_ints1(3, 5))\\n\\nprint('-------')\\n\\n@square_it\\n@document_it\\ndef add_ints2(a, b):\\n    return a + b\\nprint('k=', add_ints2(3, 5))\", \"def document_it(func):\\n    def new_function(*args, **kwargs):\\n        print('Running function:', func.__name__)\\n        print('Positional arguments:', args)\\n        print('Keyword arguments:', kwargs)\\n        result = func(*args, **kwargs)\\n        print('Result:', result)\\n        return result\\n    return new_function\\n\\ndef add_ints(a, b):\\n    return a + b\\n\\nx = add_ints(3, 5)\\nprint(x)\\n\\ncooler_add_ints = document_it(add_ints)\\ny = cooler_add_ints(3, 5)\\nprint('i =', y)\\n\\nprint('-------')\\n\\ndef square_it(func):\\n    def new_function(*args, **kwargs):\\n        result = func(*args, **kwargs)\\n        return result * result\\n    return new_function\\n\\n@document_it\\n@square_it\\ndef add_ints1(a, b):\\n    return a + b\\n\\nprint('j =', add_ints1(3, 5))\\n\\nprint('-------')\\n\\n@square_it\\n@document_it\\ndef add_ints2(a, b):\\n    return a + b\\nprint('k =', add_ints2(3, 5))\", \"def document_it(func):\\n    def new_function1(*args, **kwargs):\\n        print('Running function:', func.__name__)\\n        print('Positional arguments:', args)\\n        print('Keyword arguments:', kwargs)\\n        result = func(*args, **kwargs)\\n        print('Result:', result)\\n        return result\\n    return new_function1\\n\\ndef add_ints(a, b):\\n    return a + b\\n\\nx = add_ints(3, 5)\\nprint(x)\\n\\ncooler_add_ints = document_it(add_ints)\\ny = cooler_add_ints(3, 5)\\nprint('i =', y)\\n\\nprint('-------')\\n\\ndef square_it(func):\\n    def new_function2(*args, **kwargs):\\n        result = func(*args, **kwargs)\\n        return result * result\\n    return new_function2\\n\\n@document_it\\n@square_it\\ndef add_ints1(a, b):\\n    return a + b\\n\\nprint('j =', add_ints1(3, 5))\\n\\nprint('-------')\\n\\n@square_it\\n@document_it\\ndef add_ints2(a, b):\\n    return a + b\\nprint('k =', add_ints2(3, 5))\", \"def document_it(func):\\n    print('document_it run')\\n    def new_function1(*args, **kwargs):\\n        print('Running function:', func.__name__)\\n        print('Positional arguments:', args)\\n        print('Keyword arguments:', kwargs)\\n        result = func(*args, **kwargs)\\n        print('Result:', result)\\n        return result\\n    return new_function1\\n\\ndef add_ints(a, b):\\n    return a + b\\n\\nx = add_ints(3, 5)\\nprint(x)\\n\\ncooler_add_ints = document_it(add_ints)\\ny = cooler_add_ints(3, 5)\\nprint('i =', y)\\n\\nprint('-------')\\n\\ndef square_it(func):\\n    print('square_it run')\\n    def new_function2(*args, **kwargs):\\n        result = func(*args, **kwargs)\\n        return result * result\\n    return new_function2\\n\\n@document_it\\n@square_it\\ndef add_ints1(a, b):\\n    return a + b\\n\\nprint('j =', add_ints1(3, 5))\\n\\nprint('-------')\\n\\n@square_it\\n@document_it\\ndef add_ints2(a, b):\\n    return a + b\\nprint('k =', add_ints2(3, 5))\", \"def document_it(func):\\n    print('-- document_it run')\\n    def new_function1(*args, **kwargs):\\n        print('Running function:', func.__name__)\\n        print('Positional arguments:', args)\\n        print('Keyword arguments:', kwargs)\\n        result = func(*args, **kwargs)\\n        print('Result:', result)\\n        return result\\n    return new_function1\\n\\ndef add_ints(a, b):\\n    return a + b\\n\\nx = add_ints(3, 5)\\nprint(x)\\n\\ncooler_add_ints = document_it(add_ints)\\ny = cooler_add_ints(3, 5)\\nprint('i =', y)\\n\\nprint('-------')\\n\\ndef square_it(func):\\n    print('-- square_it run')\\n    def new_function2(*args, **kwargs):\\n        result = func(*args, **kwargs)\\n        return result * result\\n    return new_function2\\n\\n@document_it\\n@square_it\\ndef add_ints1(a, b):\\n    return a + b\\n\\nprint('j =', add_ints1(3, 5))\\n\\nprint('-------')\\n\\n@square_it\\n@document_it\\ndef add_ints2(a, b):\\n    return a + b\\nprint('k =', add_ints2(3, 5))\", \"def document_it(func):\\n    print('-- document_it run')\\n    def new_function1(*args, **kwargs):\\n        print('---- new_function1 run')\\n        print('Running function:', func.__name__)\\n        print('Positional arguments:', args)\\n        print('Keyword arguments:', kwargs)\\n        result = func(*args, **kwargs)\\n        print('Result:', result)\\n        return result\\n    return new_function1\\n\\ndef add_ints(a, b):\\n    return a + b\\n\\nx = add_ints(3, 5)\\nprint(x)\\n\\ncooler_add_ints = document_it(add_ints)\\ny = cooler_add_ints(3, 5)\\nprint('i =', y)\\n\\nprint('-------')\\n\\ndef square_it(func):\\n    print('-- square_it run')\\n    def new_function2(*args, **kwargs):\\n        print('---- new_function2 run')\\n        result = func(*args, **kwargs)\\n        return result * result\\n    return new_function2\\n\\n@document_it\\n@square_it\\ndef add_ints1(a, b):\\n    return a + b\\n\\nprint('j =', add_ints1(3, 5))\\n\\nprint('-------')\\n\\n@square_it\\n@document_it\\ndef add_ints2(a, b):\\n    return a + b\\nprint('k =', add_ints2(3, 5))\", \"animal = 'bird'\\ndef local_func():\\n    animal = 'monkey'\\n    \", \"animal = 'bird'\\ndef local_func():\\n    animal = 'monkey'\\n    print(animal)\", \"animal = 'bird'\\ndef local_func():\\n    animal = 'monkey'\\n    print(animal)\\n    \\nlocal_func()\", \"animal = 'bird'\\ndef local_func():\\n    print('animal=', animal)\\n    animal = 'monkey'\\n    print(animal)\\n    \\nlocal_func()\", \"animal = 'bird'\\ndef local_func1():\\n    animal = 'monkey'\\n    print(animal)\\n    \\ndef local_func2():\\n    print('animal=', animal) # 一旦使用，就被认为局部作用域内的animal是全局变量了。\\n    animal = 'monkey'\\n    print(animal)\\n    \\nlocal_func1()\\nlocal_func2()\", \"animal = 'bird'\\ndef local_func1():\\n    animal = 'monkey'\\n    print(animal)\\n\\nprint('-------')\\ndef local_func2():\\n    print('animal=', animal) # 一旦使用，就被认为局部作用域内的animal是全局变量了。\\n    animal = 'monkey'\\n    print(animal)\\n    \\nlocal_func1()\\nlocal_func2()\", \"animal = 'bird'\\ndef local_func1():\\n    animal = 'monkey'\\n    print(animal)\\n\\ndef local_func2():\\n    print('animal=', animal) # 一旦使用，就被认为局部作用域内的animal是全局变量了。\\n    animal = 'monkey'\\n    print(animal)\\n    \\nlocal_func1()\\nprint('-------')\\nlocal_func2()\", \"animal = 'bird'\\ndef local_func1():\\n    animal = 'monkey'\\n    print(animal)\\n\\ndef local_func2():\\n    print('animal=', animal) # 一旦使用，就被认为局部作用域内的animal是全局变量了。\\n    animal = 'monkey'\\n    print(animal)\\n    \\ndef local_func3():\\n    print('animal=', animal) # 一旦使用，就被认为局部作用域内的animal是全局变量了。\\n    global animal = 'monkey'\\n    print(animal)\\n    \\n    \\nlocal_func1()\\nprint('-------')\\nlocal_func2()\", \"animal = 'bird'\\ndef local_func1():\\n    animal = 'monkey'\\n    print(animal)\\n\\ndef local_func2():\\n    print('animal=', animal) # 一旦使用，就被认为局部作用域内的animal是全局变量了。\\n    animal = 'monkey'\\n    print(animal)\\n    \\ndef local_func3():\\n    print('animal=', animal) # 一旦使用，就被认为局部作用域内的animal是全局变量了。\\n    global animal\\n    animal = 'monkey'\\n    print(animal)\\n    \\n    \\nlocal_func1()\\nprint('-------')\\nlocal_func2()\", \"animal = 'bird'\\ndef local_func1():\\n    animal = 'monkey'\\n    print(animal)\\n\\ndef local_func2():\\n    print('animal=', animal) # 一旦使用，就被认为局部作用域内的animal是全局变量了。\\n    animal = 'monkey'\\n    print(animal)\\n    \\ndef local_func3():\\n    global animal\\n    print('animal=', animal) # 一旦使用，就被认为局部作用域内的animal是全局变量了。\\n    animal = 'monkey'\\n    print(animal)\\n    \\n    \\nlocal_func1()\\nprint('-------')\\nlocal_func2()\", \"animal = 'bird'\\ndef local_func1():\\n    animal = 'monkey'\\n    print(animal)\\n\\ndef local_func2():\\n    print('animal=', animal) # 一旦使用，就被认为局部作用域内的animal是全局变量了。\\n    animal = 'monkey'\\n    print(animal)\\n    \\ndef local_func3():\\n    global animal\\n    print('animal=', animal) # 一旦使用，就被认为局部作用域内的animal是全局变量了。\\n    animal = 'monkey'\\n    print(animal)\\n    \\n    \\nlocal_func1()\\nprint('-------')\\nlocal_func2()\\nprint('-------')\\nlocal_func3()\", \"animal = 'bird'\\ndef local_func1():\\n    animal = 'monkey'\\n    print(animal)\\n\\ndef local_func2():\\n    global animal\\n    print('animal=', animal) # 一旦使用，就被认为局部作用域内的animal是全局变量了。\\n    animal = 'monkey'\\n    print(animal)\\n    \\ndef local_func3():\\n    print('animal=', animal) # 一旦使用，就被认为局部作用域内的animal是全局变量了。\\n    animal = 'monkey'\\n    print(animal)\\n    \\n    \\nlocal_func1()\\nprint('-------')\\nlocal_func2()\\nprint('-------')\\nlocal_func3()\", \"animal = 'bird'\\ndef local_func1():\\n    animal = 'monkey'\\n    print(animal)\\n\\ndef local_func2():\\n    print('animal=', animal) # 一旦使用，就被认为局部作用域内的animal是全局变量了。\\n    global animal\\n    animal = 'monkey'\\n    print(animal)\\n    \\ndef local_func3():\\n    print('animal=', animal) # 一旦使用，就被认为局部作用域内的animal是全局变量了。\\n    animal = 'monkey'\\n    print(animal)\\n    \\n    \\nlocal_func1()\\nprint('-------')\\nlocal_func2()\\nprint('-------')\\nlocal_func3()\", \"animal = 'bird'\\ndef local_func1():\\n    animal = 'monkey'\\n    print(animal)\\n\\ndef local_func2():\\n    global animal\\n    print('animal=', animal) # 一旦使用，就被认为局部作用域内的animal是全局变量了。\\n    animal = 'monkey'\\n    print(animal)\\n    \\ndef local_func3():\\n    print('animal=', animal) # 一旦使用，就被认为局部作用域内的animal是全局变量了。\\n    animal = 'monkey'\\n    print(animal)\\n    \\n    \\nlocal_func1()\\nprint('-------')\\nlocal_func2()\\nprint('-------')\\nlocal_func3()\", \"animal = 'bird'\\ndef local_func1():\\n    animal = 'monkey'\\n    print(animal)\\n\\ndef local_func2():\\n    print('animal=', animal) # 一旦使用，就被认为局部作用域内的animal是全局变量了。\\n    global animal = 'monkey'\\n    print(animal)\\n    \\ndef local_func3():\\n    print('animal=', animal) # 一旦使用，就被认为局部作用域内的animal是全局变量了。\\n    animal = 'monkey'\\n    print(animal)\\n    \\n    \\nlocal_func1()\\nprint('-------')\\nlocal_func2()\\nprint('-------')\\nlocal_func3()\", \"animal = 'bird'\\ndef local_func1():\\n    animal = 'monkey'\\n    print(animal)\\n\\ndef local_func2():\\n    global animal\\n    print('animal=', animal) # 一旦使用，就被认为局部作用域内的animal是全局变量了。\\n    animal = 'monkey'\\n    print(animal)\\n    \\ndef local_func3():\\n    print('animal=', animal) # 一旦使用，就被认为局部作用域内的animal是全局变量了。\\n    animal = 'monkey'\\n    print(animal)\\n    \\n    \\nlocal_func1()\\nprint('-------')\\nlocal_func2()\\nprint('-------')\\nlocal_func3()\", \"animal = 'bird'\\ndef local_func4():\\n    animal = 'monkey'\\n    print(animal)\\n    print('locals:', locals())\\n    \\nprint('globals:', globals())\\nlocal_func4()\"], '_oh': {13: {'p1': 'Hi', 'p2': 'Hello', 'p3': 'Hey'}, 33: \"We are the knights who say: 'Ni!'\", 34: <function knights2.<locals>.inner2 at 0x10e5c8400>, 35: \"We are the knights who say: 'Ni!'\", 36: \"We are the knights who say: 'Hasenpfeffer'\", 37: \"We are the knights who say: 'Hasenpfeffer'\", 39: \"We are the knights who say: 'Hasenpfeffer'\"}, '_dh': ['/Users/gongcen/VolnetGitHub/volnet.github.io/docs/book/IntroducingPython/samples/chapter04'], 'In': ['', 'rows = range(1,12)\\ncols = range(1,8)\\ncells1 = [(row, col) for row in rows for col in cols]\\nfor cell in cells1:\\n    print(cell)\\n    \\ncells2 = [(row, col) for row if row % 2 == 0 in rows for col in cols if col % 3 == 0]\\nfor cell in cells2:\\n    print(cell)', 'rows = range(1,12)\\ncols = range(1,8)\\ncells1 = [(row, col) for row in rows for col in cols]\\nfor cell in cells1:\\n    print(cell)\\n    \\ncells2 = [(row, col) for row in rows if row % 2 == 0 for col in cols if col % 3 == 0]\\nfor cell in cells2:\\n    print(cell)', \"rows = range(1,12)\\ncols = range(1,8)\\ncells1 = [(row, col) for row in rows for col in cols]\\nfor cell in cells1:\\n    print(cell)\\n    \\nprint('-------')\\ncells2 = [(row, col) for row in rows if row % 2 == 0 for col in cols if col % 3 == 0]\\nfor cell in cells2:\\n    print(cell)\", \"rows = range(1,4)\\ncols = range(1,3)\\ncells1 = [(row, col) for row in rows for col in cols]\\nfor cell in cells1:\\n    print(cell)\\n    \\nprint('-------')\\n\\nrows = range(1,12)\\ncols = range(1,8)\\ncells2 = [(row, col) for row in rows if row % 2 == 0 for col in cols if col % 3 == 0]\\nfor cell in cells2:\\n    print(cell)\", \"str1 = '{ key_expression : value_expression for expression in iterable }'\\n\\nx = { letter : str1.count(letter) for letter in str1 }\\nprint(x)\", \"str1 = '{ key_expression : value_expression for expression in iterable }'\\n\\nx = { letter : str1.count(letter) for letter in str1 }\\nprint(x)\\n\\n# 优化\\nx = { letter : str1.count(letter) for letter in set(str1) }\\nprint(x)\", \"str1 = '{ key_expression : value_expression for expression in iterable }'\\n\\nx = { letter : str1.count(letter) for letter in str1 }\\nprint(x)\\n\\n# 优化，避免遍历相同的字符太多次\\nx = { letter : str1.count(letter) for letter in set(str1) }\\nprint(x)\", 'str1 = \\'{ key_expression : value_expression for expression in iterable }\\'\\n\\nx = { letter : str1.count(letter) for letter in str1 }\\nprint(x)\\n\\n# 优化，避免遍历相同的字符太多次\\nx = { letter : str1.count(letter) for letter in set(str1) }\\nprint(x)\\n\\n# 优化，\\nx = { letter : str1.count(letter) for letter in set(str1) if letter == \\'p\\' or letter == \"x\"}\\nprint(x)', 'x = { number for number in range(1,6) if number % 3 == 1}\\nprint(x)', \"a = ['i', 'j', 'k']\\nb = ['1', '2', '3', '4']\\n\\nc1 = zip(a, b)\\nc2 = zip(a, b)\\n\\nd = list(c1)\\ne = list(c1)\\nf = dict(c2)\\n\\nprint(type(c1))\\nprint(type(c2))\\nprint(c1)\\nprint(c2)\\nprint(d)\\nprint(e)\\nprint(f)\", 'number_thing = (number for number in range(1,6))\\nprint(type(number_thing))', 'number_thing = (number for number in range(1,6))\\nnumber_list = list(number_thing)\\ntry_again = list(number_thing)\\nprint(number_list)\\nprint(try_again)', \"def func(p1, p2, p3):\\n    return {'p1':p1, 'p2':p2, 'p3':p3}\\n\\nfunc(p2='Hello', p1='Hi', p3='Hey')\", \"def func(p1, p2, p3):\\n    return {'p1':p1, 'p2':p2, 'p3':p3}\\n\\nprint(func(p2='Hello', p1='Hi', p3='Hey'))\", \"def func(p1, p2, p3):\\n    return {'p1':p1, 'p2':p2, 'p3':p3}\\n\\nprint(func('Hello', p1='Hi', p3='Hey'))\", \"def func(p1, p2, p3):\\n    return {'p1':p1, 'p2':p2, 'p3':p3}\\n\\nprint(func('Hello', p3='Hi', p2='Hey'))\", \"def buggy(arg, result=[]):\\n    result.append(arg)\\n    print(result)\\n    \\nbuggy('a')\\nbuggy('b')\", \"def buggy(arg, result=[]):\\n    result.append(arg)\\n    print(result)\\n    \\nbuggy('a')\\nbuggy('b')\\nbuggy('c')\\nbuggy('d')\", \"def buggy(arg, result=None):\\n    if result is None:\\n        result = []\\n    result.append(arg)\\n    print(result)\\n    \\nbuggy('a')\\nbuggy('b')\\nbuggy('c')\\nbuggy('d')\", \"def print_args(*args):\\n    print('Positional argument tuple:', args)\\n    print(type(args))\\n    \\nprint_args(1,2,3,4,5)\", \"def print_args(yourname, *args):\\n    print('Hi, ' + yourname)\\n    print('Positional argument tuple:', args)\\n    print(type(args))\\n    \\nprint_args('volnet', 1,2,3,4,5)\", \"def print_args(yourname, *args):\\n    print('Hi, ' + yourname)\\n    print('Positional argument tuple:', args)\\n    print(type(args))\\n    \\nprint_args('volnet',1,2,3,4,'Thanks')\", \"def print_args(yourname, *args, last):\\n    print('Hi, ' + yourname)\\n    print('Positional argument tuple:', args)\\n    print(type(args))\\n    print(last)\\n    \\nprint_args('volnet',1,2,3,4,'Thanks')\", \"def print_args(yourname, *args, last):\\n    print('Hi, ' + yourname)\\n    print('Positional argument tuple:', args)\\n    print(type(args))\\n    print(last)\\n    \\nprint_args('volnet',1,2,3,4,'Thanks', last='Bye!')\", \"def print_kwargs(**kwargs):\\n    print('Keyword arguments:', kwargs)\\nprint_kwargs(MyName: 'volnet', Age: 50)\", \"def print_kwargs(**kwargs):\\n    print('Keyword arguments:', kwargs)\\nprint_kwargs(MyName='volnet', Age=50)\", \"def print_kwargs(**kwargs):\\n    print('Keyword arguments:', kwargs)\\nprint_kwargs(MyName='volnet', Age=50)\", \"def print_kwargs(**kwargs):\\n    print('Keyword arguments:', kwargs)\\nprint_kwargs(Name='volnet', Age=50)\", \"def print_args_kwargs(*args, **kwargs):\\n    print(args)\\n    print('----')\\n    print(kwargs)\\n    \\nprint_args_kwargs('volnet',1,2,3,4,'Thanks', last='Bye!')\", \"def print_args_kwargs(*args, **kwargs):\\n    print(args)\\n    print('----')\\n    print(kwargs)\\n    \\nprint_args_kwargs('0',1,2,3,4,'Thanks', last='Bye!')\", \"def print_args_kwargs(**kwargs, *args):\\n    print(args)\\n    print('----')\\n    print(kwargs)\\n    \\nprint_args_kwargs('0',1,2,3,4,'Thanks', last='Bye!')\", \"def echo1(a):\\n    'echo1 returns its input argument'\\n    return a\\n\\ndef echo2(*args):\\n    '''\\n    echo2 returns its input arguments\\n    multiline\\n    '''\\n    return b\\n\\nhelp(echo1)\\nprint('-------')\\nhelp(echo2)\\nprint('-------')\\nprint(echo1.__doc__)\\nprint('-------')\\nprint(echo2.__doc__)\", 'def knights(saying):\\n    def inner(quote):\\n        return \"We are the knights who say: \\'%s\\'\" % quote\\n    return inner(saying)\\n\\nknights(\\'Ni!\\')', 'def knights2(saying):\\n    def inner2():\\n        return \"We are the knights who say: \\'%s\\'\" % saying\\n    return inner2\\n\\nknights2(\\'Ni!\\')', 'def knights2(saying):\\n    def inner2():\\n        return \"We are the knights who say: \\'%s\\'\" % saying\\n    return inner2\\n\\nknights2(\\'Ni!\\')()', 'def knights2(saying):\\n    def inner2():\\n        return \"We are the knights who say: \\'%s\\'\" % saying\\n    return inner2\\n\\na = knights2(\\'Duck\\')\\nb = knights2(\\'Hasenpfeffer\\')\\n\\na()\\nb()', 'def knights2(saying):\\n    def inner2():\\n        return \"We are the knights who say: \\'%s\\'\" % saying\\n    return inner2\\n\\na = knights2(\\'Duck\\')\\nb = knights2(\\'Hasenpfeffer\\')\\n\\na()\\nb()', 'def knights2(saying):\\n    def inner2():\\n        return \"We are the knights who say: \\'%s\\'\" % saying\\n    return inner2\\n\\na = knights2(\\'Duck\\')\\nb = knights2(\\'Hasenpfeffer\\')\\n\\na(b())', 'def knights2(saying):\\n    def inner2():\\n        return \"We are the knights who say: \\'%s\\'\" % saying\\n    return inner2\\n\\na = knights2(\\'Duck\\')\\nb = knights2(\\'Hasenpfeffer\\')\\n\\na()\\nb()', 'def knights2(saying):\\n    def inner2():\\n        return \"We are the knights who say: \\'%s\\'\" % saying\\n    return inner2\\n\\na = knights2(\\'Duck\\')\\nb = knights2(\\'Hasenpfeffer\\')\\n\\nprint(a())\\nprint(b())', 'def knights(saying):\\n    def inner(quote):\\n        return \"We are the knights who say: \\'%s\\'\" % quote\\n    return inner(saying)\\n\\nprint(knights(\\'Ni!\\'))', \"def hello(func, *args):\\n    func(args)\\n    \\ndef my_func(*args):\\n    for arg in args:\\n        print(arg.capitalize()+'!')\\n        \\nhello(my_func, 'how', 'are', 'you')\", \"def hello(func, *args):\\n    func(args)\\n    \\ndef my_func(*args):\\n    for arg in args:\\n        print(arg)\\n        \\nhello(my_func, 'how', 'are', 'you')\", \"def hello(func, *args):\\n    func(args)\\n    \\ndef my_func(*args):\\n    for arg in args:\\n        print(type(args))\\n        \\nhello(my_func, 'how', 'are', 'you')\", \"def hello(func, *args):\\n    func(args)\\n    \\ndef my_func(*args):\\n    for arg in list(args):\\n        print(arg.capitalize()+'!')\\n        \\nhello(my_func, 'how', 'are', 'you')\", \"def hello(func, *args):\\n    func(args)\\n    \\ndef my_func(*args):\\n    for arg in list(args):\\n        print(list(args))\\n        \\nhello(my_func, 'how', 'are', 'you')\", \"def hello(func, *args):\\n    func(args)\\n    \\ndef my_func(*args):\\n    a = list(args)\\n    print(a)\\n    for arg in a:\\n        print(arg.capitalize()+'!')\\n        \\nhello(my_func, 'how', 'are', 'you')\", \"def hello(func, *args):\\n    func(args)\\n    \\ndef my_func(*args):\\n    print(args)\\n    a = list(args)\\n    print(a)\\n    for arg in a:\\n        print(arg.capitalize()+'!')\\n        \\nhello(my_func, 'how', 'are', 'you')\", \"def hello(func, *args):\\n    func(args)\\n    \\ndef my_func(args):\\n    print(args)\\n    a = list(args)\\n    print(a)\\n    for arg in a:\\n        print(arg.capitalize()+'!')\\n        \\nhello(my_func, 'how', 'are', 'you')\", \"def hello(func, *args):\\n    func(args)\\n    \\ndef my_func(args):\\n    for arg in list(args):\\n        print(arg.capitalize()+'!')\\n        \\nhello(my_func, 'how', 'are', 'you')\", \"def hello(func, arg1, arg2):\\n    func(arg1, arg2)\\n    \\ndef my_func(items1, items2=None):\\n    for arg in list(items1):\\n        print(arg.capitalize()+'!')\\n    if item2 is not None:\\n        for arg in list(items2):\\n            print('items2:' + arg)\\n        \\nhello(my_func, 'how', 'are')\\nhello(lambda item1,item2: print(item1 + ' ' + item2), 'what', 'is')\", \"def hello(func, arg1, arg2):\\n    func(arg1, arg2)\\n    \\ndef my_func(items1, items2=None):\\n    for arg in list(items1):\\n        print(arg.capitalize()+'!')\\n    if arg is not None:\\n        for arg in list(items2):\\n            print('items2:' + arg)\\n        \\nhello(my_func, 'how', 'are')\\nhello(lambda item1,item2: print(item1 + ' ' + item2), 'what', 'is')\", \"def hello(func, arg1, arg2):\\n    func(arg1, arg2)\\n    \\ndef my_func(items1, items2=None):\\n    for arg in list(items1):\\n        print(arg.capitalize()+'!')\\n    if arg is not None:\\n        for arg in list(items2):\\n            print('items2:' + arg)\\n        \\nhello(my_func, 'how', 'are')\\nprint('-----')\\nhello(lambda item1,item2: print(item1 + ' ' + item2), 'what', 'is')\", \"def hello(func, arg1, arg2):\\n    func(arg1, arg2)\\n    \\ndef my_func(items1, items2=None):\\n    for arg in list(items1):\\n        print(arg.capitalize()+'!')\\n    if arg is not None:\\n        for arg in list(items2):\\n            print('- ' + arg)\\n        \\nhello(my_func, 'how', 'are')\\nprint('-----')\\nhello(lambda item1,item2: print(item1 + ' ' + item2), 'what', 'is')\", \"def hello(func, arg1, arg2):\\n    func(arg1, arg2)\\n    \\ndef my_func(items1, items2=None):\\n    for arg in list(items1):\\n        print('1.' + arg.capitalize()+'!')\\n    if arg is not None:\\n        for arg in list(items2):\\n            print('2.' + arg)\\n        \\nhello(my_func, 'how', 'are')\\nprint('-----')\\nhello(lambda item1,item2: print(item1 + ' ' + item2), 'what', 'is')\", \"def hello(func, arg1, arg2):\\n    func(arg1, arg2)\\n    \\ndef my_func(items1, items2=None):\\n    for arg in list(items1):\\n        print('1.' + arg.capitalize())\\n    if arg is not None:\\n        for arg in list(items2):\\n            print('2.' + arg)\\n        \\nhello(my_func, 'how', 'are')\\nprint('-----')\\nhello(lambda item1,item2: print(item1 + ' ' + item2), 'what', 'is')\", 'def my_range(first=0, last, step=1):\\n    number = first\\n    while number < last:\\n        yield number\\n        number += step\\n        \\nfor i in my_range(0,5):\\n    print(i)', 'def my_range(first=0, last=10, step=1):\\n    number = first\\n    while number < last:\\n        yield number\\n        number += step\\n        \\nfor i in my_range(0,5):\\n    print(i)', 'def my_range(first=0, last=10000, step=1):\\n    number = first\\n    while number < last:\\n        yield number\\n        number += step\\n        \\nfor i in my_range(0,5):\\n    print(i)', \"def document_it(func):\\n    def new_function(*arg, **kwargs):\\n        print('Running function:', func.__name__)\\n        print('Positional arguments:', args)\\n        print('Keyword arguments:', kwargs)\\n        result = func(*args, **kwargs)\\n        print('Result:', result)\\n        return result\\n    return new_function\\n\\ndef add_ints(a, b):\\n    return a + b\\n\\nx = add_ints(3, 5)\\nprint(x)\\n\\ncooler_add_ints = document_it(add_ints)\\ny = cooler_add_ints(3, 5)\\nprint(y)\", \"def document_it(func):\\n    def new_function(*args, **kwargs):\\n        print('Running function:', func.__name__)\\n        print('Positional arguments:', args)\\n        print('Keyword arguments:', kwargs)\\n        result = func(*args, **kwargs)\\n        print('Result:', result)\\n        return result\\n    return new_function\\n\\ndef add_ints(a, b):\\n    return a + b\\n\\nx = add_ints(3, 5)\\nprint(x)\\n\\ncooler_add_ints = document_it(add_ints)\\ny = cooler_add_ints(3, 5)\\nprint(y)\", \"def document_it(func):\\n    def new_function(*args, **kwargs):\\n        print('Running function:', func.__name__)\\n        print('Positional arguments:', args)\\n        print('Keyword arguments:', kwargs)\\n        result = func(*args, **kwargs)\\n        print('Result:', result)\\n        return result\\n    return new_function\\n\\ndef add_ints(a, b):\\n    return a + b\\n\\nx = add_ints(3, 5)\\nprint(x)\\n\\ncooler_add_ints = document_it(add_ints)\\ny = cooler_add_ints(3, 5)\\nprint(y)\\n\\nprint('-------')\\n\\ndef square_it(func):\\n    def new_function(*args, **kwargs):\\n        result = func(*args, **kwargs)\\n        return result * result\\n    return new_function\\n\\n@document_it\\n@square_it\\ndef add_ints1(a, b):\\n    return a + b\\n\\nprint(add_ints1(3, 5))\\n\\nprint('-------')\\n\\n@square_it\\n@document_it\\ndef add_ints2(a, b):\\n    return a + b\\nprint(add_ints2(3, 5))\", \"def document_it(func):\\n    def new_function(*args, **kwargs):\\n        print('Running function:', func.__name__)\\n        print('Positional arguments:', args)\\n        print('Keyword arguments:', kwargs)\\n        result = func(*args, **kwargs)\\n        print('Result:', result)\\n        return result\\n    return new_function\\n\\ndef add_ints(a, b):\\n    return a + b\\n\\nx = add_ints(3, 5)\\nprint(x)\\n\\ncooler_add_ints = document_it(add_ints)\\ny = cooler_add_ints(3, 5)\\nprint('i=', y)\\n\\nprint('-------')\\n\\ndef square_it(func):\\n    def new_function(*args, **kwargs):\\n        result = func(*args, **kwargs)\\n        return result * result\\n    return new_function\\n\\n@document_it\\n@square_it\\ndef add_ints1(a, b):\\n    return a + b\\n\\nprint('j=', add_ints1(3, 5))\\n\\nprint('-------')\\n\\n@square_it\\n@document_it\\ndef add_ints2(a, b):\\n    return a + b\\nprint('k=', add_ints2(3, 5))\", \"def document_it(func):\\n    def new_function(*args, **kwargs):\\n        print('Running function:', func.__name__)\\n        print('Positional arguments:', args)\\n        print('Keyword arguments:', kwargs)\\n        result = func(*args, **kwargs)\\n        print('Result:', result)\\n        return result\\n    return new_function\\n\\ndef add_ints(a, b):\\n    return a + b\\n\\nx = add_ints(3, 5)\\nprint(x)\\n\\ncooler_add_ints = document_it(add_ints)\\ny = cooler_add_ints(3, 5)\\nprint('i =', y)\\n\\nprint('-------')\\n\\ndef square_it(func):\\n    def new_function(*args, **kwargs):\\n        result = func(*args, **kwargs)\\n        return result * result\\n    return new_function\\n\\n@document_it\\n@square_it\\ndef add_ints1(a, b):\\n    return a + b\\n\\nprint('j =', add_ints1(3, 5))\\n\\nprint('-------')\\n\\n@square_it\\n@document_it\\ndef add_ints2(a, b):\\n    return a + b\\nprint('k =', add_ints2(3, 5))\", \"def document_it(func):\\n    def new_function1(*args, **kwargs):\\n        print('Running function:', func.__name__)\\n        print('Positional arguments:', args)\\n        print('Keyword arguments:', kwargs)\\n        result = func(*args, **kwargs)\\n        print('Result:', result)\\n        return result\\n    return new_function1\\n\\ndef add_ints(a, b):\\n    return a + b\\n\\nx = add_ints(3, 5)\\nprint(x)\\n\\ncooler_add_ints = document_it(add_ints)\\ny = cooler_add_ints(3, 5)\\nprint('i =', y)\\n\\nprint('-------')\\n\\ndef square_it(func):\\n    def new_function2(*args, **kwargs):\\n        result = func(*args, **kwargs)\\n        return result * result\\n    return new_function2\\n\\n@document_it\\n@square_it\\ndef add_ints1(a, b):\\n    return a + b\\n\\nprint('j =', add_ints1(3, 5))\\n\\nprint('-------')\\n\\n@square_it\\n@document_it\\ndef add_ints2(a, b):\\n    return a + b\\nprint('k =', add_ints2(3, 5))\", \"def document_it(func):\\n    print('document_it run')\\n    def new_function1(*args, **kwargs):\\n        print('Running function:', func.__name__)\\n        print('Positional arguments:', args)\\n        print('Keyword arguments:', kwargs)\\n        result = func(*args, **kwargs)\\n        print('Result:', result)\\n        return result\\n    return new_function1\\n\\ndef add_ints(a, b):\\n    return a + b\\n\\nx = add_ints(3, 5)\\nprint(x)\\n\\ncooler_add_ints = document_it(add_ints)\\ny = cooler_add_ints(3, 5)\\nprint('i =', y)\\n\\nprint('-------')\\n\\ndef square_it(func):\\n    print('square_it run')\\n    def new_function2(*args, **kwargs):\\n        result = func(*args, **kwargs)\\n        return result * result\\n    return new_function2\\n\\n@document_it\\n@square_it\\ndef add_ints1(a, b):\\n    return a + b\\n\\nprint('j =', add_ints1(3, 5))\\n\\nprint('-------')\\n\\n@square_it\\n@document_it\\ndef add_ints2(a, b):\\n    return a + b\\nprint('k =', add_ints2(3, 5))\", \"def document_it(func):\\n    print('-- document_it run')\\n    def new_function1(*args, **kwargs):\\n        print('Running function:', func.__name__)\\n        print('Positional arguments:', args)\\n        print('Keyword arguments:', kwargs)\\n        result = func(*args, **kwargs)\\n        print('Result:', result)\\n        return result\\n    return new_function1\\n\\ndef add_ints(a, b):\\n    return a + b\\n\\nx = add_ints(3, 5)\\nprint(x)\\n\\ncooler_add_ints = document_it(add_ints)\\ny = cooler_add_ints(3, 5)\\nprint('i =', y)\\n\\nprint('-------')\\n\\ndef square_it(func):\\n    print('-- square_it run')\\n    def new_function2(*args, **kwargs):\\n        result = func(*args, **kwargs)\\n        return result * result\\n    return new_function2\\n\\n@document_it\\n@square_it\\ndef add_ints1(a, b):\\n    return a + b\\n\\nprint('j =', add_ints1(3, 5))\\n\\nprint('-------')\\n\\n@square_it\\n@document_it\\ndef add_ints2(a, b):\\n    return a + b\\nprint('k =', add_ints2(3, 5))\", \"def document_it(func):\\n    print('-- document_it run')\\n    def new_function1(*args, **kwargs):\\n        print('---- new_function1 run')\\n        print('Running function:', func.__name__)\\n        print('Positional arguments:', args)\\n        print('Keyword arguments:', kwargs)\\n        result = func(*args, **kwargs)\\n        print('Result:', result)\\n        return result\\n    return new_function1\\n\\ndef add_ints(a, b):\\n    return a + b\\n\\nx = add_ints(3, 5)\\nprint(x)\\n\\ncooler_add_ints = document_it(add_ints)\\ny = cooler_add_ints(3, 5)\\nprint('i =', y)\\n\\nprint('-------')\\n\\ndef square_it(func):\\n    print('-- square_it run')\\n    def new_function2(*args, **kwargs):\\n        print('---- new_function2 run')\\n        result = func(*args, **kwargs)\\n        return result * result\\n    return new_function2\\n\\n@document_it\\n@square_it\\ndef add_ints1(a, b):\\n    return a + b\\n\\nprint('j =', add_ints1(3, 5))\\n\\nprint('-------')\\n\\n@square_it\\n@document_it\\ndef add_ints2(a, b):\\n    return a + b\\nprint('k =', add_ints2(3, 5))\", \"animal = 'bird'\\ndef local_func():\\n    animal = 'monkey'\\n    \", \"animal = 'bird'\\ndef local_func():\\n    animal = 'monkey'\\n    print(animal)\", \"animal = 'bird'\\ndef local_func():\\n    animal = 'monkey'\\n    print(animal)\\n    \\nlocal_func()\", \"animal = 'bird'\\ndef local_func():\\n    print('animal=', animal)\\n    animal = 'monkey'\\n    print(animal)\\n    \\nlocal_func()\", \"animal = 'bird'\\ndef local_func1():\\n    animal = 'monkey'\\n    print(animal)\\n    \\ndef local_func2():\\n    print('animal=', animal) # 一旦使用，就被认为局部作用域内的animal是全局变量了。\\n    animal = 'monkey'\\n    print(animal)\\n    \\nlocal_func1()\\nlocal_func2()\", \"animal = 'bird'\\ndef local_func1():\\n    animal = 'monkey'\\n    print(animal)\\n\\nprint('-------')\\ndef local_func2():\\n    print('animal=', animal) # 一旦使用，就被认为局部作用域内的animal是全局变量了。\\n    animal = 'monkey'\\n    print(animal)\\n    \\nlocal_func1()\\nlocal_func2()\", \"animal = 'bird'\\ndef local_func1():\\n    animal = 'monkey'\\n    print(animal)\\n\\ndef local_func2():\\n    print('animal=', animal) # 一旦使用，就被认为局部作用域内的animal是全局变量了。\\n    animal = 'monkey'\\n    print(animal)\\n    \\nlocal_func1()\\nprint('-------')\\nlocal_func2()\", \"animal = 'bird'\\ndef local_func1():\\n    animal = 'monkey'\\n    print(animal)\\n\\ndef local_func2():\\n    print('animal=', animal) # 一旦使用，就被认为局部作用域内的animal是全局变量了。\\n    animal = 'monkey'\\n    print(animal)\\n    \\ndef local_func3():\\n    print('animal=', animal) # 一旦使用，就被认为局部作用域内的animal是全局变量了。\\n    global animal = 'monkey'\\n    print(animal)\\n    \\n    \\nlocal_func1()\\nprint('-------')\\nlocal_func2()\", \"animal = 'bird'\\ndef local_func1():\\n    animal = 'monkey'\\n    print(animal)\\n\\ndef local_func2():\\n    print('animal=', animal) # 一旦使用，就被认为局部作用域内的animal是全局变量了。\\n    animal = 'monkey'\\n    print(animal)\\n    \\ndef local_func3():\\n    print('animal=', animal) # 一旦使用，就被认为局部作用域内的animal是全局变量了。\\n    global animal\\n    animal = 'monkey'\\n    print(animal)\\n    \\n    \\nlocal_func1()\\nprint('-------')\\nlocal_func2()\", \"animal = 'bird'\\ndef local_func1():\\n    animal = 'monkey'\\n    print(animal)\\n\\ndef local_func2():\\n    print('animal=', animal) # 一旦使用，就被认为局部作用域内的animal是全局变量了。\\n    animal = 'monkey'\\n    print(animal)\\n    \\ndef local_func3():\\n    global animal\\n    print('animal=', animal) # 一旦使用，就被认为局部作用域内的animal是全局变量了。\\n    animal = 'monkey'\\n    print(animal)\\n    \\n    \\nlocal_func1()\\nprint('-------')\\nlocal_func2()\", \"animal = 'bird'\\ndef local_func1():\\n    animal = 'monkey'\\n    print(animal)\\n\\ndef local_func2():\\n    print('animal=', animal) # 一旦使用，就被认为局部作用域内的animal是全局变量了。\\n    animal = 'monkey'\\n    print(animal)\\n    \\ndef local_func3():\\n    global animal\\n    print('animal=', animal) # 一旦使用，就被认为局部作用域内的animal是全局变量了。\\n    animal = 'monkey'\\n    print(animal)\\n    \\n    \\nlocal_func1()\\nprint('-------')\\nlocal_func2()\\nprint('-------')\\nlocal_func3()\", \"animal = 'bird'\\ndef local_func1():\\n    animal = 'monkey'\\n    print(animal)\\n\\ndef local_func2():\\n    global animal\\n    print('animal=', animal) # 一旦使用，就被认为局部作用域内的animal是全局变量了。\\n    animal = 'monkey'\\n    print(animal)\\n    \\ndef local_func3():\\n    print('animal=', animal) # 一旦使用，就被认为局部作用域内的animal是全局变量了。\\n    animal = 'monkey'\\n    print(animal)\\n    \\n    \\nlocal_func1()\\nprint('-------')\\nlocal_func2()\\nprint('-------')\\nlocal_func3()\", \"animal = 'bird'\\ndef local_func1():\\n    animal = 'monkey'\\n    print(animal)\\n\\ndef local_func2():\\n    print('animal=', animal) # 一旦使用，就被认为局部作用域内的animal是全局变量了。\\n    global animal\\n    animal = 'monkey'\\n    print(animal)\\n    \\ndef local_func3():\\n    print('animal=', animal) # 一旦使用，就被认为局部作用域内的animal是全局变量了。\\n    animal = 'monkey'\\n    print(animal)\\n    \\n    \\nlocal_func1()\\nprint('-------')\\nlocal_func2()\\nprint('-------')\\nlocal_func3()\", \"animal = 'bird'\\ndef local_func1():\\n    animal = 'monkey'\\n    print(animal)\\n\\ndef local_func2():\\n    global animal\\n    print('animal=', animal) # 一旦使用，就被认为局部作用域内的animal是全局变量了。\\n    animal = 'monkey'\\n    print(animal)\\n    \\ndef local_func3():\\n    print('animal=', animal) # 一旦使用，就被认为局部作用域内的animal是全局变量了。\\n    animal = 'monkey'\\n    print(animal)\\n    \\n    \\nlocal_func1()\\nprint('-------')\\nlocal_func2()\\nprint('-------')\\nlocal_func3()\", \"animal = 'bird'\\ndef local_func1():\\n    animal = 'monkey'\\n    print(animal)\\n\\ndef local_func2():\\n    print('animal=', animal) # 一旦使用，就被认为局部作用域内的animal是全局变量了。\\n    global animal = 'monkey'\\n    print(animal)\\n    \\ndef local_func3():\\n    print('animal=', animal) # 一旦使用，就被认为局部作用域内的animal是全局变量了。\\n    animal = 'monkey'\\n    print(animal)\\n    \\n    \\nlocal_func1()\\nprint('-------')\\nlocal_func2()\\nprint('-------')\\nlocal_func3()\", \"animal = 'bird'\\ndef local_func1():\\n    animal = 'monkey'\\n    print(animal)\\n\\ndef local_func2():\\n    global animal\\n    print('animal=', animal) # 一旦使用，就被认为局部作用域内的animal是全局变量了。\\n    animal = 'monkey'\\n    print(animal)\\n    \\ndef local_func3():\\n    print('animal=', animal) # 一旦使用，就被认为局部作用域内的animal是全局变量了。\\n    animal = 'monkey'\\n    print(animal)\\n    \\n    \\nlocal_func1()\\nprint('-------')\\nlocal_func2()\\nprint('-------')\\nlocal_func3()\", \"animal = 'bird'\\ndef local_func4():\\n    animal = 'monkey'\\n    print(animal)\\n    print('locals:', locals())\\n    \\nprint('globals:', globals())\\nlocal_func4()\"], 'Out': {13: {'p1': 'Hi', 'p2': 'Hello', 'p3': 'Hey'}, 33: \"We are the knights who say: 'Ni!'\", 34: <function knights2.<locals>.inner2 at 0x10e5c8400>, 35: \"We are the knights who say: 'Ni!'\", 36: \"We are the knights who say: 'Hasenpfeffer'\", 37: \"We are the knights who say: 'Hasenpfeffer'\", 39: \"We are the knights who say: 'Hasenpfeffer'\"}, 'get_ipython': <bound method InteractiveShell.get_ipython of <ipykernel.zmqshell.ZMQInteractiveShell object at 0x10e38a160>>, 'exit': <IPython.core.autocall.ZMQExitAutocall object at 0x10e3d4780>, 'quit': <IPython.core.autocall.ZMQExitAutocall object at 0x10e3d4780>, '_': \"We are the knights who say: 'Hasenpfeffer'\", '__': \"We are the knights who say: 'Hasenpfeffer'\", '___': \"We are the knights who say: 'Hasenpfeffer'\", '_i': \"animal = 'bird'\\ndef local_func1():\\n    animal = 'monkey'\\n    print(animal)\\n\\ndef local_func2():\\n    global animal\\n    print('animal=', animal) # 一旦使用，就被认为局部作用域内的animal是全局变量了。\\n    animal = 'monkey'\\n    print(animal)\\n    \\ndef local_func3():\\n    print('animal=', animal) # 一旦使用，就被认为局部作用域内的animal是全局变量了。\\n    animal = 'monkey'\\n    print(animal)\\n    \\n    \\nlocal_func1()\\nprint('-------')\\nlocal_func2()\\nprint('-------')\\nlocal_func3()\", '_ii': \"animal = 'bird'\\ndef local_func1():\\n    animal = 'monkey'\\n    print(animal)\\n\\ndef local_func2():\\n    print('animal=', animal) # 一旦使用，就被认为局部作用域内的animal是全局变量了。\\n    global animal = 'monkey'\\n    print(animal)\\n    \\ndef local_func3():\\n    print('animal=', animal) # 一旦使用，就被认为局部作用域内的animal是全局变量了。\\n    animal = 'monkey'\\n    print(animal)\\n    \\n    \\nlocal_func1()\\nprint('-------')\\nlocal_func2()\\nprint('-------')\\nlocal_func3()\", '_iii': \"animal = 'bird'\\ndef local_func1():\\n    animal = 'monkey'\\n    print(animal)\\n\\ndef local_func2():\\n    global animal\\n    print('animal=', animal) # 一旦使用，就被认为局部作用域内的animal是全局变量了。\\n    animal = 'monkey'\\n    print(animal)\\n    \\ndef local_func3():\\n    print('animal=', animal) # 一旦使用，就被认为局部作用域内的animal是全局变量了。\\n    animal = 'monkey'\\n    print(animal)\\n    \\n    \\nlocal_func1()\\nprint('-------')\\nlocal_func2()\\nprint('-------')\\nlocal_func3()\", '_i1': 'rows = range(1,12)\\ncols = range(1,8)\\ncells1 = [(row, col) for row in rows for col in cols]\\nfor cell in cells1:\\n    print(cell)\\n    \\ncells2 = [(row, col) for row if row % 2 == 0 in rows for col in cols if col % 3 == 0]\\nfor cell in cells2:\\n    print(cell)', '_i2': 'rows = range(1,12)\\ncols = range(1,8)\\ncells1 = [(row, col) for row in rows for col in cols]\\nfor cell in cells1:\\n    print(cell)\\n    \\ncells2 = [(row, col) for row in rows if row % 2 == 0 for col in cols if col % 3 == 0]\\nfor cell in cells2:\\n    print(cell)', 'rows': range(1, 12), 'cols': range(1, 8), 'cells1': [(1, 1), (1, 2), (2, 1), (2, 2), (3, 1), (3, 2)], 'cell': (10, 6), 'cells2': [(2, 3), (2, 6), (4, 3), (4, 6), (6, 3), (6, 6), (8, 3), (8, 6), (10, 3), (10, 6)], '_i3': \"rows = range(1,12)\\ncols = range(1,8)\\ncells1 = [(row, col) for row in rows for col in cols]\\nfor cell in cells1:\\n    print(cell)\\n    \\nprint('-------')\\ncells2 = [(row, col) for row in rows if row % 2 == 0 for col in cols if col % 3 == 0]\\nfor cell in cells2:\\n    print(cell)\", '_i4': \"rows = range(1,4)\\ncols = range(1,3)\\ncells1 = [(row, col) for row in rows for col in cols]\\nfor cell in cells1:\\n    print(cell)\\n    \\nprint('-------')\\n\\nrows = range(1,12)\\ncols = range(1,8)\\ncells2 = [(row, col) for row in rows if row % 2 == 0 for col in cols if col % 3 == 0]\\nfor cell in cells2:\\n    print(cell)\", '_i5': \"str1 = '{ key_expression : value_expression for expression in iterable }'\\n\\nx = { letter : str1.count(letter) for letter in str1 }\\nprint(x)\", 'str1': '{ key_expression : value_expression for expression in iterable }', 'x': 8, '_i6': \"str1 = '{ key_expression : value_expression for expression in iterable }'\\n\\nx = { letter : str1.count(letter) for letter in str1 }\\nprint(x)\\n\\n# 优化\\nx = { letter : str1.count(letter) for letter in set(str1) }\\nprint(x)\", '_i7': \"str1 = '{ key_expression : value_expression for expression in iterable }'\\n\\nx = { letter : str1.count(letter) for letter in str1 }\\nprint(x)\\n\\n# 优化，避免遍历相同的字符太多次\\nx = { letter : str1.count(letter) for letter in set(str1) }\\nprint(x)\", '_i8': 'str1 = \\'{ key_expression : value_expression for expression in iterable }\\'\\n\\nx = { letter : str1.count(letter) for letter in str1 }\\nprint(x)\\n\\n# 优化，避免遍历相同的字符太多次\\nx = { letter : str1.count(letter) for letter in set(str1) }\\nprint(x)\\n\\n# 优化，\\nx = { letter : str1.count(letter) for letter in set(str1) if letter == \\'p\\' or letter == \"x\"}\\nprint(x)', '_i9': 'x = { number for number in range(1,6) if number % 3 == 1}\\nprint(x)', '_i10': \"a = ['i', 'j', 'k']\\nb = ['1', '2', '3', '4']\\n\\nc1 = zip(a, b)\\nc2 = zip(a, b)\\n\\nd = list(c1)\\ne = list(c1)\\nf = dict(c2)\\n\\nprint(type(c1))\\nprint(type(c2))\\nprint(c1)\\nprint(c2)\\nprint(d)\\nprint(e)\\nprint(f)\", 'a': <function knights2.<locals>.inner2 at 0x10e5c8c80>, 'b': <function knights2.<locals>.inner2 at 0x10e5c8d90>, 'c1': <zip object at 0x10e4cf048>, 'c2': <zip object at 0x10e4cfcc8>, 'd': [('i', '1'), ('j', '2'), ('k', '3')], 'e': [], 'f': {'i': '1', 'j': '2', 'k': '3'}, '_i11': 'number_thing = (number for number in range(1,6))\\nprint(type(number_thing))', 'number_thing': <generator object <genexpr> at 0x10e4a14c0>, '_i12': 'number_thing = (number for number in range(1,6))\\nnumber_list = list(number_thing)\\ntry_again = list(number_thing)\\nprint(number_list)\\nprint(try_again)', 'number_list': [1, 2, 3, 4, 5], 'try_again': [], '_i13': \"def func(p1, p2, p3):\\n    return {'p1':p1, 'p2':p2, 'p3':p3}\\n\\nfunc(p2='Hello', p1='Hi', p3='Hey')\", 'func': <function func at 0x10e54e268>, '_13': {'p1': 'Hi', 'p2': 'Hello', 'p3': 'Hey'}, '_i14': \"def func(p1, p2, p3):\\n    return {'p1':p1, 'p2':p2, 'p3':p3}\\n\\nprint(func(p2='Hello', p1='Hi', p3='Hey'))\", '_i15': \"def func(p1, p2, p3):\\n    return {'p1':p1, 'p2':p2, 'p3':p3}\\n\\nprint(func('Hello', p1='Hi', p3='Hey'))\", '_i16': \"def func(p1, p2, p3):\\n    return {'p1':p1, 'p2':p2, 'p3':p3}\\n\\nprint(func('Hello', p3='Hi', p2='Hey'))\", '_i17': \"def buggy(arg, result=[]):\\n    result.append(arg)\\n    print(result)\\n    \\nbuggy('a')\\nbuggy('b')\", 'buggy': <function buggy at 0x10e4cc488>, '_i18': \"def buggy(arg, result=[]):\\n    result.append(arg)\\n    print(result)\\n    \\nbuggy('a')\\nbuggy('b')\\nbuggy('c')\\nbuggy('d')\", '_i19': \"def buggy(arg, result=None):\\n    if result is None:\\n        result = []\\n    result.append(arg)\\n    print(result)\\n    \\nbuggy('a')\\nbuggy('b')\\nbuggy('c')\\nbuggy('d')\", '_i20': \"def print_args(*args):\\n    print('Positional argument tuple:', args)\\n    print(type(args))\\n    \\nprint_args(1,2,3,4,5)\", 'print_args': <function print_args at 0x10e54ec80>, '_i21': \"def print_args(yourname, *args):\\n    print('Hi, ' + yourname)\\n    print('Positional argument tuple:', args)\\n    print(type(args))\\n    \\nprint_args('volnet', 1,2,3,4,5)\", '_i22': \"def print_args(yourname, *args):\\n    print('Hi, ' + yourname)\\n    print('Positional argument tuple:', args)\\n    print(type(args))\\n    \\nprint_args('volnet',1,2,3,4,'Thanks')\", '_i23': \"def print_args(yourname, *args, last):\\n    print('Hi, ' + yourname)\\n    print('Positional argument tuple:', args)\\n    print(type(args))\\n    print(last)\\n    \\nprint_args('volnet',1,2,3,4,'Thanks')\", '_i24': \"def print_args(yourname, *args, last):\\n    print('Hi, ' + yourname)\\n    print('Positional argument tuple:', args)\\n    print(type(args))\\n    print(last)\\n    \\nprint_args('volnet',1,2,3,4,'Thanks', last='Bye!')\", '_i25': \"def print_kwargs(**kwargs):\\n    print('Keyword arguments:', kwargs)\\nprint_kwargs(MyName: 'volnet', Age: 50)\", '_i26': \"def print_kwargs(**kwargs):\\n    print('Keyword arguments:', kwargs)\\nprint_kwargs(MyName='volnet', Age=50)\", 'print_kwargs': <function print_kwargs at 0x10e5c8268>, '_i27': \"def print_kwargs(**kwargs):\\n    print('Keyword arguments:', kwargs)\\nprint_kwargs(MyName='volnet', Age=50)\", '_i28': \"def print_kwargs(**kwargs):\\n    print('Keyword arguments:', kwargs)\\nprint_kwargs(Name='volnet', Age=50)\", '_i29': \"def print_args_kwargs(*args, **kwargs):\\n    print(args)\\n    print('----')\\n    print(kwargs)\\n    \\nprint_args_kwargs('volnet',1,2,3,4,'Thanks', last='Bye!')\", 'print_args_kwargs': <function print_args_kwargs at 0x10e5c8378>, '_i30': \"def print_args_kwargs(*args, **kwargs):\\n    print(args)\\n    print('----')\\n    print(kwargs)\\n    \\nprint_args_kwargs('0',1,2,3,4,'Thanks', last='Bye!')\", '_i31': \"def print_args_kwargs(**kwargs, *args):\\n    print(args)\\n    print('----')\\n    print(kwargs)\\n    \\nprint_args_kwargs('0',1,2,3,4,'Thanks', last='Bye!')\", '_i32': \"def echo1(a):\\n    'echo1 returns its input argument'\\n    return a\\n\\ndef echo2(*args):\\n    '''\\n    echo2 returns its input arguments\\n    multiline\\n    '''\\n    return b\\n\\nhelp(echo1)\\nprint('-------')\\nhelp(echo2)\\nprint('-------')\\nprint(echo1.__doc__)\\nprint('-------')\\nprint(echo2.__doc__)\", 'echo1': <function echo1 at 0x10e5c8f28>, 'echo2': <function echo2 at 0x10e5c8ea0>, '_i33': 'def knights(saying):\\n    def inner(quote):\\n        return \"We are the knights who say: \\'%s\\'\" % quote\\n    return inner(saying)\\n\\nknights(\\'Ni!\\')', 'knights': <function knights at 0x10c450268>, '_33': \"We are the knights who say: 'Ni!'\", '_i34': 'def knights2(saying):\\n    def inner2():\\n        return \"We are the knights who say: \\'%s\\'\" % saying\\n    return inner2\\n\\nknights2(\\'Ni!\\')', 'knights2': <function knights2 at 0x10e5c8730>, '_34': <function knights2.<locals>.inner2 at 0x10e5c8400>, '_i35': 'def knights2(saying):\\n    def inner2():\\n        return \"We are the knights who say: \\'%s\\'\" % saying\\n    return inner2\\n\\nknights2(\\'Ni!\\')()', '_35': \"We are the knights who say: 'Ni!'\", '_i36': 'def knights2(saying):\\n    def inner2():\\n        return \"We are the knights who say: \\'%s\\'\" % saying\\n    return inner2\\n\\na = knights2(\\'Duck\\')\\nb = knights2(\\'Hasenpfeffer\\')\\n\\na()\\nb()', '_36': \"We are the knights who say: 'Hasenpfeffer'\", '_i37': 'def knights2(saying):\\n    def inner2():\\n        return \"We are the knights who say: \\'%s\\'\" % saying\\n    return inner2\\n\\na = knights2(\\'Duck\\')\\nb = knights2(\\'Hasenpfeffer\\')\\n\\na()\\nb()', '_37': \"We are the knights who say: 'Hasenpfeffer'\", '_i38': 'def knights2(saying):\\n    def inner2():\\n        return \"We are the knights who say: \\'%s\\'\" % saying\\n    return inner2\\n\\na = knights2(\\'Duck\\')\\nb = knights2(\\'Hasenpfeffer\\')\\n\\na(b())', '_i39': 'def knights2(saying):\\n    def inner2():\\n        return \"We are the knights who say: \\'%s\\'\" % saying\\n    return inner2\\n\\na = knights2(\\'Duck\\')\\nb = knights2(\\'Hasenpfeffer\\')\\n\\na()\\nb()', '_39': \"We are the knights who say: 'Hasenpfeffer'\", '_i40': 'def knights2(saying):\\n    def inner2():\\n        return \"We are the knights who say: \\'%s\\'\" % saying\\n    return inner2\\n\\na = knights2(\\'Duck\\')\\nb = knights2(\\'Hasenpfeffer\\')\\n\\nprint(a())\\nprint(b())', '_i41': 'def knights(saying):\\n    def inner(quote):\\n        return \"We are the knights who say: \\'%s\\'\" % quote\\n    return inner(saying)\\n\\nprint(knights(\\'Ni!\\'))', '_i42': \"def hello(func, *args):\\n    func(args)\\n    \\ndef my_func(*args):\\n    for arg in args:\\n        print(arg.capitalize()+'!')\\n        \\nhello(my_func, 'how', 'are', 'you')\", 'hello': <function hello at 0x10e5c8a60>, 'my_func': <function my_func at 0x10e655b70>, '_i43': \"def hello(func, *args):\\n    func(args)\\n    \\ndef my_func(*args):\\n    for arg in args:\\n        print(arg)\\n        \\nhello(my_func, 'how', 'are', 'you')\", '_i44': \"def hello(func, *args):\\n    func(args)\\n    \\ndef my_func(*args):\\n    for arg in args:\\n        print(type(args))\\n        \\nhello(my_func, 'how', 'are', 'you')\", '_i45': \"def hello(func, *args):\\n    func(args)\\n    \\ndef my_func(*args):\\n    for arg in list(args):\\n        print(arg.capitalize()+'!')\\n        \\nhello(my_func, 'how', 'are', 'you')\", '_i46': \"def hello(func, *args):\\n    func(args)\\n    \\ndef my_func(*args):\\n    for arg in list(args):\\n        print(list(args))\\n        \\nhello(my_func, 'how', 'are', 'you')\", '_i47': \"def hello(func, *args):\\n    func(args)\\n    \\ndef my_func(*args):\\n    a = list(args)\\n    print(a)\\n    for arg in a:\\n        print(arg.capitalize()+'!')\\n        \\nhello(my_func, 'how', 'are', 'you')\", '_i48': \"def hello(func, *args):\\n    func(args)\\n    \\ndef my_func(*args):\\n    print(args)\\n    a = list(args)\\n    print(a)\\n    for arg in a:\\n        print(arg.capitalize()+'!')\\n        \\nhello(my_func, 'how', 'are', 'you')\", '_i49': \"def hello(func, *args):\\n    func(args)\\n    \\ndef my_func(args):\\n    print(args)\\n    a = list(args)\\n    print(a)\\n    for arg in a:\\n        print(arg.capitalize()+'!')\\n        \\nhello(my_func, 'how', 'are', 'you')\", '_i50': \"def hello(func, *args):\\n    func(args)\\n    \\ndef my_func(args):\\n    for arg in list(args):\\n        print(arg.capitalize()+'!')\\n        \\nhello(my_func, 'how', 'are', 'you')\", '_i51': \"def hello(func, arg1, arg2):\\n    func(arg1, arg2)\\n    \\ndef my_func(items1, items2=None):\\n    for arg in list(items1):\\n        print(arg.capitalize()+'!')\\n    if item2 is not None:\\n        for arg in list(items2):\\n            print('items2:' + arg)\\n        \\nhello(my_func, 'how', 'are')\\nhello(lambda item1,item2: print(item1 + ' ' + item2), 'what', 'is')\", '_i52': \"def hello(func, arg1, arg2):\\n    func(arg1, arg2)\\n    \\ndef my_func(items1, items2=None):\\n    for arg in list(items1):\\n        print(arg.capitalize()+'!')\\n    if arg is not None:\\n        for arg in list(items2):\\n            print('items2:' + arg)\\n        \\nhello(my_func, 'how', 'are')\\nhello(lambda item1,item2: print(item1 + ' ' + item2), 'what', 'is')\", '_i53': \"def hello(func, arg1, arg2):\\n    func(arg1, arg2)\\n    \\ndef my_func(items1, items2=None):\\n    for arg in list(items1):\\n        print(arg.capitalize()+'!')\\n    if arg is not None:\\n        for arg in list(items2):\\n            print('items2:' + arg)\\n        \\nhello(my_func, 'how', 'are')\\nprint('-----')\\nhello(lambda item1,item2: print(item1 + ' ' + item2), 'what', 'is')\", '_i54': \"def hello(func, arg1, arg2):\\n    func(arg1, arg2)\\n    \\ndef my_func(items1, items2=None):\\n    for arg in list(items1):\\n        print(arg.capitalize()+'!')\\n    if arg is not None:\\n        for arg in list(items2):\\n            print('- ' + arg)\\n        \\nhello(my_func, 'how', 'are')\\nprint('-----')\\nhello(lambda item1,item2: print(item1 + ' ' + item2), 'what', 'is')\", '_i55': \"def hello(func, arg1, arg2):\\n    func(arg1, arg2)\\n    \\ndef my_func(items1, items2=None):\\n    for arg in list(items1):\\n        print('1.' + arg.capitalize()+'!')\\n    if arg is not None:\\n        for arg in list(items2):\\n            print('2.' + arg)\\n        \\nhello(my_func, 'how', 'are')\\nprint('-----')\\nhello(lambda item1,item2: print(item1 + ' ' + item2), 'what', 'is')\", '_i56': \"def hello(func, arg1, arg2):\\n    func(arg1, arg2)\\n    \\ndef my_func(items1, items2=None):\\n    for arg in list(items1):\\n        print('1.' + arg.capitalize())\\n    if arg is not None:\\n        for arg in list(items2):\\n            print('2.' + arg)\\n        \\nhello(my_func, 'how', 'are')\\nprint('-----')\\nhello(lambda item1,item2: print(item1 + ' ' + item2), 'what', 'is')\", '_i57': 'def my_range(first=0, last, step=1):\\n    number = first\\n    while number < last:\\n        yield number\\n        number += step\\n        \\nfor i in my_range(0,5):\\n    print(i)', '_i58': 'def my_range(first=0, last=10, step=1):\\n    number = first\\n    while number < last:\\n        yield number\\n        number += step\\n        \\nfor i in my_range(0,5):\\n    print(i)', 'my_range': <function my_range at 0x10e5c89d8>, 'i': 4, '_i59': 'def my_range(first=0, last=10000, step=1):\\n    number = first\\n    while number < last:\\n        yield number\\n        number += step\\n        \\nfor i in my_range(0,5):\\n    print(i)', '_i60': \"def document_it(func):\\n    def new_function(*arg, **kwargs):\\n        print('Running function:', func.__name__)\\n        print('Positional arguments:', args)\\n        print('Keyword arguments:', kwargs)\\n        result = func(*args, **kwargs)\\n        print('Result:', result)\\n        return result\\n    return new_function\\n\\ndef add_ints(a, b):\\n    return a + b\\n\\nx = add_ints(3, 5)\\nprint(x)\\n\\ncooler_add_ints = document_it(add_ints)\\ny = cooler_add_ints(3, 5)\\nprint(y)\", 'document_it': <function document_it at 0x10e67ebf8>, 'add_ints': <function add_ints at 0x10e4cc840>, 'cooler_add_ints': <function document_it.<locals>.new_function1 at 0x10e67ef28>, '_i61': \"def document_it(func):\\n    def new_function(*args, **kwargs):\\n        print('Running function:', func.__name__)\\n        print('Positional arguments:', args)\\n        print('Keyword arguments:', kwargs)\\n        result = func(*args, **kwargs)\\n        print('Result:', result)\\n        return result\\n    return new_function\\n\\ndef add_ints(a, b):\\n    return a + b\\n\\nx = add_ints(3, 5)\\nprint(x)\\n\\ncooler_add_ints = document_it(add_ints)\\ny = cooler_add_ints(3, 5)\\nprint(y)\", 'y': 8, '_i62': \"def document_it(func):\\n    def new_function(*args, **kwargs):\\n        print('Running function:', func.__name__)\\n        print('Positional arguments:', args)\\n        print('Keyword arguments:', kwargs)\\n        result = func(*args, **kwargs)\\n        print('Result:', result)\\n        return result\\n    return new_function\\n\\ndef add_ints(a, b):\\n    return a + b\\n\\nx = add_ints(3, 5)\\nprint(x)\\n\\ncooler_add_ints = document_it(add_ints)\\ny = cooler_add_ints(3, 5)\\nprint(y)\\n\\nprint('-------')\\n\\ndef square_it(func):\\n    def new_function(*args, **kwargs):\\n        result = func(*args, **kwargs)\\n        return result * result\\n    return new_function\\n\\n@document_it\\n@square_it\\ndef add_ints1(a, b):\\n    return a + b\\n\\nprint(add_ints1(3, 5))\\n\\nprint('-------')\\n\\n@square_it\\n@document_it\\ndef add_ints2(a, b):\\n    return a + b\\nprint(add_ints2(3, 5))\", 'square_it': <function square_it at 0x10e661b70>, 'add_ints1': <function document_it.<locals>.new_function1 at 0x10e661488>, 'add_ints2': <function square_it.<locals>.new_function2 at 0x10e67eae8>, '_i63': \"def document_it(func):\\n    def new_function(*args, **kwargs):\\n        print('Running function:', func.__name__)\\n        print('Positional arguments:', args)\\n        print('Keyword arguments:', kwargs)\\n        result = func(*args, **kwargs)\\n        print('Result:', result)\\n        return result\\n    return new_function\\n\\ndef add_ints(a, b):\\n    return a + b\\n\\nx = add_ints(3, 5)\\nprint(x)\\n\\ncooler_add_ints = document_it(add_ints)\\ny = cooler_add_ints(3, 5)\\nprint('i=', y)\\n\\nprint('-------')\\n\\ndef square_it(func):\\n    def new_function(*args, **kwargs):\\n        result = func(*args, **kwargs)\\n        return result * result\\n    return new_function\\n\\n@document_it\\n@square_it\\ndef add_ints1(a, b):\\n    return a + b\\n\\nprint('j=', add_ints1(3, 5))\\n\\nprint('-------')\\n\\n@square_it\\n@document_it\\ndef add_ints2(a, b):\\n    return a + b\\nprint('k=', add_ints2(3, 5))\", '_i64': \"def document_it(func):\\n    def new_function(*args, **kwargs):\\n        print('Running function:', func.__name__)\\n        print('Positional arguments:', args)\\n        print('Keyword arguments:', kwargs)\\n        result = func(*args, **kwargs)\\n        print('Result:', result)\\n        return result\\n    return new_function\\n\\ndef add_ints(a, b):\\n    return a + b\\n\\nx = add_ints(3, 5)\\nprint(x)\\n\\ncooler_add_ints = document_it(add_ints)\\ny = cooler_add_ints(3, 5)\\nprint('i =', y)\\n\\nprint('-------')\\n\\ndef square_it(func):\\n    def new_function(*args, **kwargs):\\n        result = func(*args, **kwargs)\\n        return result * result\\n    return new_function\\n\\n@document_it\\n@square_it\\ndef add_ints1(a, b):\\n    return a + b\\n\\nprint('j =', add_ints1(3, 5))\\n\\nprint('-------')\\n\\n@square_it\\n@document_it\\ndef add_ints2(a, b):\\n    return a + b\\nprint('k =', add_ints2(3, 5))\", '_i65': \"def document_it(func):\\n    def new_function1(*args, **kwargs):\\n        print('Running function:', func.__name__)\\n        print('Positional arguments:', args)\\n        print('Keyword arguments:', kwargs)\\n        result = func(*args, **kwargs)\\n        print('Result:', result)\\n        return result\\n    return new_function1\\n\\ndef add_ints(a, b):\\n    return a + b\\n\\nx = add_ints(3, 5)\\nprint(x)\\n\\ncooler_add_ints = document_it(add_ints)\\ny = cooler_add_ints(3, 5)\\nprint('i =', y)\\n\\nprint('-------')\\n\\ndef square_it(func):\\n    def new_function2(*args, **kwargs):\\n        result = func(*args, **kwargs)\\n        return result * result\\n    return new_function2\\n\\n@document_it\\n@square_it\\ndef add_ints1(a, b):\\n    return a + b\\n\\nprint('j =', add_ints1(3, 5))\\n\\nprint('-------')\\n\\n@square_it\\n@document_it\\ndef add_ints2(a, b):\\n    return a + b\\nprint('k =', add_ints2(3, 5))\", '_i66': \"def document_it(func):\\n    print('document_it run')\\n    def new_function1(*args, **kwargs):\\n        print('Running function:', func.__name__)\\n        print('Positional arguments:', args)\\n        print('Keyword arguments:', kwargs)\\n        result = func(*args, **kwargs)\\n        print('Result:', result)\\n        return result\\n    return new_function1\\n\\ndef add_ints(a, b):\\n    return a + b\\n\\nx = add_ints(3, 5)\\nprint(x)\\n\\ncooler_add_ints = document_it(add_ints)\\ny = cooler_add_ints(3, 5)\\nprint('i =', y)\\n\\nprint('-------')\\n\\ndef square_it(func):\\n    print('square_it run')\\n    def new_function2(*args, **kwargs):\\n        result = func(*args, **kwargs)\\n        return result * result\\n    return new_function2\\n\\n@document_it\\n@square_it\\ndef add_ints1(a, b):\\n    return a + b\\n\\nprint('j =', add_ints1(3, 5))\\n\\nprint('-------')\\n\\n@square_it\\n@document_it\\ndef add_ints2(a, b):\\n    return a + b\\nprint('k =', add_ints2(3, 5))\", '_i67': \"def document_it(func):\\n    print('-- document_it run')\\n    def new_function1(*args, **kwargs):\\n        print('Running function:', func.__name__)\\n        print('Positional arguments:', args)\\n        print('Keyword arguments:', kwargs)\\n        result = func(*args, **kwargs)\\n        print('Result:', result)\\n        return result\\n    return new_function1\\n\\ndef add_ints(a, b):\\n    return a + b\\n\\nx = add_ints(3, 5)\\nprint(x)\\n\\ncooler_add_ints = document_it(add_ints)\\ny = cooler_add_ints(3, 5)\\nprint('i =', y)\\n\\nprint('-------')\\n\\ndef square_it(func):\\n    print('-- square_it run')\\n    def new_function2(*args, **kwargs):\\n        result = func(*args, **kwargs)\\n        return result * result\\n    return new_function2\\n\\n@document_it\\n@square_it\\ndef add_ints1(a, b):\\n    return a + b\\n\\nprint('j =', add_ints1(3, 5))\\n\\nprint('-------')\\n\\n@square_it\\n@document_it\\ndef add_ints2(a, b):\\n    return a + b\\nprint('k =', add_ints2(3, 5))\", '_i68': \"def document_it(func):\\n    print('-- document_it run')\\n    def new_function1(*args, **kwargs):\\n        print('---- new_function1 run')\\n        print('Running function:', func.__name__)\\n        print('Positional arguments:', args)\\n        print('Keyword arguments:', kwargs)\\n        result = func(*args, **kwargs)\\n        print('Result:', result)\\n        return result\\n    return new_function1\\n\\ndef add_ints(a, b):\\n    return a + b\\n\\nx = add_ints(3, 5)\\nprint(x)\\n\\ncooler_add_ints = document_it(add_ints)\\ny = cooler_add_ints(3, 5)\\nprint('i =', y)\\n\\nprint('-------')\\n\\ndef square_it(func):\\n    print('-- square_it run')\\n    def new_function2(*args, **kwargs):\\n        print('---- new_function2 run')\\n        result = func(*args, **kwargs)\\n        return result * result\\n    return new_function2\\n\\n@document_it\\n@square_it\\ndef add_ints1(a, b):\\n    return a + b\\n\\nprint('j =', add_ints1(3, 5))\\n\\nprint('-------')\\n\\n@square_it\\n@document_it\\ndef add_ints2(a, b):\\n    return a + b\\nprint('k =', add_ints2(3, 5))\", '_i69': \"animal = 'bird'\\ndef local_func():\\n    animal = 'monkey'\\n    \", 'animal': 'bird', 'local_func': <function local_func at 0x10e67e400>, '_i70': \"animal = 'bird'\\ndef local_func():\\n    animal = 'monkey'\\n    print(animal)\", '_i71': \"animal = 'bird'\\ndef local_func():\\n    animal = 'monkey'\\n    print(animal)\\n    \\nlocal_func()\", '_i72': \"animal = 'bird'\\ndef local_func():\\n    print('animal=', animal)\\n    animal = 'monkey'\\n    print(animal)\\n    \\nlocal_func()\", '_i73': \"animal = 'bird'\\ndef local_func1():\\n    animal = 'monkey'\\n    print(animal)\\n    \\ndef local_func2():\\n    print('animal=', animal) # 一旦使用，就被认为局部作用域内的animal是全局变量了。\\n    animal = 'monkey'\\n    print(animal)\\n    \\nlocal_func1()\\nlocal_func2()\", 'local_func1': <function local_func1 at 0x10e655d08>, 'local_func2': <function local_func2 at 0x10e655c80>, '_i74': \"animal = 'bird'\\ndef local_func1():\\n    animal = 'monkey'\\n    print(animal)\\n\\nprint('-------')\\ndef local_func2():\\n    print('animal=', animal) # 一旦使用，就被认为局部作用域内的animal是全局变量了。\\n    animal = 'monkey'\\n    print(animal)\\n    \\nlocal_func1()\\nlocal_func2()\", '_i75': \"animal = 'bird'\\ndef local_func1():\\n    animal = 'monkey'\\n    print(animal)\\n\\ndef local_func2():\\n    print('animal=', animal) # 一旦使用，就被认为局部作用域内的animal是全局变量了。\\n    animal = 'monkey'\\n    print(animal)\\n    \\nlocal_func1()\\nprint('-------')\\nlocal_func2()\", '_i76': \"animal = 'bird'\\ndef local_func1():\\n    animal = 'monkey'\\n    print(animal)\\n\\ndef local_func2():\\n    print('animal=', animal) # 一旦使用，就被认为局部作用域内的animal是全局变量了。\\n    animal = 'monkey'\\n    print(animal)\\n    \\ndef local_func3():\\n    print('animal=', animal) # 一旦使用，就被认为局部作用域内的animal是全局变量了。\\n    global animal = 'monkey'\\n    print(animal)\\n    \\n    \\nlocal_func1()\\nprint('-------')\\nlocal_func2()\", '_i77': \"animal = 'bird'\\ndef local_func1():\\n    animal = 'monkey'\\n    print(animal)\\n\\ndef local_func2():\\n    print('animal=', animal) # 一旦使用，就被认为局部作用域内的animal是全局变量了。\\n    animal = 'monkey'\\n    print(animal)\\n    \\ndef local_func3():\\n    print('animal=', animal) # 一旦使用，就被认为局部作用域内的animal是全局变量了。\\n    global animal\\n    animal = 'monkey'\\n    print(animal)\\n    \\n    \\nlocal_func1()\\nprint('-------')\\nlocal_func2()\", '_i78': \"animal = 'bird'\\ndef local_func1():\\n    animal = 'monkey'\\n    print(animal)\\n\\ndef local_func2():\\n    print('animal=', animal) # 一旦使用，就被认为局部作用域内的animal是全局变量了。\\n    animal = 'monkey'\\n    print(animal)\\n    \\ndef local_func3():\\n    global animal\\n    print('animal=', animal) # 一旦使用，就被认为局部作用域内的animal是全局变量了。\\n    animal = 'monkey'\\n    print(animal)\\n    \\n    \\nlocal_func1()\\nprint('-------')\\nlocal_func2()\", 'local_func3': <function local_func3 at 0x10e655268>, '_i79': \"animal = 'bird'\\ndef local_func1():\\n    animal = 'monkey'\\n    print(animal)\\n\\ndef local_func2():\\n    print('animal=', animal) # 一旦使用，就被认为局部作用域内的animal是全局变量了。\\n    animal = 'monkey'\\n    print(animal)\\n    \\ndef local_func3():\\n    global animal\\n    print('animal=', animal) # 一旦使用，就被认为局部作用域内的animal是全局变量了。\\n    animal = 'monkey'\\n    print(animal)\\n    \\n    \\nlocal_func1()\\nprint('-------')\\nlocal_func2()\\nprint('-------')\\nlocal_func3()\", '_i80': \"animal = 'bird'\\ndef local_func1():\\n    animal = 'monkey'\\n    print(animal)\\n\\ndef local_func2():\\n    global animal\\n    print('animal=', animal) # 一旦使用，就被认为局部作用域内的animal是全局变量了。\\n    animal = 'monkey'\\n    print(animal)\\n    \\ndef local_func3():\\n    print('animal=', animal) # 一旦使用，就被认为局部作用域内的animal是全局变量了。\\n    animal = 'monkey'\\n    print(animal)\\n    \\n    \\nlocal_func1()\\nprint('-------')\\nlocal_func2()\\nprint('-------')\\nlocal_func3()\", '_i81': \"animal = 'bird'\\ndef local_func1():\\n    animal = 'monkey'\\n    print(animal)\\n\\ndef local_func2():\\n    print('animal=', animal) # 一旦使用，就被认为局部作用域内的animal是全局变量了。\\n    global animal\\n    animal = 'monkey'\\n    print(animal)\\n    \\ndef local_func3():\\n    print('animal=', animal) # 一旦使用，就被认为局部作用域内的animal是全局变量了。\\n    animal = 'monkey'\\n    print(animal)\\n    \\n    \\nlocal_func1()\\nprint('-------')\\nlocal_func2()\\nprint('-------')\\nlocal_func3()\", '_i82': \"animal = 'bird'\\ndef local_func1():\\n    animal = 'monkey'\\n    print(animal)\\n\\ndef local_func2():\\n    global animal\\n    print('animal=', animal) # 一旦使用，就被认为局部作用域内的animal是全局变量了。\\n    animal = 'monkey'\\n    print(animal)\\n    \\ndef local_func3():\\n    print('animal=', animal) # 一旦使用，就被认为局部作用域内的animal是全局变量了。\\n    animal = 'monkey'\\n    print(animal)\\n    \\n    \\nlocal_func1()\\nprint('-------')\\nlocal_func2()\\nprint('-------')\\nlocal_func3()\", '_i83': \"animal = 'bird'\\ndef local_func1():\\n    animal = 'monkey'\\n    print(animal)\\n\\ndef local_func2():\\n    print('animal=', animal) # 一旦使用，就被认为局部作用域内的animal是全局变量了。\\n    global animal = 'monkey'\\n    print(animal)\\n    \\ndef local_func3():\\n    print('animal=', animal) # 一旦使用，就被认为局部作用域内的animal是全局变量了。\\n    animal = 'monkey'\\n    print(animal)\\n    \\n    \\nlocal_func1()\\nprint('-------')\\nlocal_func2()\\nprint('-------')\\nlocal_func3()\", '_i84': \"animal = 'bird'\\ndef local_func1():\\n    animal = 'monkey'\\n    print(animal)\\n\\ndef local_func2():\\n    global animal\\n    print('animal=', animal) # 一旦使用，就被认为局部作用域内的animal是全局变量了。\\n    animal = 'monkey'\\n    print(animal)\\n    \\ndef local_func3():\\n    print('animal=', animal) # 一旦使用，就被认为局部作用域内的animal是全局变量了。\\n    animal = 'monkey'\\n    print(animal)\\n    \\n    \\nlocal_func1()\\nprint('-------')\\nlocal_func2()\\nprint('-------')\\nlocal_func3()\", '_i85': \"animal = 'bird'\\ndef local_func4():\\n    animal = 'monkey'\\n    print(animal)\\n    print('locals:', locals())\\n    \\nprint('globals:', globals())\\nlocal_func4()\", 'local_func4': <function local_func4 at 0x10e6558c8>}\n",
      "monkey\n",
      "locals: {'animal': 'monkey'}\n"
     ]
    }
   ],
   "source": [
    "animal = 'bird'\n",
    "def local_func4():\n",
    "    animal = 'monkey'\n",
    "    print(animal)\n",
    "    print('locals:', locals())\n",
    "    \n",
    "print('globals:', globals())\n",
    "local_func4()"
   ]
  },
  {
   "cell_type": "markdown",
   "metadata": {},
   "source": [
    "### 4.12 编写自己的异常"
   ]
  },
  {
   "cell_type": "code",
   "execution_count": 92,
   "metadata": {},
   "outputs": [
    {
     "name": "stdout",
     "output_type": "stream",
     "text": [
      "MyException2 definition\n",
      "1.\n",
      "MyException1 catched.\n",
      "-------\n",
      "2.\n",
      "MyException2 catched.\n",
      "-------\n",
      "3.\n",
      "OtherException catched.\n"
     ]
    }
   ],
   "source": [
    "class MyException1(Exception):\n",
    "    pass\n",
    "class MyException2(Exception):\n",
    "    print('MyException2 definition')\n",
    "    \n",
    "def my_func1(item):\n",
    "    raise MyException1(item)\n",
    "def my_func2(item):\n",
    "    raise MyException2(item)\n",
    "def my_func3(item):\n",
    "    raise item / 0\n",
    "    \n",
    "def run(func, arg):\n",
    "    try:\n",
    "        func(arg)\n",
    "    except MyException1 as exp1:\n",
    "        print('MyException1 catched.')\n",
    "    except MyException2 as exp2:\n",
    "        print('MyException2 catched.')\n",
    "    except:\n",
    "        print('OtherException catched.')\n",
    "        \n",
    "print('1.')\n",
    "run(my_func1, 'a1')\n",
    "print('-------')\n",
    "print('2.')\n",
    "run(my_func2, 'a2')\n",
    "print('-------')\n",
    "print('3.')\n",
    "run(my_func3, 'a3')"
   ]
  }
 ],
 "metadata": {
  "kernelspec": {
   "display_name": "Python 3",
   "language": "python",
   "name": "python3"
  },
  "language_info": {
   "codemirror_mode": {
    "name": "ipython",
    "version": 3
   },
   "file_extension": ".py",
   "mimetype": "text/x-python",
   "name": "python",
   "nbconvert_exporter": "python",
   "pygments_lexer": "ipython3",
   "version": "3.6.4"
  }
 },
 "nbformat": 4,
 "nbformat_minor": 2
}
