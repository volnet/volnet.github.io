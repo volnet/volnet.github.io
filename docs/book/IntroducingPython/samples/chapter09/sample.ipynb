{
 "cells": [
  {
   "cell_type": "markdown",
   "metadata": {},
   "source": [
    "#### 9.2.4 Bottle"
   ]
  },
  {
   "cell_type": "code",
   "execution_count": 3,
   "metadata": {},
   "outputs": [
    {
     "name": "stderr",
     "output_type": "stream",
     "text": [
      "Bottle v0.12.13 server starting up (using WSGIRefServer())...\n",
      "Listening on http://localhost:9999/\n",
      "Hit Ctrl-C to quit.\n",
      "\n",
      "127.0.0.1 - - [09/May/2018 23:16:18] \"GET / HTTP/1.1\" 200 37\n",
      "127.0.0.1 - - [09/May/2018 23:16:18] \"GET /favicon.ico HTTP/1.1\" 404 742\n"
     ]
    }
   ],
   "source": [
    "from bottle import route, run\n",
    "\n",
    "@route('/')\n",
    "def home():\n",
    "    return \"It isn't fancy, but it's my home page\"\n",
    "run(host=\"localhost\", port=9999)"
   ]
  },
  {
   "cell_type": "code",
   "execution_count": 5,
   "metadata": {},
   "outputs": [
    {
     "name": "stderr",
     "output_type": "stream",
     "text": [
      "Bottle v0.12.13 server starting up (using WSGIRefServer())...\n",
      "Listening on http://localhost:9999/\n",
      "Hit Ctrl-C to quit.\n",
      "\n",
      "127.0.0.1 - - [09/May/2018 23:18:49] \"GET / HTTP/1.1\" 200 46\n",
      "127.0.0.1 - - [09/May/2018 23:19:53] \"GET / HTTP/1.1\" 304 0\n"
     ]
    }
   ],
   "source": [
    "from bottle import route, run, static_file\n",
    "\n",
    "@route('/')\n",
    "def main():\n",
    "    return static_file('index.html', root='.')\n",
    "run(host=\"localhost\", port=9999)"
   ]
  },
  {
   "cell_type": "code",
   "execution_count": 7,
   "metadata": {},
   "outputs": [
    {
     "name": "stderr",
     "output_type": "stream",
     "text": [
      "Bottle v0.12.13 server starting up (using WSGIRefServer())...\n",
      "Listening on http://localhost:9999/\n",
      "Hit Ctrl-C to quit.\n",
      "\n",
      "127.0.0.1 - - [09/May/2018 23:27:54] \"GET / HTTP/1.1\" 200 691\n",
      "127.0.0.1 - - [09/May/2018 23:28:01] \"GET /echo/hello HTTP/1.1\" 200 10\n",
      "127.0.0.1 - - [09/May/2018 23:28:10] \"GET / HTTP/1.1\" 304 0\n",
      "127.0.0.1 - - [09/May/2018 23:28:26] \"GET / HTTP/1.1\" 200 697\n",
      "127.0.0.1 - - [09/May/2018 23:28:40] \"GET / HTTP/1.1\" 200 710\n",
      "127.0.0.1 - - [09/May/2018 23:28:49] \"GET /echo/%E6%88%91%E6%98%AF%E4%B8%AD%E5%9B%BD%E4%BA%BA HTTP/1.1\" 200 20\n",
      "127.0.0.1 - - [09/May/2018 23:28:56] \"GET / HTTP/1.1\" 304 0\n",
      "127.0.0.1 - - [09/May/2018 23:29:04] \"GET /echo/%E6%88%91%E6%98%AF%E4%B8%AD%E5%9B%BD%E4%BA%BA HTTP/1.1\" 200 20\n",
      "127.0.0.1 - - [09/May/2018 23:29:25] \"GET / HTTP/1.1\" 200 726\n",
      "127.0.0.1 - - [09/May/2018 23:29:31] \"GET /echo/wo%20dfadsf HTTP/1.1\" 200 14\n",
      "127.0.0.1 - - [09/May/2018 23:29:35] \"GET /echo/wo%20dfadsf HTTP/1.1\" 200 14\n",
      "127.0.0.1 - - [09/May/2018 23:29:40] \"GET /echo/wo%20dfadsfasdf HTTP/1.1\" 200 18\n"
     ]
    }
   ],
   "source": [
    "from bottle import route, run, static_file\n",
    "\n",
    "@route('/')\n",
    "def main():\n",
    "    return static_file('index.html', root='.')\n",
    "@route('/echo/<thing>')\n",
    "def echo(thing):\n",
    "    return 'Echo:' + thing\n",
    "\n",
    "run(host=\"localhost\", port=9999)"
   ]
  },
  {
   "cell_type": "markdown",
   "metadata": {},
   "source": [
    "#### 9.2.5 Flask"
   ]
  },
  {
   "cell_type": "code",
   "execution_count": 3,
   "metadata": {},
   "outputs": [
    {
     "name": "stderr",
     "output_type": "stream",
     "text": [
      "127.0.0.1 - - [09/May/2018 23:42:30] \"GET / HTTP/1.1\" 200 -\n",
      "127.0.0.1 - - [09/May/2018 23:42:50] \"GET / HTTP/1.1\" 304 -\n",
      "127.0.0.1 - - [09/May/2018 23:44:00] \"GET / HTTP/1.1\" 200 -\n"
     ]
    }
   ],
   "source": [
    "from flask import Flask\n",
    "app = Flask(__name__, static_folder='.', static_url_path='')\n",
    "\n",
    "@app.route('/')\n",
    "def home():\n",
    "    return app.send_static_file('index.html')\n",
    "\n",
    "@app.route('/echo/<thing>')\n",
    "def echo(thing):\n",
    "    return 'Echo:' + thing\n",
    "\n",
    "app.run(port=9999)"
   ]
  },
  {
   "cell_type": "code",
   "execution_count": 11,
   "metadata": {},
   "outputs": [
    {
     "name": "stderr",
     "output_type": "stream",
     "text": [
      "127.0.0.1 - - [09/May/2018 23:57:00] \"GET / HTTP/1.1\" 200 -\n",
      "127.0.0.1 - - [09/May/2018 23:57:03] \"GET /echo/%E6%88%91%E6%98%AF%E4%B8%80%E4%B8%AA%E7%B2%89%E5%88%B7%E5%B0%86 HTTP/1.1\" 200 -\n",
      "127.0.0.1 - - [09/May/2018 23:57:07] \"GET /echo/%E6%88%91%E6%98%AF%E4%B8%80%E4%B8%AA%E7%B2%89%E5%88%B7%E5%B0%86 HTTP/1.1\" 200 -\n",
      "127.0.0.1 - - [09/May/2018 23:57:09] \"GET /echo/%E6%88%91%E6%98%AF%E4%B8%80%E4%B8%AA%E7%B2%89%E5%88%B7%E5%B0%86?place=Beijing HTTP/1.1\" 200 -\n"
     ]
    }
   ],
   "source": [
    "from flask import Flask, render_template, request\n",
    "app = Flask(__name__, static_folder='.', static_url_path='')\n",
    "\n",
    "@app.route('/')\n",
    "def home():\n",
    "    return app.send_static_file('index.html')\n",
    "\n",
    "@app.route('/echo/<thing>')\n",
    "def echo(thing):\n",
    "    place = request.args.get('place')\n",
    "    return render_template('flask2.html', thing=thing, place=place)\n",
    "\n",
    "app.run(port=9999)"
   ]
  },
  {
   "cell_type": "markdown",
   "metadata": {},
   "source": [
    "#### 9.3.1 webbrowser模块"
   ]
  },
  {
   "cell_type": "code",
   "execution_count": 12,
   "metadata": {},
   "outputs": [],
   "source": [
    "import antigravity"
   ]
  },
  {
   "cell_type": "code",
   "execution_count": 13,
   "metadata": {},
   "outputs": [
    {
     "data": {
      "text/plain": [
       "True"
      ]
     },
     "execution_count": 13,
     "metadata": {},
     "output_type": "execute_result"
    }
   ],
   "source": [
    "import webbrowser\n",
    "url = 'http://www.python.org'\n",
    "webbrowser.open(url + '?op=open')\n",
    "webbrowser.open_new(url + '?op=open_new')\n",
    "webbrowser.open_new_tab(url + '?op=open_new_tab')"
   ]
  },
  {
   "cell_type": "markdown",
   "metadata": {},
   "source": [
    "#### 9.3.5 用BeautifulSoup来抓取网页"
   ]
  },
  {
   "cell_type": "code",
   "execution_count": 19,
   "metadata": {},
   "outputs": [
    {
     "name": "stdout",
     "output_type": "stream",
     "text": [
      "Link in https://www.python.org/\n",
      "1 #content\n",
      "2 #python-network\n",
      "3 /\n",
      "4 /psf-landing/\n",
      "5 https://docs.python.org\n",
      "6 https://pypi.python.org/\n",
      "7 /jobs/\n",
      "8 /community/\n",
      "9 #top\n",
      "10 /\n",
      "11 #site-map\n",
      "12 #\n",
      "13 javascript:;\n",
      "14 javascript:;\n",
      "15 javascript:;\n",
      "16 #\n",
      "17 http://plus.google.com/+Python\n",
      "18 http://www.facebook.com/pythonlang?fref=ts\n",
      "19 http://twitter.com/ThePSF\n",
      "20 /community/irc/\n",
      "21 /accounts/login/\n",
      "22 /accounts/signup/\n",
      "23 /accounts/login/\n",
      "24 /about/\n",
      "25 /about/apps/\n",
      "26 /about/quotes/\n",
      "27 /about/gettingstarted/\n",
      "28 /about/help/\n",
      "29 http://brochure.getpython.info/\n",
      "30 /downloads/\n",
      "31 /downloads/\n",
      "32 /downloads/source/\n",
      "33 /downloads/windows/\n",
      "34 /downloads/mac-osx/\n",
      "35 /download/other/\n",
      "36 https://docs.python.org/3/license.html\n",
      "37 /download/alternatives\n",
      "38 /doc/\n",
      "39 /doc/\n",
      "40 /doc/av\n",
      "41 https://wiki.python.org/moin/BeginnersGuide\n",
      "42 https://devguide.python.org/\n",
      "43 https://docs.python.org/faq/\n",
      "44 http://wiki.python.org/moin/Languages\n",
      "45 http://python.org/dev/peps/\n",
      "46 https://wiki.python.org/moin/PythonBooks\n",
      "47 /doc/essays/\n",
      "48 /community/\n",
      "49 /community/diversity/\n",
      "50 /community/lists/\n",
      "51 /community/irc/\n",
      "52 /community/forums/\n",
      "53 /community/workshops/\n",
      "54 /community/sigs/\n",
      "55 https://wiki.python.org/moin/\n",
      "56 /community/logos/\n",
      "57 /community/merchandise/\n",
      "58 /community/awards\n",
      "59 https://www.python.org/psf/codeofconduct/\n",
      "60 /about/success/\n",
      "61 /about/success/#arts\n",
      "62 /about/success/#business\n",
      "63 /about/success/#education\n",
      "64 /about/success/#engineering\n",
      "65 /about/success/#government\n",
      "66 /about/success/#scientific\n",
      "67 /about/success/#software-development\n",
      "68 /blogs/\n",
      "69 /blogs/\n",
      "70 http://planetpython.org/\n",
      "71 http://pyfound.blogspot.com/\n",
      "72 http://pycon.blogspot.com/\n",
      "73 /events/\n",
      "74 /events/python-events\n",
      "75 /events/python-user-group/\n",
      "76 /events/python-events/past/\n",
      "77 /events/python-user-group/past/\n",
      "78 https://wiki.python.org/moin/PythonEventsCalendar#Submitting_an_Event\n",
      "79 /shell/\n",
      "80 //docs.python.org/3/tutorial/controlflow.html#defining-functions\n",
      "81 //docs.python.org/3/tutorial/introduction.html#lists\n",
      "82 http://docs.python.org/3/tutorial/introduction.html#using-python-as-a-calculator\n",
      "83 //docs.python.org/3/tutorial/\n",
      "84 //docs.python.org/3/tutorial/controlflow.html\n",
      "85 /doc/\n",
      "86 https://www.jetbrains.com/research/python-developers-survey-2017/\n",
      "87 /about/gettingstarted/\n",
      "88 /downloads/release/python-365/\n",
      "89 /downloads/\n",
      "90 https://docs.python.org\n",
      "91 //jobs.python.org\n",
      "92 http://blog.python.org\n",
      "93 http://feedproxy.google.com/~r/PythonInsider/~3/vo7OgsISIdQ/python-370b4-final-37-beta-now.html\n",
      "94 http://feedproxy.google.com/~r/PythonInsider/~3/BMstxEjkOt0/python-2715-released.html\n",
      "95 http://feedproxy.google.com/~r/PythonInsider/~3/AZuQtxqd0yo/new-pypi-launched-legacy-pypi-shutting.html\n",
      "96 http://feedproxy.google.com/~r/PythonInsider/~3/MFwLlNq1pcw/python-2715-release-candidate-1-is-now.html\n",
      "97 http://feedproxy.google.com/~r/PythonInsider/~3/XI1GsD8Xqpk/pip-10-has-been-released.html\n",
      "98 /events/calendars/\n",
      "99 /events/python-user-group/705/\n",
      "100 /events/python-user-group/661/\n",
      "101 /events/python-events/640/\n",
      "102 /events/python-user-group/685/\n",
      "103 /events/python-user-group/671/\n",
      "104 /success-stories/\n",
      "105 /success-stories/industrial-light-magic-runs-python/\n",
      "106 /success-stories/industrial-light-magic-runs-python/\n",
      "107 /about/apps\n",
      "108 http://www.djangoproject.com/\n",
      "109 http://www.pylonsproject.org/\n",
      "110 http://bottlepy.org\n",
      "111 http://tornadoweb.org\n",
      "112 http://flask.pocoo.org/\n",
      "113 http://www.web2py.com/\n",
      "114 http://wiki.python.org/moin/TkInter\n",
      "115 https://wiki.gnome.org/Projects/PyGObject\n",
      "116 http://www.riverbankcomputing.co.uk/software/pyqt/intro\n",
      "117 https://wiki.qt.io/PySide\n",
      "118 https://kivy.org/\n",
      "119 http://www.wxpython.org/\n",
      "120 http://www.scipy.org\n",
      "121 http://pandas.pydata.org/\n",
      "122 http://ipython.org\n",
      "123 http://buildbot.net/\n",
      "124 http://trac.edgewall.org/\n",
      "125 http://roundup.sourceforge.net/\n",
      "126 http://www.ansible.com\n",
      "127 http://www.saltstack.com\n",
      "128 https://www.openstack.org\n",
      "129 /dev/peps/\n",
      "130 /dev/peps/peps.rss\n",
      "131 /psf/\n",
      "132 /psf/\n",
      "133 /users/membership/\n",
      "134 /psf/donations/\n",
      "135 #python-network\n",
      "136 /about/\n",
      "137 /about/apps/\n",
      "138 /about/quotes/\n",
      "139 /about/gettingstarted/\n",
      "140 /about/help/\n",
      "141 http://brochure.getpython.info/\n",
      "142 /downloads/\n",
      "143 /downloads/\n",
      "144 /downloads/source/\n",
      "145 /downloads/windows/\n",
      "146 /downloads/mac-osx/\n",
      "147 /download/other/\n",
      "148 https://docs.python.org/3/license.html\n",
      "149 /download/alternatives\n",
      "150 /doc/\n",
      "151 /doc/\n",
      "152 /doc/av\n",
      "153 https://wiki.python.org/moin/BeginnersGuide\n",
      "154 https://devguide.python.org/\n",
      "155 https://docs.python.org/faq/\n",
      "156 http://wiki.python.org/moin/Languages\n",
      "157 http://python.org/dev/peps/\n",
      "158 https://wiki.python.org/moin/PythonBooks\n",
      "159 /doc/essays/\n",
      "160 /community/\n",
      "161 /community/diversity/\n",
      "162 /community/lists/\n",
      "163 /community/irc/\n",
      "164 /community/forums/\n",
      "165 /community/workshops/\n",
      "166 /community/sigs/\n",
      "167 https://wiki.python.org/moin/\n",
      "168 /community/logos/\n",
      "169 /community/merchandise/\n",
      "170 /community/awards\n",
      "171 https://www.python.org/psf/codeofconduct/\n",
      "172 /about/success/\n",
      "173 /about/success/#arts\n",
      "174 /about/success/#business\n",
      "175 /about/success/#education\n",
      "176 /about/success/#engineering\n",
      "177 /about/success/#government\n",
      "178 /about/success/#scientific\n",
      "179 /about/success/#software-development\n",
      "180 /blogs/\n",
      "181 /blogs/\n",
      "182 http://planetpython.org/\n",
      "183 http://pyfound.blogspot.com/\n",
      "184 http://pycon.blogspot.com/\n",
      "185 /events/\n",
      "186 /events/python-events\n",
      "187 /events/python-user-group/\n",
      "188 /events/python-events/past/\n",
      "189 /events/python-user-group/past/\n",
      "190 https://wiki.python.org/moin/PythonEventsCalendar#Submitting_an_Event\n",
      "191 /dev/\n",
      "192 https://devguide.python.org/\n",
      "193 https://bugs.python.org/\n",
      "194 https://mail.python.org/mailman/listinfo/python-dev\n",
      "195 /dev/core-mentorship/\n",
      "196 #python-network\n",
      "197 /about/help/\n",
      "198 /community/diversity/\n",
      "199 https://github.com/python/pythondotorg/issues\n",
      "200 https://status.python.org/\n",
      "201 /psf-landing/\n",
      "202 /about/legal/\n",
      "203 /privacy/\n",
      "204 /psf/sponsorship/sponsors/\n",
      "\n"
     ]
    },
    {
     "name": "stderr",
     "output_type": "stream",
     "text": [
      "/Users/gongcen/anaconda3/lib/python3.6/site-packages/bs4/__init__.py:181: UserWarning: No parser was explicitly specified, so I'm using the best available HTML parser for this system (\"lxml\"). This usually isn't a problem, but if you run this code on another system, or in a different virtual environment, it may use a different parser and behave differently.\n",
      "\n",
      "The code that caused this warning is on line 193 of the file /Users/gongcen/anaconda3/lib/python3.6/runpy.py. To get rid of this warning, change code that looks like this:\n",
      "\n",
      " BeautifulSoup(YOUR_MARKUP})\n",
      "\n",
      "to this:\n",
      "\n",
      " BeautifulSoup(YOUR_MARKUP, \"lxml\")\n",
      "\n",
      "  markup_type=markup_type))\n"
     ]
    }
   ],
   "source": [
    "def get_links(url):\n",
    "    import requests\n",
    "    from bs4 import BeautifulSoup as soup\n",
    "    result = requests.get(url)\n",
    "    page = result.text\n",
    "    doc = soup(page)\n",
    "    links = [element.get('href') for element in doc.find_all('a')]\n",
    "    return links\n",
    "\n",
    "if __name__ == '__main__':\n",
    "    urls = ['https://www.python.org/']\n",
    "    for url in urls:\n",
    "        print('Link in', url)\n",
    "        for num, link in enumerate(get_links(url), start=1):\n",
    "            print(num, link)\n",
    "        print()"
   ]
  },
  {
   "cell_type": "code",
   "execution_count": null,
   "metadata": {},
   "outputs": [],
   "source": []
  }
 ],
 "metadata": {
  "kernelspec": {
   "display_name": "Python 3",
   "language": "python",
   "name": "python3"
  },
  "language_info": {
   "codemirror_mode": {
    "name": "ipython",
    "version": 3
   },
   "file_extension": ".py",
   "mimetype": "text/x-python",
   "name": "python",
   "nbconvert_exporter": "python",
   "pygments_lexer": "ipython3",
   "version": "3.6.4"
  }
 },
 "nbformat": 4,
 "nbformat_minor": 2
}
