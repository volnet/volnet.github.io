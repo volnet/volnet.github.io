{
 "cells": [
  {
   "cell_type": "markdown",
   "metadata": {},
   "source": [
    "#### 5.3.4 模块搜索路径"
   ]
  },
  {
   "cell_type": "code",
   "execution_count": 1,
   "metadata": {},
   "outputs": [
    {
     "name": "stdout",
     "output_type": "stream",
     "text": [
      "\n",
      "/Users/gongcen/anaconda3/lib/python36.zip\n",
      "/Users/gongcen/anaconda3/lib/python3.6\n",
      "/Users/gongcen/anaconda3/lib/python3.6/lib-dynload\n",
      "/Users/gongcen/anaconda3/lib/python3.6/site-packages\n",
      "/Users/gongcen/anaconda3/lib/python3.6/site-packages/aeosa\n",
      "/Users/gongcen/anaconda3/lib/python3.6/site-packages/IPython/extensions\n",
      "/Users/gongcen/.ipython\n"
     ]
    }
   ],
   "source": [
    "import sys\n",
    "for place in sys.path:\n",
    "    print(place)"
   ]
  },
  {
   "cell_type": "markdown",
   "metadata": {},
   "source": [
    "#### 5.5.1 使用setdefault()和defaultdict()处理缺失的键"
   ]
  },
  {
   "cell_type": "code",
   "execution_count": 11,
   "metadata": {},
   "outputs": [
    {
     "name": "stdout",
     "output_type": "stream",
     "text": [
      "1\n",
      "1\n",
      "{'Hydrogen': 1, 'Helium': 2, 'Hello': 3, 'World': 4}\n"
     ]
    }
   ],
   "source": [
    "periodic_table = {'Hydrogen':1, 'Helium':2}\n",
    "\n",
    "print(periodic_table['Hydrogen'])\n",
    "print(periodic_table.get('Hydrogen'))\n",
    "\n",
    "periodic_table['Hello'] = 3\n",
    "\n",
    "# setdefault的含义：仅在原有Key不存在的时候，会在字典中添加一项\n",
    "\n",
    "# 如果Key不存在，则设定对应的值\n",
    "periodic_table.setdefault('World', 4)\n",
    "# 如果Key已经存在，则维持原来的值不变\n",
    "periodic_table.setdefault('Hello', 999)\n",
    "\n",
    "print(periodic_table)"
   ]
  },
  {
   "cell_type": "code",
   "execution_count": 13,
   "metadata": {},
   "outputs": [
    {
     "name": "stdout",
     "output_type": "stream",
     "text": [
      "defaultdict(<class 'int'>, {})\n",
      "defaultdict(<function <lambda> at 0x104eb8598>, {})\n",
      "defaultdict(<function myDefaultValue at 0x104eb89d8>, {})\n",
      "-----------\n",
      "0\n",
      "default value\n",
      "100\n"
     ]
    }
   ],
   "source": [
    "# defaultdict的含义是设定字典的默认值\n",
    "\n",
    "from collections import defaultdict\n",
    "\n",
    "table0 = defaultdict(int)\n",
    "table1 = defaultdict(lambda: 'default value')\n",
    "\n",
    "def myDefaultValue():\n",
    "    return 100;\n",
    "\n",
    "table2 = defaultdict(myDefaultValue)\n",
    "\n",
    "print(table0)\n",
    "print(table1)\n",
    "print(table2)\n",
    "print('-----------')\n",
    "print(table0['Hello'])\n",
    "print(table1['Hello'])\n",
    "print(table2['Hello'])"
   ]
  },
  {
   "cell_type": "markdown",
   "metadata": {},
   "source": [
    "#### 5.5.2 使用Counter()计数"
   ]
  },
  {
   "cell_type": "code",
   "execution_count": 18,
   "metadata": {},
   "outputs": [
    {
     "name": "stdout",
     "output_type": "stream",
     "text": [
      "Counter({'World': 3, 'Hello': 2, 'ViVi': 1})\n",
      "Counter({'MacBook Pro': 2, 'Hello': 1, 'World': 1, 'Volnet': 1})\n",
      "2\n",
      "0\n",
      "Counter({'World': 3, 'Hello': 2, 'ViVi': 1})\n",
      "--------\n",
      "[('World', 3), ('Hello', 2), ('ViVi', 1)]\n",
      "[('World', 3), ('Hello', 2)]\n",
      "--------\n",
      "Counter({'World': 4, 'Hello': 3, 'MacBook Pro': 2, 'ViVi': 1, 'Volnet': 1})\n",
      "Counter({'World': 2, 'Hello': 1, 'ViVi': 1})\n",
      "Counter({'Hello': 1, 'World': 1})\n",
      "Counter({'World': 3, 'Hello': 2, 'MacBook Pro': 2, 'ViVi': 1, 'Volnet': 1})\n"
     ]
    }
   ],
   "source": [
    "from collections import Counter\n",
    "counter1 = Counter(['Hello', 'Hello', 'World', 'World', 'World', 'ViVi'])\n",
    "counter2 = Counter(['Hello', 'World', 'Volnet', 'MacBook Pro', 'MacBook Pro'])\n",
    "print(counter1)\n",
    "print(counter2)\n",
    "print(counter1['Hello'])\n",
    "print(counter1['WithoutKey'])\n",
    "print(counter1)\n",
    "print('--------')\n",
    "counter1SortedDescAll = counter1.most_common()\n",
    "counter1SortedDescMoreThan2 = counter1.most_common(2)\n",
    "print(counter1SortedDescAll)\n",
    "print(counter1SortedDescMoreThan2)\n",
    "print('--------')\n",
    "counterAdd = counter1 + counter2\n",
    "counterSubstract = counter1 - counter2\n",
    "counterAnd = counter1 & counter2\n",
    "counterOr = counter1 | counter2\n",
    "print(counterAdd)\n",
    "print(counterSubstract)\n",
    "print(counterAnd)\n",
    "print(counterOr)"
   ]
  },
  {
   "cell_type": "markdown",
   "metadata": {},
   "source": [
    "#### 5.5.3 使用有序字典OrderedDict()按键排序"
   ]
  },
  {
   "cell_type": "code",
   "execution_count": 26,
   "metadata": {},
   "outputs": [
    {
     "name": "stdout",
     "output_type": "stream",
     "text": [
      "{'Hello': 'Ok', 'World': 'Yes', 'Asia': 'No', 'Nick': 'Bye'}\n",
      "Hello\n",
      "World\n",
      "Asia\n",
      "Nick\n",
      "OrderedDict([('Hello', 'Ok'), ('World', 'Yes'), ('Asia', 'No'), ('Nick', 'Bye')])\n",
      "Hello\n",
      "World\n",
      "Asia\n",
      "Nick\n"
     ]
    }
   ],
   "source": [
    "from collections import OrderedDict\n",
    "notOrderDict = {'Hello':'Ok', 'World':'Yes', 'Asia':'No'}\n",
    "notOrderDict['Nick'] = 'Bye'\n",
    "print(notOrderDict)\n",
    "for item in notOrderDict:\n",
    "    print(item)\n",
    "\n",
    "orderDict = OrderedDict([('Hello', 'Ok'), ('World', 'Yes'), ('Asia', 'No')])\n",
    "orderDict['Nick'] = 'Bye'\n",
    "print(orderDict)\n",
    "for item in orderDict:\n",
    "    print(item)"
   ]
  },
  {
   "cell_type": "markdown",
   "metadata": {},
   "source": [
    "#### 5.5.4 双端队列：栈+队列"
   ]
  },
  {
   "cell_type": "code",
   "execution_count": 6,
   "metadata": {},
   "outputs": [
    {
     "name": "stdout",
     "output_type": "stream",
     "text": [
      "left:a right:a\n",
      "left:b right:b\n",
      "left:c right:c\n",
      "True\n",
      "----------------\n",
      "left:a right:a\n",
      "left:b right:b\n",
      "True\n",
      "----------------\n",
      "True\n",
      "----------------\n",
      "left:a right:b\n",
      "False\n",
      "################\n",
      "True\n",
      "----------------\n",
      "True\n",
      "----------------\n",
      "True\n",
      "----------------\n",
      "False\n"
     ]
    }
   ],
   "source": [
    "def palindrome(word):\n",
    "    from collections import deque\n",
    "    dq = deque(word)\n",
    "    while(len(dq) > 1):\n",
    "        a = dq.popleft()\n",
    "        b = dq.pop()\n",
    "        print('left:' + a + ' right:' + b)\n",
    "        if a != b:\n",
    "            return False\n",
    "    return True\n",
    "\n",
    "print(palindrome('abccba'))\n",
    "print('----------------')\n",
    "print(palindrome('abcba'))\n",
    "print('----------------')\n",
    "print(palindrome('a'))\n",
    "print('----------------')\n",
    "print(palindrome('ab'))\n",
    "print('################')\n",
    "\n",
    "def palindrome2(word):\n",
    "    return word == word[::-1]\n",
    "\n",
    "print(palindrome2('abccba'))\n",
    "print('----------------')\n",
    "print(palindrome2('abcba'))\n",
    "print('----------------')\n",
    "print(palindrome2('a'))\n",
    "print('----------------')\n",
    "print(palindrome2('ab'))"
   ]
  },
  {
   "cell_type": "markdown",
   "metadata": {},
   "source": [
    "#### 5.5.5 使用itertools迭代代码结构"
   ]
  },
  {
   "cell_type": "code",
   "execution_count": 9,
   "metadata": {},
   "outputs": [
    {
     "name": "stdout",
     "output_type": "stream",
     "text": [
      "1\n",
      "2\n",
      "a\n",
      "b\n",
      "----------------\n",
      "1\n",
      "2\n",
      "1\n",
      "----------------\n",
      "1\n",
      "3\n",
      "6\n",
      "10\n",
      "----------------\n",
      "1\n",
      "2\n",
      "6\n",
      "24\n"
     ]
    }
   ],
   "source": [
    "import itertools\n",
    "for item in itertools.chain([1, 2], ['a', 'b']):\n",
    "    print(item)\n",
    "    \n",
    "print('----------------')\n",
    "\n",
    "stop = 0\n",
    "for item in itertools.cycle([1, 2]):\n",
    "    stop += 1\n",
    "    print(item)\n",
    "    if stop == 3:\n",
    "        break\n",
    "print('----------------')\n",
    "\n",
    "for item in itertools.accumulate([1, 2, 3, 4]):\n",
    "    print(item)\n",
    "print('----------------')    \n",
    "\n",
    "def mutiply(a, b):\n",
    "    return a * b\n",
    "for item in itertools.accumulate([1, 2, 3, 4], mutiply):\n",
    "    print(item)"
   ]
  },
  {
   "cell_type": "markdown",
   "metadata": {},
   "source": [
    "#### 5.5.6 使用pprint()友好输出"
   ]
  },
  {
   "cell_type": "code",
   "execution_count": 21,
   "metadata": {},
   "outputs": [
    {
     "name": "stdout",
     "output_type": "stream",
     "text": [
      "[   ['spam', 'eggs', 'lumberjack', 'knights', 'ni'],\n",
      "    'spam',\n",
      "    'eggs',\n",
      "    'lumberjack',\n",
      "    'knights',\n",
      "    'ni']\n",
      "-------------\n",
      "[['spam', 'eggs', 'lumberjack', 'knights', 'ni'],\n",
      " 'spam',\n",
      " 'eggs',\n",
      " 'lumberjack',\n",
      " 'knights',\n",
      " 'ni']\n",
      "-------------\n",
      "[['spam', 'eggs', 'lumberjack',\n",
      "  'knights', 'ni'],\n",
      " 'spam', 'eggs', 'lumberjack', 'knights',\n",
      " 'ni']\n",
      "-------------\n",
      "('spam', ('eggs', ('lumberjack', ('knights', ('ni', ('dead', (...)))))))\n"
     ]
    }
   ],
   "source": [
    "import pprint\n",
    "stuff = ['spam', 'eggs', 'lumberjack', 'knights', 'ni']\n",
    "stuff.insert(0, stuff[:])\n",
    "pp = pprint.PrettyPrinter(indent=4)\n",
    "pp.pprint(stuff)\n",
    "print('-------------')\n",
    "\n",
    "pprint.pprint(stuff)\n",
    "print('-------------')\n",
    "\n",
    "pp = pprint.PrettyPrinter(width=41, compact=True)\n",
    "pp.pprint(stuff)\n",
    "print('-------------')\n",
    "tup = ('spam', ('eggs', ('lumberjack', ('knights', ('ni', ('dead',('parrot', ('fresh fruit',))))))))\n",
    "pp = pprint.PrettyPrinter(depth=6)\n",
    "pp.pprint(tup)"
   ]
  },
  {
   "cell_type": "code",
   "execution_count": null,
   "metadata": {},
   "outputs": [],
   "source": []
  }
 ],
 "metadata": {
  "kernelspec": {
   "display_name": "Python 3",
   "language": "python",
   "name": "python3"
  },
  "language_info": {
   "codemirror_mode": {
    "name": "ipython",
    "version": 3
   },
   "file_extension": ".py",
   "mimetype": "text/x-python",
   "name": "python",
   "nbconvert_exporter": "python",
   "pygments_lexer": "ipython3",
   "version": "3.6.4"
  }
 },
 "nbformat": 4,
 "nbformat_minor": 2
}
