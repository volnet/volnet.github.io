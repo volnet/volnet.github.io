{
 "cells": [
  {
   "cell_type": "markdown",
   "metadata": {},
   "source": [
    "#### 5.3.4 模块搜索路径"
   ]
  },
  {
   "cell_type": "code",
   "execution_count": 1,
   "metadata": {},
   "outputs": [
    {
     "name": "stdout",
     "output_type": "stream",
     "text": [
      "\n",
      "/Users/gongcen/anaconda3/lib/python36.zip\n",
      "/Users/gongcen/anaconda3/lib/python3.6\n",
      "/Users/gongcen/anaconda3/lib/python3.6/lib-dynload\n",
      "/Users/gongcen/anaconda3/lib/python3.6/site-packages\n",
      "/Users/gongcen/anaconda3/lib/python3.6/site-packages/aeosa\n",
      "/Users/gongcen/anaconda3/lib/python3.6/site-packages/IPython/extensions\n",
      "/Users/gongcen/.ipython\n"
     ]
    }
   ],
   "source": [
    "import sys\n",
    "for place in sys.path:\n",
    "    print(place)"
   ]
  },
  {
   "cell_type": "code",
   "execution_count": null,
   "metadata": {},
   "outputs": [],
   "source": []
  }
 ],
 "metadata": {
  "kernelspec": {
   "display_name": "Python 3",
   "language": "python",
   "name": "python3"
  },
  "language_info": {
   "codemirror_mode": {
    "name": "ipython",
    "version": 3
   },
   "file_extension": ".py",
   "mimetype": "text/x-python",
   "name": "python",
   "nbconvert_exporter": "python",
   "pygments_lexer": "ipython3",
   "version": "3.6.4"
  }
 },
 "nbformat": 4,
 "nbformat_minor": 2
}
