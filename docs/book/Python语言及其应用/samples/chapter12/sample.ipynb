{
 "cells": [
  {
   "cell_type": "markdown",
   "metadata": {},
   "source": [
    "#### 12.10.2 算法和数据结构"
   ]
  },
  {
   "cell_type": "code",
   "execution_count": 1,
   "metadata": {},
   "outputs": [
    {
     "name": "stdout",
     "output_type": "stream",
     "text": [
      "make_list_1 takes 0.08883798699935141 seconds\n",
      "make_list_2 takes 0.03552798100099608 seconds\n"
     ]
    }
   ],
   "source": [
    "from timeit import timeit\n",
    "\n",
    "def make_list_1():\n",
    "    result = []\n",
    "    for value in range(1000):\n",
    "        result.append(value)\n",
    "    return result\n",
    "\n",
    "def make_list_2():\n",
    "    return [value for value in range(1000)]\n",
    "\n",
    "print('make_list_1 takes', timeit(make_list_1, number=1000), 'seconds')\n",
    "print('make_list_2 takes', timeit(make_list_2, number=1000), 'seconds')"
   ]
  },
  {
   "cell_type": "code",
   "execution_count": null,
   "metadata": {},
   "outputs": [],
   "source": []
  }
 ],
 "metadata": {
  "kernelspec": {
   "display_name": "Python 3",
   "language": "python",
   "name": "python3"
  },
  "language_info": {
   "codemirror_mode": {
    "name": "ipython",
    "version": 3
   },
   "file_extension": ".py",
   "mimetype": "text/x-python",
   "name": "python",
   "nbconvert_exporter": "python",
   "pygments_lexer": "ipython3",
   "version": "3.6.4"
  }
 },
 "nbformat": 4,
 "nbformat_minor": 2
}
