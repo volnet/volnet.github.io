{
 "cells": [
  {
   "cell_type": "markdown",
   "metadata": {},
   "source": [
    "### 8.1 文件输入/输出"
   ]
  },
  {
   "cell_type": "code",
   "execution_count": 31,
   "metadata": {},
   "outputs": [
    {
     "name": "stdout",
     "output_type": "stream",
     "text": [
      "中文Chinese\n",
      "汉字，文言文\n",
      "^localhost\n",
      "-------write file 1-------\n",
      "fileobj1 27\n",
      "-------write file 2-------\n",
      "fileobj2.len 43\n",
      "fileobj2 43\n",
      "-------read file 1-------\n",
      "中文Chinese\n",
      "汉字，文言文\n",
      "^localhost\n",
      "-------read file 2-------\n",
      "中文Chinese\n",
      "汉字，文言文\n",
      "^localhost\n",
      "-------read file 3-------\n",
      "中文Chinese\n",
      "汉字，文言文\n",
      "^localhost"
     ]
    }
   ],
   "source": [
    "text = \"\"\"中文Chinese\n",
    "汉字，文言文\n",
    "^localhost\"\"\"\n",
    "\n",
    "print(text)\n",
    "\n",
    "print('-------write file 1-------')\n",
    "fileobj1 = open('text_wt_test', 'wt')\n",
    "print('fileobj1', fileobj1.write(text))\n",
    "fileobj1.close()\n",
    "\n",
    "print('-------write file 2-------')\n",
    "fileobj2 = open('text_wb_test', 'wb')\n",
    "b = text.encode('utf-8')\n",
    "print('fileobj2.len', len(b))\n",
    "print('fileobj2', fileobj2.write(b))\n",
    "fileobj2.close()\n",
    "\n",
    "print('-------read file 1-------')\n",
    "fileobj3 = open('text_wt_test', 'rt')\n",
    "print(fileobj3.read())\n",
    "fileobj3.close()\n",
    "\n",
    "print('-------read file 2-------')\n",
    "fileobj4 = open('text_wt_test', 'rt')\n",
    "for line in fileobj4:\n",
    "    print(line, end = '')\n",
    "fileobj4.close()\n",
    "print('')\n",
    "\n",
    "print('-------read file 3-------')\n",
    "fileobj5 = open('text_wt_test', 'rt')\n",
    "while True:\n",
    "    line = fileobj5.readline()\n",
    "    if not line:\n",
    "        break\n",
    "    print(line, end='')\n",
    "fileobj5.close()"
   ]
  },
  {
   "cell_type": "code",
   "execution_count": 41,
   "metadata": {},
   "outputs": [],
   "source": [
    "text = \"\"\"中文Chinese\n",
    "汉字，文言文\n",
    "^localhost\"\"\"\n",
    "\n",
    "fout = open('print_to_file_test', 'wt')\n",
    "print(text, text, file=fout, sep='', end='')\n",
    "fout.close()"
   ]
  },
  {
   "cell_type": "code",
   "execution_count": 42,
   "metadata": {},
   "outputs": [],
   "source": [
    "text = \"\"\"中文Chinese\n",
    "汉字，文言文\n",
    "^localhost\"\"\"\n",
    "\n",
    "with open('print_to_file_use_with_test', 'wt') as fout:\n",
    "    print(text, text, file=fout, sep='', end='')"
   ]
  },
  {
   "cell_type": "markdown",
   "metadata": {},
   "source": [
    "#### 8.2.1 CSV"
   ]
  },
  {
   "cell_type": "code",
   "execution_count": 55,
   "metadata": {},
   "outputs": [
    {
     "name": "stdout",
     "output_type": "stream",
     "text": [
      "villains2 [['Doctor', 'No'], ['Rosa', 'Klebb']]\n",
      "villains3 [OrderedDict([('first', 'Doctor'), ('last', 'No')]), OrderedDict([('first', 'Rosa'), ('last', 'Klebb')])]\n",
      "villains4 [OrderedDict([('first', 'Doctor'), ('last', 'No')]), OrderedDict([('first', 'Rosa'), ('last', 'Klebb')])]\n"
     ]
    }
   ],
   "source": [
    "import csv\n",
    "villains = [\n",
    "    ['Doctor', 'No'],\n",
    "    ['Rosa', 'Klebb']\n",
    "]\n",
    "\n",
    "with open('villains.csv', 'wt') as fout:\n",
    "    csvout = csv.writer(fout)\n",
    "    csvout.writerows(villains)\n",
    "\n",
    "with open('villains.csv', 'rt') as fin:\n",
    "    csvin = csv.reader(fin)\n",
    "    villains2 = [row for row in csvin]\n",
    "\n",
    "print('villains2', villains2)\n",
    "\n",
    "with open('villains.csv', 'rt') as fin:\n",
    "    csvin = csv.DictReader(fin, fieldnames=['first', 'last'])\n",
    "    villains3 = [row for row in csvin]\n",
    "print('villains3', villains3)\n",
    "\n",
    "villains4 = [\n",
    "    {'first': 'Doctor', 'last': 'No'},\n",
    "    {'first': 'Rosa', 'last': 'Klebb'}\n",
    "]\n",
    "with open('villains4.csv', 'wt') as fout:\n",
    "    csvout = csv.DictWriter(fout, ['first', 'last'])\n",
    "    csvout.writeheader()\n",
    "    csvout.writerows(villains4)\n",
    "    \n",
    "with open('villains4.csv', 'rt') as fin:\n",
    "    csvin = csv.DictReader(fin)\n",
    "    villains4_1 = [row for row in csvin]\n",
    "print('villains4', villains4_1)"
   ]
  },
  {
   "cell_type": "markdown",
   "metadata": {},
   "source": [
    "#### 8.2.4 JSON"
   ]
  },
  {
   "cell_type": "code",
   "execution_count": 59,
   "metadata": {},
   "outputs": [
    {
     "name": "stdout",
     "output_type": "stream",
     "text": [
      "1525679875\n"
     ]
    }
   ],
   "source": [
    "import json\n",
    "import datetime\n",
    "from time import mktime\n",
    "class DTEncoder(json.JSONEncoder):\n",
    "    def default(self, obj):\n",
    "        if isinstance(obj, datetime.datetime):\n",
    "            return int(mktime(obj.timetuple()))\n",
    "        return json.JSONEncoder.default(self, obj)\n",
    "now = datetime.datetime.utcnow()\n",
    "t = json.dumps(now, cls=DTEncoder)\n",
    "print(t)"
   ]
  },
  {
   "cell_type": "markdown",
   "metadata": {},
   "source": [
    "#### 8.2.9 使用pickle序列化"
   ]
  },
  {
   "cell_type": "code",
   "execution_count": 60,
   "metadata": {},
   "outputs": [
    {
     "name": "stdout",
     "output_type": "stream",
     "text": [
      "<class 'bytes'>\n",
      "2018-05-07 16:05:12.276980\n",
      "2018-05-07 16:05:12.276980\n"
     ]
    }
   ],
   "source": [
    "import pickle\n",
    "import datetime\n",
    "now1 = datetime.datetime.utcnow()\n",
    "pickled = pickle.dumps(now1)\n",
    "print(type(pickled))\n",
    "now2 = pickle.loads(pickled)\n",
    "print(now1)\n",
    "print(now2)"
   ]
  },
  {
   "cell_type": "markdown",
   "metadata": {},
   "source": [
    "#### 8.5.1 dbm family"
   ]
  },
  {
   "cell_type": "code",
   "execution_count": 2,
   "metadata": {},
   "outputs": [
    {
     "name": "stdout",
     "output_type": "stream",
     "text": [
      "3\n"
     ]
    }
   ],
   "source": [
    "import dbm\n",
    "db = dbm.open('definitions', 'c')\n",
    "db['mustard'] = 'yellow'\n",
    "db['ketchup'] = 'red'\n",
    "db['pesto'] = 'green'\n",
    "print(len(db))\n",
    "db.close()"
   ]
  },
  {
   "cell_type": "code",
   "execution_count": null,
   "metadata": {},
   "outputs": [],
   "source": []
  }
 ],
 "metadata": {
  "kernelspec": {
   "display_name": "Python 3",
   "language": "python",
   "name": "python3"
  },
  "language_info": {
   "codemirror_mode": {
    "name": "ipython",
    "version": 3
   },
   "file_extension": ".py",
   "mimetype": "text/x-python",
   "name": "python",
   "nbconvert_exporter": "python",
   "pygments_lexer": "ipython3",
   "version": "3.6.4"
  }
 },
 "nbformat": 4,
 "nbformat_minor": 2
}
