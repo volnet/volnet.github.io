{
 "cells": [
  {
   "cell_type": "markdown",
   "metadata": {},
   "source": [
    "#### 9.2.4 Bottle"
   ]
  },
  {
   "cell_type": "code",
   "execution_count": 3,
   "metadata": {},
   "outputs": [
    {
     "name": "stderr",
     "output_type": "stream",
     "text": [
      "Bottle v0.12.13 server starting up (using WSGIRefServer())...\n",
      "Listening on http://localhost:9999/\n",
      "Hit Ctrl-C to quit.\n",
      "\n",
      "127.0.0.1 - - [09/May/2018 23:16:18] \"GET / HTTP/1.1\" 200 37\n",
      "127.0.0.1 - - [09/May/2018 23:16:18] \"GET /favicon.ico HTTP/1.1\" 404 742\n"
     ]
    }
   ],
   "source": [
    "from bottle import route, run\n",
    "\n",
    "@route('/')\n",
    "def home():\n",
    "    return \"It isn't fancy, but it's my home page\"\n",
    "run(host=\"localhost\", port=9999)"
   ]
  },
  {
   "cell_type": "code",
   "execution_count": 5,
   "metadata": {},
   "outputs": [
    {
     "name": "stderr",
     "output_type": "stream",
     "text": [
      "Bottle v0.12.13 server starting up (using WSGIRefServer())...\n",
      "Listening on http://localhost:9999/\n",
      "Hit Ctrl-C to quit.\n",
      "\n",
      "127.0.0.1 - - [09/May/2018 23:18:49] \"GET / HTTP/1.1\" 200 46\n",
      "127.0.0.1 - - [09/May/2018 23:19:53] \"GET / HTTP/1.1\" 304 0\n"
     ]
    }
   ],
   "source": [
    "from bottle import route, run, static_file\n",
    "\n",
    "@route('/')\n",
    "def main():\n",
    "    return static_file('index.html', root='.')\n",
    "run(host=\"localhost\", port=9999)"
   ]
  },
  {
   "cell_type": "code",
   "execution_count": 7,
   "metadata": {},
   "outputs": [
    {
     "name": "stderr",
     "output_type": "stream",
     "text": [
      "Bottle v0.12.13 server starting up (using WSGIRefServer())...\n",
      "Listening on http://localhost:9999/\n",
      "Hit Ctrl-C to quit.\n",
      "\n",
      "127.0.0.1 - - [09/May/2018 23:27:54] \"GET / HTTP/1.1\" 200 691\n",
      "127.0.0.1 - - [09/May/2018 23:28:01] \"GET /echo/hello HTTP/1.1\" 200 10\n",
      "127.0.0.1 - - [09/May/2018 23:28:10] \"GET / HTTP/1.1\" 304 0\n",
      "127.0.0.1 - - [09/May/2018 23:28:26] \"GET / HTTP/1.1\" 200 697\n",
      "127.0.0.1 - - [09/May/2018 23:28:40] \"GET / HTTP/1.1\" 200 710\n",
      "127.0.0.1 - - [09/May/2018 23:28:49] \"GET /echo/%E6%88%91%E6%98%AF%E4%B8%AD%E5%9B%BD%E4%BA%BA HTTP/1.1\" 200 20\n",
      "127.0.0.1 - - [09/May/2018 23:28:56] \"GET / HTTP/1.1\" 304 0\n",
      "127.0.0.1 - - [09/May/2018 23:29:04] \"GET /echo/%E6%88%91%E6%98%AF%E4%B8%AD%E5%9B%BD%E4%BA%BA HTTP/1.1\" 200 20\n",
      "127.0.0.1 - - [09/May/2018 23:29:25] \"GET / HTTP/1.1\" 200 726\n",
      "127.0.0.1 - - [09/May/2018 23:29:31] \"GET /echo/wo%20dfadsf HTTP/1.1\" 200 14\n",
      "127.0.0.1 - - [09/May/2018 23:29:35] \"GET /echo/wo%20dfadsf HTTP/1.1\" 200 14\n",
      "127.0.0.1 - - [09/May/2018 23:29:40] \"GET /echo/wo%20dfadsfasdf HTTP/1.1\" 200 18\n"
     ]
    }
   ],
   "source": [
    "from bottle import route, run, static_file\n",
    "\n",
    "@route('/')\n",
    "def main():\n",
    "    return static_file('index.html', root='.')\n",
    "@route('/echo/<thing>')\n",
    "def echo(thing):\n",
    "    return 'Echo:' + thing\n",
    "\n",
    "run(host=\"localhost\", port=9999)"
   ]
  },
  {
   "cell_type": "markdown",
   "metadata": {},
   "source": [
    "#### 9.2.5 Flask"
   ]
  },
  {
   "cell_type": "code",
   "execution_count": 3,
   "metadata": {},
   "outputs": [
    {
     "name": "stderr",
     "output_type": "stream",
     "text": [
      "127.0.0.1 - - [09/May/2018 23:42:30] \"GET / HTTP/1.1\" 200 -\n",
      "127.0.0.1 - - [09/May/2018 23:42:50] \"GET / HTTP/1.1\" 304 -\n",
      "127.0.0.1 - - [09/May/2018 23:44:00] \"GET / HTTP/1.1\" 200 -\n"
     ]
    }
   ],
   "source": [
    "from flask import Flask\n",
    "app = Flask(__name__, static_folder='.', static_url_path='')\n",
    "\n",
    "@app.route('/')\n",
    "def home():\n",
    "    return app.send_static_file('index.html')\n",
    "\n",
    "@app.route('/echo/<thing>')\n",
    "def echo(thing):\n",
    "    return 'Echo:' + thing\n",
    "\n",
    "app.run(port=9999)"
   ]
  },
  {
   "cell_type": "code",
   "execution_count": null,
   "metadata": {},
   "outputs": [
    {
     "name": "stderr",
     "output_type": "stream",
     "text": [
      "127.0.0.1 - - [09/May/2018 23:49:42] \"GET /echo/sofasdfad HTTP/1.1\" 200 -\n"
     ]
    }
   ],
   "source": [
    "from flask import Flask, render_template\n",
    "app = Flask(__name__, static_folder='.', static_url_path='')\n",
    "\n",
    "@app.route('/')\n",
    "def home():\n",
    "    return app.send_static_file('index.html')\n",
    "\n",
    "@app.route('/echo/<thing>')\n",
    "def echo(thing):\n",
    "    place = request.args.get('place')\n",
    "    return render_template('flask2.html', thing=thing, place=place)\n",
    "\n",
    "app.run(port=9999)"
   ]
  },
  {
   "cell_type": "code",
   "execution_count": null,
   "metadata": {},
   "outputs": [],
   "source": []
  }
 ],
 "metadata": {
  "kernelspec": {
   "display_name": "Python 3",
   "language": "python",
   "name": "python3"
  },
  "language_info": {
   "codemirror_mode": {
    "name": "ipython",
    "version": 3
   },
   "file_extension": ".py",
   "mimetype": "text/x-python",
   "name": "python",
   "nbconvert_exporter": "python",
   "pygments_lexer": "ipython3",
   "version": "3.6.4"
  }
 },
 "nbformat": 4,
 "nbformat_minor": 2
}
